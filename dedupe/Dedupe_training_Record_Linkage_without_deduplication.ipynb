{
  "cells": [
    {
      "cell_type": "code",
      "execution_count": null,
      "metadata": {
        "colab": {
          "base_uri": "https://localhost:8080/"
        },
        "id": "t6px0H5MUA2m",
        "outputId": "2e2f6e83-10aa-43cd-c4b4-20bd99b4f7c9"
      },
      "outputs": [
        {
          "output_type": "stream",
          "name": "stdout",
          "text": [
            "Looking in indexes: https://pypi.org/simple, https://us-python.pkg.dev/colab-wheels/public/simple/\n",
            "Collecting dedupe\n",
            "  Downloading dedupe-2.0.22-cp38-cp38-manylinux_2_5_x86_64.manylinux1_x86_64.manylinux_2_17_x86_64.manylinux2014_x86_64.whl (133 kB)\n",
            "\u001b[2K     \u001b[90m━━━━━━━━━━━━━━━━━━━━━━━━━━━━━━━━━━━━━━\u001b[0m \u001b[32m133.3/133.3 KB\u001b[0m \u001b[31m14.6 MB/s\u001b[0m eta \u001b[36m0:00:00\u001b[0m\n",
            "\u001b[?25hRequirement already satisfied: numpy>=1.20 in /usr/local/lib/python3.8/dist-packages (from dedupe) (1.21.6)\n",
            "Collecting highered>=0.2.0\n",
            "  Downloading highered-0.2.1-py2.py3-none-any.whl (3.3 kB)\n",
            "Collecting simplecosine>=1.2\n",
            "  Downloading simplecosine-1.2-py2.py3-none-any.whl (3.2 kB)\n",
            "Collecting categorical-distance>=1.9\n",
            "  Downloading categorical_distance-1.9-py3-none-any.whl (3.3 kB)\n",
            "Collecting BTrees>=4.1.4\n",
            "  Downloading BTrees-4.11.3-cp38-cp38-manylinux_2_5_x86_64.manylinux1_x86_64.manylinux_2_12_x86_64.manylinux2010_x86_64.whl (3.9 MB)\n",
            "\u001b[2K     \u001b[90m━━━━━━━━━━━━━━━━━━━━━━━━━━━━━━━━━━━━━━━━\u001b[0m \u001b[32m3.9/3.9 MB\u001b[0m \u001b[31m75.1 MB/s\u001b[0m eta \u001b[36m0:00:00\u001b[0m\n",
            "\u001b[?25hCollecting zope.index\n",
            "  Downloading zope.index-5.2.1-cp38-cp38-manylinux_2_5_x86_64.manylinux1_x86_64.manylinux_2_12_x86_64.manylinux2010_x86_64.whl (105 kB)\n",
            "\u001b[2K     \u001b[90m━━━━━━━━━━━━━━━━━━━━━━━━━━━━━━━━━━━━━━\u001b[0m \u001b[32m105.9/105.9 KB\u001b[0m \u001b[31m14.8 MB/s\u001b[0m eta \u001b[36m0:00:00\u001b[0m\n",
            "\u001b[?25hCollecting dedupe-Levenshtein-search\n",
            "  Downloading dedupe_Levenshtein_search-1.4.5-cp38-cp38-manylinux_2_17_x86_64.manylinux2014_x86_64.whl (63 kB)\n",
            "\u001b[2K     \u001b[90m━━━━━━━━━━━━━━━━━━━━━━━━━━━━━━━━━━━━━━━━\u001b[0m \u001b[32m63.5/63.5 KB\u001b[0m \u001b[31m8.5 MB/s\u001b[0m eta \u001b[36m0:00:00\u001b[0m\n",
            "\u001b[?25hRequirement already satisfied: typing-extensions in /usr/local/lib/python3.8/dist-packages (from dedupe) (4.4.0)\n",
            "Collecting haversine>=0.4.1\n",
            "  Downloading haversine-2.7.0-py2.py3-none-any.whl (6.9 kB)\n",
            "Collecting doublemetaphone\n",
            "  Downloading DoubleMetaphone-1.1-cp38-cp38-manylinux_2_5_x86_64.manylinux1_x86_64.manylinux_2_12_x86_64.manylinux2010_x86_64.whl (152 kB)\n",
            "\u001b[2K     \u001b[90m━━━━━━━━━━━━━━━━━━━━━━━━━━━━━━━━━━━━━━\u001b[0m \u001b[32m152.2/152.2 KB\u001b[0m \u001b[31m20.9 MB/s\u001b[0m eta \u001b[36m0:00:00\u001b[0m\n",
            "\u001b[?25hRequirement already satisfied: scikit-learn in /usr/local/lib/python3.8/dist-packages (from dedupe) (1.0.2)\n",
            "Collecting affinegap>=1.3\n",
            "  Downloading affinegap-1.12-cp38-cp38-manylinux_2_5_x86_64.manylinux1_x86_64.manylinux_2_12_x86_64.manylinux2010_x86_64.whl (56 kB)\n",
            "\u001b[2K     \u001b[90m━━━━━━━━━━━━━━━━━━━━━━━━━━━━━━━━━━━━━━━━\u001b[0m \u001b[32m57.0/57.0 KB\u001b[0m \u001b[31m7.5 MB/s\u001b[0m eta \u001b[36m0:00:00\u001b[0m\n",
            "\u001b[?25hCollecting dedupe-variable-datetime\n",
            "  Downloading dedupe_variable_datetime-1.0.0-py3-none-any.whl (3.9 kB)\n",
            "Collecting persistent>=4.1.0\n",
            "  Downloading persistent-5.0-cp38-cp38-manylinux_2_5_x86_64.manylinux1_x86_64.manylinux_2_17_x86_64.manylinux2014_x86_64.whl (233 kB)\n",
            "\u001b[2K     \u001b[90m━━━━━━━━━━━━━━━━━━━━━━━━━━━━━━━━━━━━━━━\u001b[0m \u001b[32m233.1/233.1 KB\u001b[0m \u001b[31m3.1 MB/s\u001b[0m eta \u001b[36m0:00:00\u001b[0m\n",
            "\u001b[?25hCollecting zope.interface>=5.0.0\n",
            "  Downloading zope.interface-5.5.2-cp38-cp38-manylinux_2_5_x86_64.manylinux1_x86_64.manylinux_2_12_x86_64.manylinux2010_x86_64.whl (261 kB)\n",
            "\u001b[2K     \u001b[90m━━━━━━━━━━━━━━━━━━━━━━━━━━━━━━━━━━━━━━\u001b[0m \u001b[32m261.4/261.4 KB\u001b[0m \u001b[31m30.4 MB/s\u001b[0m eta \u001b[36m0:00:00\u001b[0m\n",
            "\u001b[?25hCollecting pyhacrf-datamade>=0.2.0\n",
            "  Downloading pyhacrf_datamade-0.2.6-cp38-cp38-manylinux_2_17_x86_64.manylinux2014_x86_64.whl (1.1 MB)\n",
            "\u001b[2K     \u001b[90m━━━━━━━━━━━━━━━━━━━━━━━━━━━━━━━━━━━━━━━━\u001b[0m \u001b[32m1.1/1.1 MB\u001b[0m \u001b[31m63.5 MB/s\u001b[0m eta \u001b[36m0:00:00\u001b[0m\n",
            "\u001b[?25hCollecting dedupe-variable-datetime\n",
            "  Downloading dedupe_variable_datetime-0.1.5-py3-none-any.whl (4.8 kB)\n",
            "Requirement already satisfied: future in /usr/local/lib/python3.8/dist-packages (from dedupe-variable-datetime->dedupe) (0.16.0)\n",
            "Collecting datetime-distance\n",
            "  Downloading datetime_distance-0.1.3-py3-none-any.whl (4.1 kB)\n",
            "Requirement already satisfied: scipy>=1.1.0 in /usr/local/lib/python3.8/dist-packages (from scikit-learn->dedupe) (1.7.3)\n",
            "Requirement already satisfied: joblib>=0.11 in /usr/local/lib/python3.8/dist-packages (from scikit-learn->dedupe) (1.2.0)\n",
            "Requirement already satisfied: threadpoolctl>=2.0.0 in /usr/local/lib/python3.8/dist-packages (from scikit-learn->dedupe) (3.1.0)\n",
            "Requirement already satisfied: setuptools in /usr/local/lib/python3.8/dist-packages (from zope.index->dedupe) (57.4.0)\n",
            "Requirement already satisfied: six in /usr/local/lib/python3.8/dist-packages (from zope.index->dedupe) (1.15.0)\n",
            "Requirement already satisfied: cffi in /usr/local/lib/python3.8/dist-packages (from persistent>=4.1.0->BTrees>=4.1.4->dedupe) (1.15.1)\n",
            "Collecting PyLBFGS>=0.1.3\n",
            "  Downloading PyLBFGS-0.2.0.14-cp38-cp38-manylinux_2_5_x86_64.manylinux1_x86_64.manylinux_2_12_x86_64.manylinux2010_x86_64.whl (284 kB)\n",
            "\u001b[2K     \u001b[90m━━━━━━━━━━━━━━━━━━━━━━━━━━━━━━━━━━━━━━\u001b[0m \u001b[32m284.7/284.7 KB\u001b[0m \u001b[31m14.3 MB/s\u001b[0m eta \u001b[36m0:00:00\u001b[0m\n",
            "\u001b[?25hRequirement already satisfied: python-dateutil>=2.6.0 in /usr/local/lib/python3.8/dist-packages (from datetime-distance->dedupe-variable-datetime->dedupe) (2.8.2)\n",
            "Requirement already satisfied: pycparser in /usr/local/lib/python3.8/dist-packages (from cffi->persistent>=4.1.0->BTrees>=4.1.4->dedupe) (2.21)\n",
            "Installing collected packages: doublemetaphone, dedupe-Levenshtein-search, affinegap, zope.interface, simplecosine, PyLBFGS, haversine, categorical-distance, pyhacrf-datamade, persistent, datetime-distance, highered, BTrees, zope.index, dedupe-variable-datetime, dedupe\n",
            "Successfully installed BTrees-4.11.3 PyLBFGS-0.2.0.14 affinegap-1.12 categorical-distance-1.9 datetime-distance-0.1.3 dedupe-2.0.22 dedupe-Levenshtein-search-1.4.5 dedupe-variable-datetime-0.1.5 doublemetaphone-1.1 haversine-2.7.0 highered-0.2.1 persistent-5.0 pyhacrf-datamade-0.2.6 simplecosine-1.2 zope.index-5.2.1 zope.interface-5.5.2\n"
          ]
        }
      ],
      "source": [
        "!pip install dedupe"
      ]
    },
    {
      "cell_type": "code",
      "execution_count": null,
      "metadata": {
        "colab": {
          "base_uri": "https://localhost:8080/"
        },
        "id": "1k52uwiQVK-w",
        "outputId": "fae274a5-e405-4c75-fc56-b9ff271901b1"
      },
      "outputs": [
        {
          "output_type": "stream",
          "name": "stdout",
          "text": [
            "Looking in indexes: https://pypi.org/simple, https://us-python.pkg.dev/colab-wheels/public/simple/\n",
            "Collecting unidecode\n",
            "  Downloading Unidecode-1.3.6-py3-none-any.whl (235 kB)\n",
            "\u001b[2K     \u001b[90m━━━━━━━━━━━━━━━━━━━━━━━━━━━━━━━━━━━━━━\u001b[0m \u001b[32m235.9/235.9 KB\u001b[0m \u001b[31m16.1 MB/s\u001b[0m eta \u001b[36m0:00:00\u001b[0m\n",
            "\u001b[?25hInstalling collected packages: unidecode\n",
            "Successfully installed unidecode-1.3.6\n"
          ]
        }
      ],
      "source": [
        "!pip install unidecode"
      ]
    },
    {
      "cell_type": "code",
      "execution_count": null,
      "metadata": {
        "id": "1x7VgEw7VOkI"
      },
      "outputs": [],
      "source": [
        "import os\n",
        "import csv\n",
        "import re\n",
        "import logging\n",
        "import optparse\n",
        "\n",
        "import dedupe\n",
        "from unidecode import unidecode"
      ]
    },
    {
      "cell_type": "code",
      "execution_count": null,
      "metadata": {
        "id": "X4TAu4CmVQV_"
      },
      "outputs": [],
      "source": [
        "def preProcess(column):\n",
        "\n",
        "  column = unidecode(column)\n",
        "  column = re.sub('\\n', ' ', column)\n",
        "  column = re.sub('-', '', column)\n",
        "  column = re.sub('/', ' ', column)\n",
        "  column = re.sub(\"'\", '', column)\n",
        "  column = re.sub(\",\", '', column)\n",
        "  column = re.sub(\":\", ' ', column)\n",
        "  column = re.sub('  +', ' ', column)\n",
        "  column = column.strip().strip('\"').strip(\"'\").lower().strip()\n",
        "  if not column:\n",
        "    column = None\n",
        "  return column\n",
        "\n",
        "def readData(filename):\n",
        "\n",
        "  data_d = {}\n",
        "\n",
        "  with open(filename, encoding = \"ISO-8859-1\") as f:\n",
        "    reader = csv.DictReader(f)\n",
        "    for i, row in enumerate(reader):\n",
        "      clean_row = dict([(k, preProcess(v)) for (k, v) in row.items()])\n",
        "      if clean_row['price']:\n",
        "        clean_row['price'] = float(clean_row['price'][1:])\n",
        "      data_d[clean_row['id']] = dict(clean_row)\n",
        "\n",
        "  return data_d\n"
      ]
    },
    {
      "cell_type": "code",
      "source": [
        "def generate_train_test_data(file1):\n",
        "  abt_train = file1 + \"/abt_train.csv\"\n",
        "  abt_test = file1 + \"/abt_test.csv\"\n",
        "\n",
        "  buy_train = file1 + \"/buy_train.csv\"\n",
        "  buy_test = file1 + \"/buy_test.csv\"\n",
        "\n",
        "  data_abt_train = readData(abt_train)\n",
        "  data_abt_test = readData(abt_test)\n",
        "\n",
        "  data_buy_train = readData(buy_train)\n",
        "  data_buy_test = readData(buy_test)\n",
        "\n",
        "  return data_abt_train, data_abt_test, data_buy_train, data_buy_test"
      ],
      "metadata": {
        "id": "S3UH5chMX6mV"
      },
      "execution_count": null,
      "outputs": []
    },
    {
      "cell_type": "code",
      "source": [
        "data_abt_train, data_abt_test, data_buy_train, data_buy_test = generate_train_test_data(\"/content/drive/MyDrive/dedupe/21-14\")"
      ],
      "metadata": {
        "id": "-XxhZvkoYciv"
      },
      "execution_count": null,
      "outputs": []
    },
    {
      "cell_type": "code",
      "execution_count": null,
      "metadata": {
        "id": "L_nlsToHVSxu"
      },
      "outputs": [],
      "source": [
        "# left_file = \"/content/drive/MyDrive/RLTK/Abt.csv\"\n",
        "# right_file = \"/content/drive/MyDrive/RLTK/Buy.csv\""
      ]
    },
    {
      "cell_type": "code",
      "execution_count": null,
      "metadata": {
        "colab": {
          "base_uri": "https://localhost:8080/"
        },
        "id": "5rV1hWUmVWqH",
        "outputId": "8acb12d2-600f-483e-9117-6a8e1f92ca7a"
      },
      "outputs": [
        {
          "name": "stdout",
          "output_type": "stream",
          "text": [
            "importing data ...\n"
          ]
        }
      ],
      "source": [
        "# print('importing data ...')\n",
        "# data_1 = readData(left_file)\n",
        "# data_2 = readData(right_file)"
      ]
    },
    {
      "cell_type": "code",
      "execution_count": null,
      "metadata": {
        "id": "R8PeCq5IVbtu"
      },
      "outputs": [],
      "source": [
        "def descriptions():\n",
        "  for dataset in (data_abt_train, data_buy_train):\n",
        "    for record in dataset.values():\n",
        "      yield record['description']"
      ]
    },
    {
      "cell_type": "code",
      "execution_count": null,
      "metadata": {
        "id": "pKCQ5tTcVmqY"
      },
      "outputs": [],
      "source": [
        "fields = [\n",
        "            {'field': 'name', 'type': 'String'},\n",
        "            {'field': 'name', 'type': 'Text', 'corpus': descriptions()},\n",
        "            {'field': 'description', 'type': 'Text',\n",
        "             'has missing': True, 'corpus': descriptions()},\n",
        "            {'field': 'price', 'type': 'Price', 'has missing': True}]"
      ]
    },
    {
      "cell_type": "code",
      "execution_count": null,
      "metadata": {
        "id": "PEfkXpVsVo2o"
      },
      "outputs": [],
      "source": [
        "linker = dedupe.RecordLink(fields)"
      ]
    },
    {
      "cell_type": "code",
      "execution_count": null,
      "metadata": {
        "colab": {
          "base_uri": "https://localhost:8080/"
        },
        "id": "maU_I1noSyJT",
        "outputId": "f7f0a333-def3-4ed0-d61d-808f9b9afdb7"
      },
      "outputs": [
        {
          "name": "stdout",
          "output_type": "stream",
          "text": [
            "reading from /content/drive/MyDrive/dedupe/10-8/settings_file\n"
          ]
        }
      ],
      "source": [
        "# settings_file = \"/content/drive/MyDrive/dedupe/21-14/settings_file\"\n",
        "\n",
        "# if os.path.exists(settings_file):\n",
        "#   print('reading from', settings_file)\n",
        "#   with open(settings_file, 'rb') as sf:\n",
        "#       linker = dedupe.StaticRecordLink(sf)"
      ]
    },
    {
      "cell_type": "code",
      "source": [
        "len(data_abt_train), len(data_abt_test), len(data_buy_train), len(data_buy_test)"
      ],
      "metadata": {
        "colab": {
          "base_uri": "https://localhost:8080/"
        },
        "id": "eENyF-tpZrdA",
        "outputId": "7e743edc-5e5a-4851-c7b0-53adc7ad6b67"
      },
      "execution_count": null,
      "outputs": [
        {
          "output_type": "execute_result",
          "data": {
            "text/plain": [
              "(349, 732, 352, 740)"
            ]
          },
          "metadata": {},
          "execution_count": 10
        }
      ]
    },
    {
      "cell_type": "code",
      "execution_count": null,
      "metadata": {
        "colab": {
          "base_uri": "https://localhost:8080/"
        },
        "id": "zmKoARhZVq6Z",
        "outputId": "bcc3caa9-c787-4775-9391-7933011f277b"
      },
      "outputs": [
        {
          "output_type": "stream",
          "name": "stdout",
          "text": [
            "Preparing Training: 4.858708381652832\n"
          ]
        }
      ],
      "source": [
        "import time\n",
        "start_time = time.time()\n",
        "\n",
        "with open(\"/content/drive/MyDrive/dedupe/21-14/training_file\") as tf:\n",
        "\n",
        "  linker.prepare_training(data_abt_train, data_buy_train,\n",
        "                        training_file=tf)\n",
        "print(\"Preparing Training:\",(time.time()-start_time))"
      ]
    },
    {
      "cell_type": "code",
      "execution_count": null,
      "metadata": {
        "id": "G_yB_NLCQN-f"
      },
      "outputs": [],
      "source": [
        "# linker.prepare_training(data_1, data_2, sample_size=15000)"
      ]
    },
    {
      "cell_type": "code",
      "execution_count": null,
      "metadata": {
        "id": "iK7YlH1WPdc1"
      },
      "outputs": [],
      "source": [
        "# dedupe.console_label(linker)"
      ]
    },
    {
      "cell_type": "code",
      "execution_count": null,
      "metadata": {
        "colab": {
          "base_uri": "https://localhost:8080/"
        },
        "id": "JnY4xrH2Vx2n",
        "outputId": "151abaaa-4c63-4d01-9f52-e23934230bf0"
      },
      "outputs": [
        {
          "output_type": "stream",
          "name": "stdout",
          "text": [
            "Preparing Training: 2.2549567222595215\n"
          ]
        }
      ],
      "source": [
        "import time\n",
        "\n",
        "start_time = time.time()\n",
        "\n",
        "linker.train()\n",
        "print(\"Preparing Training:\",(time.time()-start_time))"
      ]
    },
    {
      "cell_type": "code",
      "execution_count": null,
      "metadata": {
        "id": "I97Jk-OSkhDm"
      },
      "outputs": [],
      "source": [
        "# with open(\"/content/drive/MyDrive/dedupe/21-14/training_file\", 'w') as tf:\n",
        "#   linker.write_training(tf)\n",
        "\n",
        "with open(\"/content/drive/MyDrive/dedupe/21-14/settings_file\", 'wb') as sf:\n",
        "  linker.write_settings(sf)"
      ]
    },
    {
      "cell_type": "code",
      "execution_count": null,
      "metadata": {
        "id": "BHuEc7EXV1FP",
        "colab": {
          "base_uri": "https://localhost:8080/"
        },
        "outputId": "f9fe2920-ab96-45ff-a4f8-2aea3e107a67"
      },
      "outputs": [
        {
          "output_type": "stream",
          "name": "stdout",
          "text": [
            "Clustering: 1.2124402523040771\n"
          ]
        }
      ],
      "source": [
        "start_time = time.time()\n",
        "\n",
        "linked_records = linker.join(data_abt_test, data_buy_test, 0.3)\n",
        "\n",
        "print(\"Clustering:\",(time.time()-start_time))"
      ]
    },
    {
      "cell_type": "code",
      "execution_count": null,
      "metadata": {
        "colab": {
          "base_uri": "https://localhost:8080/"
        },
        "id": "UloGN6JDV4_G",
        "outputId": "a1b76eb8-4d48-4824-aa0f-a311431950a4"
      },
      "outputs": [
        {
          "output_type": "execute_result",
          "data": {
            "text/plain": [
              "457"
            ]
          },
          "metadata": {},
          "execution_count": 15
        }
      ],
      "source": [
        "len(linked_records)"
      ]
    },
    {
      "cell_type": "code",
      "execution_count": null,
      "metadata": {
        "id": "s3ezstH0lVoP"
      },
      "outputs": [],
      "source": [
        "cluster_membership = {}\n",
        "for cluster_id, (cluster, score) in enumerate(linked_records):\n",
        "  for record_id in cluster:\n",
        "    cluster_membership[record_id] = {'Cluster ID': cluster_id,\n",
        "                                      'Link Score': score}"
      ]
    },
    {
      "cell_type": "code",
      "execution_count": null,
      "metadata": {
        "id": "OKYUdz4hnwi-"
      },
      "outputs": [],
      "source": [
        "cluster_membership"
      ]
    },
    {
      "cell_type": "code",
      "execution_count": null,
      "metadata": {
        "colab": {
          "base_uri": "https://localhost:8080/"
        },
        "id": "rvACtcRDoMEc",
        "outputId": "ca08b622-7f6a-42ac-97a5-4ebc4b263a12"
      },
      "outputs": [
        {
          "output_type": "execute_result",
          "data": {
            "text/plain": [
              "(914, 914)"
            ]
          },
          "metadata": {},
          "execution_count": 17
        }
      ],
      "source": [
        "len(list(cluster_membership.keys())),len(set(list(cluster_membership.keys())))"
      ]
    },
    {
      "cell_type": "code",
      "execution_count": null,
      "metadata": {
        "id": "vXHircNLoemv"
      },
      "outputs": [],
      "source": [
        "total_cluster = []\n",
        "for i,v in cluster_membership.items():\n",
        "  total_cluster.append(v['Cluster ID'])"
      ]
    },
    {
      "cell_type": "code",
      "execution_count": null,
      "metadata": {
        "colab": {
          "base_uri": "https://localhost:8080/"
        },
        "id": "veEicl9ioz94",
        "outputId": "ee07973a-6f6e-4b07-d8a8-fe72c001edac"
      },
      "outputs": [
        {
          "output_type": "execute_result",
          "data": {
            "text/plain": [
              "(914, 457)"
            ]
          },
          "metadata": {},
          "execution_count": 19
        }
      ],
      "source": [
        "len(total_cluster), len(set(total_cluster))"
      ]
    },
    {
      "cell_type": "code",
      "execution_count": null,
      "metadata": {
        "id": "xnCbRD1gV7in"
      },
      "outputs": [],
      "source": [
        "with open(\"/content/drive/MyDrive/dedupe/21-14/output_file.csv\", 'w') as f:\n",
        "\n",
        "  header_unwritten = True\n",
        "\n",
        "  for fileno, filename in enumerate((\"/content/drive/MyDrive/dedupe/21-14/buy_test.csv\", \"/content/drive/MyDrive/dedupe/21-14/abt_test.csv\")):\n",
        "    with open(filename, encoding= \"ISO-8859-1\") as f_input:\n",
        "      reader = csv.DictReader(f_input)\n",
        "\n",
        "      if header_unwritten:\n",
        "\n",
        "        fieldnames = (['Cluster ID', 'Link Score', 'source file'] +\n",
        "                      reader.fieldnames)\n",
        "\n",
        "        writer = csv.DictWriter(f, fieldnames=fieldnames)\n",
        "        writer.writeheader()\n",
        "\n",
        "        header_unwritten = False\n",
        "\n",
        "      for row_id, row in enumerate(reader):\n",
        "\n",
        "        record_id = str(row['id'])\n",
        "        cluster_details = cluster_membership.get(record_id, {})\n",
        "        # print(cluster_details)\n",
        "        row['source file'] = fileno\n",
        "        row.update(cluster_details)\n",
        "\n",
        "        writer.writerow(row)\n"
      ]
    },
    {
      "cell_type": "code",
      "execution_count": null,
      "metadata": {
        "id": "LxGodqugVjRA"
      },
      "outputs": [],
      "source": [
        "import pandas as pd\n",
        "\n",
        "out = pd.read_csv(\"/content/drive/MyDrive/dedupe/21-14/output_file.csv\")"
      ]
    },
    {
      "cell_type": "code",
      "execution_count": null,
      "metadata": {
        "colab": {
          "base_uri": "https://localhost:8080/",
          "height": 1000
        },
        "id": "SLAUej2OnlLr",
        "outputId": "c9e06837-18d1-43f6-9952-d2d703170403"
      },
      "outputs": [
        {
          "output_type": "execute_result",
          "data": {
            "text/plain": [
              "      Cluster ID  Link Score  source file        id  \\\n",
              "0          163.0    0.871543            0  10011646   \n",
              "1          393.0    0.531071            0  10140760   \n",
              "2          446.0    0.337337            0  10221960   \n",
              "3          279.0    0.748726            0  10246269   \n",
              "4          103.0    0.905290            0  10316920   \n",
              "...          ...         ...          ...       ...   \n",
              "1467         NaN         NaN            1     39039   \n",
              "1468       439.0    0.360535            1     39054   \n",
              "1469       314.0    0.679097            1     39088   \n",
              "1470         NaN         NaN            1     39090   \n",
              "1471       207.0    0.835104            1     39179   \n",
              "\n",
              "                                                   name  \\\n",
              "0     Linksys EtherFast EZXS88W Ethernet Switch - EZ...   \n",
              "1             Linksys EtherFast EZXS55W Ethernet Switch   \n",
              "2       Netgear ProSafe FS105 Ethernet Switch - FS105NA   \n",
              "3     Belkin Pro Series High Integrity VGA/SVGA Moni...   \n",
              "4               LaCie Pocket Floppy Disk Drive - 706018   \n",
              "...                                                 ...   \n",
              "1467  Garmin Nuvi 885T GPS Navigation System - 01000...   \n",
              "1468  OmniMount 37' - 63' Ultra Low Profile Series L...   \n",
              "1469  Logitech Cordless Desktop Wave Keyboard And Mo...   \n",
              "1470             Mitsubishi DLP Black TV Stand - MBS73V   \n",
              "1471         Linksys Wireless-G Range Expander - WRE54G   \n",
              "\n",
              "                                            description manufacturer    price  \n",
              "0     Linksys EtherFast 8-Port 10/100 Switch (New/Wo...      LINKSYS      NaN  \n",
              "1                                 5 x 10/100Base-TX LAN      LINKSYS      NaN  \n",
              "2     NETGEAR FS105 Prosafe 5 Port 10/100 Desktop Sw...      Netgear      NaN  \n",
              "3                  1 x HD-15 - 1 x HD-15 - 10ft - Beige       Belkin      NaN  \n",
              "4                       LaCie Pocket USB Floppy 1.44 MB        LACIE      NaN  \n",
              "...                                                 ...          ...      ...  \n",
              "1467  Garmin Nuvi 885T GPS Navigation System - 01000...          NaN  $799.00  \n",
              "1468  OmniMount 37' - 63' Ultra Low Profile Series L...          NaN      NaN  \n",
              "1469  Logitech Cordless Desktop Wave Keyboard And Mo...          NaN   $79.00  \n",
              "1470  Mitsubishi DLP Black TV Stand - MBS73V/ Matchi...          NaN  $549.00  \n",
              "1471  Linksys Wireless-G Range Expander - WRE54G/ Su...          NaN   $99.00  \n",
              "\n",
              "[1472 rows x 8 columns]"
            ],
            "text/html": [
              "\n",
              "  <div id=\"df-5ede0b5c-577b-442c-8a67-b31025ee68e5\">\n",
              "    <div class=\"colab-df-container\">\n",
              "      <div>\n",
              "<style scoped>\n",
              "    .dataframe tbody tr th:only-of-type {\n",
              "        vertical-align: middle;\n",
              "    }\n",
              "\n",
              "    .dataframe tbody tr th {\n",
              "        vertical-align: top;\n",
              "    }\n",
              "\n",
              "    .dataframe thead th {\n",
              "        text-align: right;\n",
              "    }\n",
              "</style>\n",
              "<table border=\"1\" class=\"dataframe\">\n",
              "  <thead>\n",
              "    <tr style=\"text-align: right;\">\n",
              "      <th></th>\n",
              "      <th>Cluster ID</th>\n",
              "      <th>Link Score</th>\n",
              "      <th>source file</th>\n",
              "      <th>id</th>\n",
              "      <th>name</th>\n",
              "      <th>description</th>\n",
              "      <th>manufacturer</th>\n",
              "      <th>price</th>\n",
              "    </tr>\n",
              "  </thead>\n",
              "  <tbody>\n",
              "    <tr>\n",
              "      <th>0</th>\n",
              "      <td>163.0</td>\n",
              "      <td>0.871543</td>\n",
              "      <td>0</td>\n",
              "      <td>10011646</td>\n",
              "      <td>Linksys EtherFast EZXS88W Ethernet Switch - EZ...</td>\n",
              "      <td>Linksys EtherFast 8-Port 10/100 Switch (New/Wo...</td>\n",
              "      <td>LINKSYS</td>\n",
              "      <td>NaN</td>\n",
              "    </tr>\n",
              "    <tr>\n",
              "      <th>1</th>\n",
              "      <td>393.0</td>\n",
              "      <td>0.531071</td>\n",
              "      <td>0</td>\n",
              "      <td>10140760</td>\n",
              "      <td>Linksys EtherFast EZXS55W Ethernet Switch</td>\n",
              "      <td>5 x 10/100Base-TX LAN</td>\n",
              "      <td>LINKSYS</td>\n",
              "      <td>NaN</td>\n",
              "    </tr>\n",
              "    <tr>\n",
              "      <th>2</th>\n",
              "      <td>446.0</td>\n",
              "      <td>0.337337</td>\n",
              "      <td>0</td>\n",
              "      <td>10221960</td>\n",
              "      <td>Netgear ProSafe FS105 Ethernet Switch - FS105NA</td>\n",
              "      <td>NETGEAR FS105 Prosafe 5 Port 10/100 Desktop Sw...</td>\n",
              "      <td>Netgear</td>\n",
              "      <td>NaN</td>\n",
              "    </tr>\n",
              "    <tr>\n",
              "      <th>3</th>\n",
              "      <td>279.0</td>\n",
              "      <td>0.748726</td>\n",
              "      <td>0</td>\n",
              "      <td>10246269</td>\n",
              "      <td>Belkin Pro Series High Integrity VGA/SVGA Moni...</td>\n",
              "      <td>1 x HD-15 - 1 x HD-15 - 10ft - Beige</td>\n",
              "      <td>Belkin</td>\n",
              "      <td>NaN</td>\n",
              "    </tr>\n",
              "    <tr>\n",
              "      <th>4</th>\n",
              "      <td>103.0</td>\n",
              "      <td>0.905290</td>\n",
              "      <td>0</td>\n",
              "      <td>10316920</td>\n",
              "      <td>LaCie Pocket Floppy Disk Drive - 706018</td>\n",
              "      <td>LaCie Pocket USB Floppy 1.44 MB</td>\n",
              "      <td>LACIE</td>\n",
              "      <td>NaN</td>\n",
              "    </tr>\n",
              "    <tr>\n",
              "      <th>...</th>\n",
              "      <td>...</td>\n",
              "      <td>...</td>\n",
              "      <td>...</td>\n",
              "      <td>...</td>\n",
              "      <td>...</td>\n",
              "      <td>...</td>\n",
              "      <td>...</td>\n",
              "      <td>...</td>\n",
              "    </tr>\n",
              "    <tr>\n",
              "      <th>1467</th>\n",
              "      <td>NaN</td>\n",
              "      <td>NaN</td>\n",
              "      <td>1</td>\n",
              "      <td>39039</td>\n",
              "      <td>Garmin Nuvi 885T GPS Navigation System - 01000...</td>\n",
              "      <td>Garmin Nuvi 885T GPS Navigation System - 01000...</td>\n",
              "      <td>NaN</td>\n",
              "      <td>$799.00</td>\n",
              "    </tr>\n",
              "    <tr>\n",
              "      <th>1468</th>\n",
              "      <td>439.0</td>\n",
              "      <td>0.360535</td>\n",
              "      <td>1</td>\n",
              "      <td>39054</td>\n",
              "      <td>OmniMount 37' - 63' Ultra Low Profile Series L...</td>\n",
              "      <td>OmniMount 37' - 63' Ultra Low Profile Series L...</td>\n",
              "      <td>NaN</td>\n",
              "      <td>NaN</td>\n",
              "    </tr>\n",
              "    <tr>\n",
              "      <th>1469</th>\n",
              "      <td>314.0</td>\n",
              "      <td>0.679097</td>\n",
              "      <td>1</td>\n",
              "      <td>39088</td>\n",
              "      <td>Logitech Cordless Desktop Wave Keyboard And Mo...</td>\n",
              "      <td>Logitech Cordless Desktop Wave Keyboard And Mo...</td>\n",
              "      <td>NaN</td>\n",
              "      <td>$79.00</td>\n",
              "    </tr>\n",
              "    <tr>\n",
              "      <th>1470</th>\n",
              "      <td>NaN</td>\n",
              "      <td>NaN</td>\n",
              "      <td>1</td>\n",
              "      <td>39090</td>\n",
              "      <td>Mitsubishi DLP Black TV Stand - MBS73V</td>\n",
              "      <td>Mitsubishi DLP Black TV Stand - MBS73V/ Matchi...</td>\n",
              "      <td>NaN</td>\n",
              "      <td>$549.00</td>\n",
              "    </tr>\n",
              "    <tr>\n",
              "      <th>1471</th>\n",
              "      <td>207.0</td>\n",
              "      <td>0.835104</td>\n",
              "      <td>1</td>\n",
              "      <td>39179</td>\n",
              "      <td>Linksys Wireless-G Range Expander - WRE54G</td>\n",
              "      <td>Linksys Wireless-G Range Expander - WRE54G/ Su...</td>\n",
              "      <td>NaN</td>\n",
              "      <td>$99.00</td>\n",
              "    </tr>\n",
              "  </tbody>\n",
              "</table>\n",
              "<p>1472 rows × 8 columns</p>\n",
              "</div>\n",
              "      <button class=\"colab-df-convert\" onclick=\"convertToInteractive('df-5ede0b5c-577b-442c-8a67-b31025ee68e5')\"\n",
              "              title=\"Convert this dataframe to an interactive table.\"\n",
              "              style=\"display:none;\">\n",
              "        \n",
              "  <svg xmlns=\"http://www.w3.org/2000/svg\" height=\"24px\"viewBox=\"0 0 24 24\"\n",
              "       width=\"24px\">\n",
              "    <path d=\"M0 0h24v24H0V0z\" fill=\"none\"/>\n",
              "    <path d=\"M18.56 5.44l.94 2.06.94-2.06 2.06-.94-2.06-.94-.94-2.06-.94 2.06-2.06.94zm-11 1L8.5 8.5l.94-2.06 2.06-.94-2.06-.94L8.5 2.5l-.94 2.06-2.06.94zm10 10l.94 2.06.94-2.06 2.06-.94-2.06-.94-.94-2.06-.94 2.06-2.06.94z\"/><path d=\"M17.41 7.96l-1.37-1.37c-.4-.4-.92-.59-1.43-.59-.52 0-1.04.2-1.43.59L10.3 9.45l-7.72 7.72c-.78.78-.78 2.05 0 2.83L4 21.41c.39.39.9.59 1.41.59.51 0 1.02-.2 1.41-.59l7.78-7.78 2.81-2.81c.8-.78.8-2.07 0-2.86zM5.41 20L4 18.59l7.72-7.72 1.47 1.35L5.41 20z\"/>\n",
              "  </svg>\n",
              "      </button>\n",
              "      \n",
              "  <style>\n",
              "    .colab-df-container {\n",
              "      display:flex;\n",
              "      flex-wrap:wrap;\n",
              "      gap: 12px;\n",
              "    }\n",
              "\n",
              "    .colab-df-convert {\n",
              "      background-color: #E8F0FE;\n",
              "      border: none;\n",
              "      border-radius: 50%;\n",
              "      cursor: pointer;\n",
              "      display: none;\n",
              "      fill: #1967D2;\n",
              "      height: 32px;\n",
              "      padding: 0 0 0 0;\n",
              "      width: 32px;\n",
              "    }\n",
              "\n",
              "    .colab-df-convert:hover {\n",
              "      background-color: #E2EBFA;\n",
              "      box-shadow: 0px 1px 2px rgba(60, 64, 67, 0.3), 0px 1px 3px 1px rgba(60, 64, 67, 0.15);\n",
              "      fill: #174EA6;\n",
              "    }\n",
              "\n",
              "    [theme=dark] .colab-df-convert {\n",
              "      background-color: #3B4455;\n",
              "      fill: #D2E3FC;\n",
              "    }\n",
              "\n",
              "    [theme=dark] .colab-df-convert:hover {\n",
              "      background-color: #434B5C;\n",
              "      box-shadow: 0px 1px 3px 1px rgba(0, 0, 0, 0.15);\n",
              "      filter: drop-shadow(0px 1px 2px rgba(0, 0, 0, 0.3));\n",
              "      fill: #FFFFFF;\n",
              "    }\n",
              "  </style>\n",
              "\n",
              "      <script>\n",
              "        const buttonEl =\n",
              "          document.querySelector('#df-5ede0b5c-577b-442c-8a67-b31025ee68e5 button.colab-df-convert');\n",
              "        buttonEl.style.display =\n",
              "          google.colab.kernel.accessAllowed ? 'block' : 'none';\n",
              "\n",
              "        async function convertToInteractive(key) {\n",
              "          const element = document.querySelector('#df-5ede0b5c-577b-442c-8a67-b31025ee68e5');\n",
              "          const dataTable =\n",
              "            await google.colab.kernel.invokeFunction('convertToInteractive',\n",
              "                                                     [key], {});\n",
              "          if (!dataTable) return;\n",
              "\n",
              "          const docLinkHtml = 'Like what you see? Visit the ' +\n",
              "            '<a target=\"_blank\" href=https://colab.research.google.com/notebooks/data_table.ipynb>data table notebook</a>'\n",
              "            + ' to learn more about interactive tables.';\n",
              "          element.innerHTML = '';\n",
              "          dataTable['output_type'] = 'display_data';\n",
              "          await google.colab.output.renderOutput(dataTable, element);\n",
              "          const docLink = document.createElement('div');\n",
              "          docLink.innerHTML = docLinkHtml;\n",
              "          element.appendChild(docLink);\n",
              "        }\n",
              "      </script>\n",
              "    </div>\n",
              "  </div>\n",
              "  "
            ]
          },
          "metadata": {},
          "execution_count": 25
        }
      ],
      "source": [
        "out"
      ]
    },
    {
      "cell_type": "code",
      "execution_count": null,
      "metadata": {
        "colab": {
          "base_uri": "https://localhost:8080/",
          "height": 300
        },
        "id": "Ldb_M9UMnmIw",
        "outputId": "45389880-3cb3-4bd5-dd10-48f852543752"
      },
      "outputs": [
        {
          "output_type": "execute_result",
          "data": {
            "text/plain": [
              "       Cluster ID  Link Score  source file            id\n",
              "count  914.000000  914.000000  1472.000000  1.472000e+03\n",
              "mean   228.000000    0.755235     0.497283  9.795060e+07\n",
              "std    131.996449    0.178355     0.500163  1.015951e+08\n",
              "min      0.000000    0.311030     0.000000  4.696000e+03\n",
              "25%    114.000000    0.642694     0.000000  3.385500e+04\n",
              "50%    228.000000    0.806076     0.000000  1.028159e+07\n",
              "75%    342.000000    0.898845     1.000000  2.069205e+08\n",
              "max    456.000000    0.981909     1.000000  2.106478e+08"
            ],
            "text/html": [
              "\n",
              "  <div id=\"df-b501044e-ceb1-477e-ac30-77f3b4b9b95d\">\n",
              "    <div class=\"colab-df-container\">\n",
              "      <div>\n",
              "<style scoped>\n",
              "    .dataframe tbody tr th:only-of-type {\n",
              "        vertical-align: middle;\n",
              "    }\n",
              "\n",
              "    .dataframe tbody tr th {\n",
              "        vertical-align: top;\n",
              "    }\n",
              "\n",
              "    .dataframe thead th {\n",
              "        text-align: right;\n",
              "    }\n",
              "</style>\n",
              "<table border=\"1\" class=\"dataframe\">\n",
              "  <thead>\n",
              "    <tr style=\"text-align: right;\">\n",
              "      <th></th>\n",
              "      <th>Cluster ID</th>\n",
              "      <th>Link Score</th>\n",
              "      <th>source file</th>\n",
              "      <th>id</th>\n",
              "    </tr>\n",
              "  </thead>\n",
              "  <tbody>\n",
              "    <tr>\n",
              "      <th>count</th>\n",
              "      <td>914.000000</td>\n",
              "      <td>914.000000</td>\n",
              "      <td>1472.000000</td>\n",
              "      <td>1.472000e+03</td>\n",
              "    </tr>\n",
              "    <tr>\n",
              "      <th>mean</th>\n",
              "      <td>228.000000</td>\n",
              "      <td>0.755235</td>\n",
              "      <td>0.497283</td>\n",
              "      <td>9.795060e+07</td>\n",
              "    </tr>\n",
              "    <tr>\n",
              "      <th>std</th>\n",
              "      <td>131.996449</td>\n",
              "      <td>0.178355</td>\n",
              "      <td>0.500163</td>\n",
              "      <td>1.015951e+08</td>\n",
              "    </tr>\n",
              "    <tr>\n",
              "      <th>min</th>\n",
              "      <td>0.000000</td>\n",
              "      <td>0.311030</td>\n",
              "      <td>0.000000</td>\n",
              "      <td>4.696000e+03</td>\n",
              "    </tr>\n",
              "    <tr>\n",
              "      <th>25%</th>\n",
              "      <td>114.000000</td>\n",
              "      <td>0.642694</td>\n",
              "      <td>0.000000</td>\n",
              "      <td>3.385500e+04</td>\n",
              "    </tr>\n",
              "    <tr>\n",
              "      <th>50%</th>\n",
              "      <td>228.000000</td>\n",
              "      <td>0.806076</td>\n",
              "      <td>0.000000</td>\n",
              "      <td>1.028159e+07</td>\n",
              "    </tr>\n",
              "    <tr>\n",
              "      <th>75%</th>\n",
              "      <td>342.000000</td>\n",
              "      <td>0.898845</td>\n",
              "      <td>1.000000</td>\n",
              "      <td>2.069205e+08</td>\n",
              "    </tr>\n",
              "    <tr>\n",
              "      <th>max</th>\n",
              "      <td>456.000000</td>\n",
              "      <td>0.981909</td>\n",
              "      <td>1.000000</td>\n",
              "      <td>2.106478e+08</td>\n",
              "    </tr>\n",
              "  </tbody>\n",
              "</table>\n",
              "</div>\n",
              "      <button class=\"colab-df-convert\" onclick=\"convertToInteractive('df-b501044e-ceb1-477e-ac30-77f3b4b9b95d')\"\n",
              "              title=\"Convert this dataframe to an interactive table.\"\n",
              "              style=\"display:none;\">\n",
              "        \n",
              "  <svg xmlns=\"http://www.w3.org/2000/svg\" height=\"24px\"viewBox=\"0 0 24 24\"\n",
              "       width=\"24px\">\n",
              "    <path d=\"M0 0h24v24H0V0z\" fill=\"none\"/>\n",
              "    <path d=\"M18.56 5.44l.94 2.06.94-2.06 2.06-.94-2.06-.94-.94-2.06-.94 2.06-2.06.94zm-11 1L8.5 8.5l.94-2.06 2.06-.94-2.06-.94L8.5 2.5l-.94 2.06-2.06.94zm10 10l.94 2.06.94-2.06 2.06-.94-2.06-.94-.94-2.06-.94 2.06-2.06.94z\"/><path d=\"M17.41 7.96l-1.37-1.37c-.4-.4-.92-.59-1.43-.59-.52 0-1.04.2-1.43.59L10.3 9.45l-7.72 7.72c-.78.78-.78 2.05 0 2.83L4 21.41c.39.39.9.59 1.41.59.51 0 1.02-.2 1.41-.59l7.78-7.78 2.81-2.81c.8-.78.8-2.07 0-2.86zM5.41 20L4 18.59l7.72-7.72 1.47 1.35L5.41 20z\"/>\n",
              "  </svg>\n",
              "      </button>\n",
              "      \n",
              "  <style>\n",
              "    .colab-df-container {\n",
              "      display:flex;\n",
              "      flex-wrap:wrap;\n",
              "      gap: 12px;\n",
              "    }\n",
              "\n",
              "    .colab-df-convert {\n",
              "      background-color: #E8F0FE;\n",
              "      border: none;\n",
              "      border-radius: 50%;\n",
              "      cursor: pointer;\n",
              "      display: none;\n",
              "      fill: #1967D2;\n",
              "      height: 32px;\n",
              "      padding: 0 0 0 0;\n",
              "      width: 32px;\n",
              "    }\n",
              "\n",
              "    .colab-df-convert:hover {\n",
              "      background-color: #E2EBFA;\n",
              "      box-shadow: 0px 1px 2px rgba(60, 64, 67, 0.3), 0px 1px 3px 1px rgba(60, 64, 67, 0.15);\n",
              "      fill: #174EA6;\n",
              "    }\n",
              "\n",
              "    [theme=dark] .colab-df-convert {\n",
              "      background-color: #3B4455;\n",
              "      fill: #D2E3FC;\n",
              "    }\n",
              "\n",
              "    [theme=dark] .colab-df-convert:hover {\n",
              "      background-color: #434B5C;\n",
              "      box-shadow: 0px 1px 3px 1px rgba(0, 0, 0, 0.15);\n",
              "      filter: drop-shadow(0px 1px 2px rgba(0, 0, 0, 0.3));\n",
              "      fill: #FFFFFF;\n",
              "    }\n",
              "  </style>\n",
              "\n",
              "      <script>\n",
              "        const buttonEl =\n",
              "          document.querySelector('#df-b501044e-ceb1-477e-ac30-77f3b4b9b95d button.colab-df-convert');\n",
              "        buttonEl.style.display =\n",
              "          google.colab.kernel.accessAllowed ? 'block' : 'none';\n",
              "\n",
              "        async function convertToInteractive(key) {\n",
              "          const element = document.querySelector('#df-b501044e-ceb1-477e-ac30-77f3b4b9b95d');\n",
              "          const dataTable =\n",
              "            await google.colab.kernel.invokeFunction('convertToInteractive',\n",
              "                                                     [key], {});\n",
              "          if (!dataTable) return;\n",
              "\n",
              "          const docLinkHtml = 'Like what you see? Visit the ' +\n",
              "            '<a target=\"_blank\" href=https://colab.research.google.com/notebooks/data_table.ipynb>data table notebook</a>'\n",
              "            + ' to learn more about interactive tables.';\n",
              "          element.innerHTML = '';\n",
              "          dataTable['output_type'] = 'display_data';\n",
              "          await google.colab.output.renderOutput(dataTable, element);\n",
              "          const docLink = document.createElement('div');\n",
              "          docLink.innerHTML = docLinkHtml;\n",
              "          element.appendChild(docLink);\n",
              "        }\n",
              "      </script>\n",
              "    </div>\n",
              "  </div>\n",
              "  "
            ]
          },
          "metadata": {},
          "execution_count": 26
        }
      ],
      "source": [
        "out.describe()"
      ]
    },
    {
      "cell_type": "code",
      "execution_count": null,
      "metadata": {
        "colab": {
          "base_uri": "https://localhost:8080/"
        },
        "id": "nGopb9WdnqmO",
        "outputId": "124a55fa-566e-4fe7-cec5-a52243e5bb95"
      },
      "outputs": [
        {
          "output_type": "execute_result",
          "data": {
            "text/plain": [
              "458"
            ]
          },
          "metadata": {},
          "execution_count": 27
        }
      ],
      "source": [
        "len(out['Cluster ID'].unique()) #including nan"
      ]
    },
    {
      "cell_type": "code",
      "execution_count": null,
      "metadata": {
        "id": "AsOqOI4mqj9J"
      },
      "outputs": [],
      "source": [
        "truth_yes = pd.read_csv(\"/content/drive/MyDrive/dedupe/21-14/test.csv\")"
      ]
    },
    {
      "cell_type": "code",
      "execution_count": null,
      "metadata": {
        "id": "ZGrDayZbrE6D",
        "colab": {
          "base_uri": "https://localhost:8080/"
        },
        "outputId": "6508b3b0-27a9-4b48-8a45-0f4f989b3abf"
      },
      "outputs": [
        {
          "output_type": "execute_result",
          "data": {
            "text/plain": [
              "0       38477\n",
              "1       38475\n",
              "2       27248\n",
              "3       36260\n",
              "4       35810\n",
              "        ...  \n",
              "1453    36124\n",
              "1454    34724\n",
              "1455    34724\n",
              "1456    37192\n",
              "1457    35900\n",
              "Name: id1, Length: 1458, dtype: int64"
            ]
          },
          "metadata": {},
          "execution_count": 29
        }
      ],
      "source": [
        "truth_yes['id1']"
      ]
    },
    {
      "cell_type": "code",
      "execution_count": null,
      "metadata": {
        "colab": {
          "base_uri": "https://localhost:8080/"
        },
        "id": "lHt5uulhtnji",
        "outputId": "5d953812-36bb-4404-c025-bb2db923e3d8"
      },
      "outputs": [
        {
          "output_type": "execute_result",
          "data": {
            "text/plain": [
              "1458"
            ]
          },
          "metadata": {},
          "execution_count": 30
        }
      ],
      "source": [
        "len(truth_yes)"
      ]
    },
    {
      "cell_type": "code",
      "execution_count": null,
      "metadata": {
        "colab": {
          "base_uri": "https://localhost:8080/",
          "height": 206
        },
        "id": "TjKCWme4qvPc",
        "outputId": "ef1f015f-0d9e-44f0-a3b6-f5711a5c3ff4"
      },
      "outputs": [
        {
          "output_type": "execute_result",
          "data": {
            "text/plain": [
              "     id1       id2  label\n",
              "0  38477  10011646   True\n",
              "1  38475  10140760   True\n",
              "2  27248  10246269   True\n",
              "3  36260  10316920   True\n",
              "4  35810  10326220   True"
            ],
            "text/html": [
              "\n",
              "  <div id=\"df-0c8287d3-e7dc-4180-a11c-4b911f723127\">\n",
              "    <div class=\"colab-df-container\">\n",
              "      <div>\n",
              "<style scoped>\n",
              "    .dataframe tbody tr th:only-of-type {\n",
              "        vertical-align: middle;\n",
              "    }\n",
              "\n",
              "    .dataframe tbody tr th {\n",
              "        vertical-align: top;\n",
              "    }\n",
              "\n",
              "    .dataframe thead th {\n",
              "        text-align: right;\n",
              "    }\n",
              "</style>\n",
              "<table border=\"1\" class=\"dataframe\">\n",
              "  <thead>\n",
              "    <tr style=\"text-align: right;\">\n",
              "      <th></th>\n",
              "      <th>id1</th>\n",
              "      <th>id2</th>\n",
              "      <th>label</th>\n",
              "    </tr>\n",
              "  </thead>\n",
              "  <tbody>\n",
              "    <tr>\n",
              "      <th>0</th>\n",
              "      <td>38477</td>\n",
              "      <td>10011646</td>\n",
              "      <td>True</td>\n",
              "    </tr>\n",
              "    <tr>\n",
              "      <th>1</th>\n",
              "      <td>38475</td>\n",
              "      <td>10140760</td>\n",
              "      <td>True</td>\n",
              "    </tr>\n",
              "    <tr>\n",
              "      <th>2</th>\n",
              "      <td>27248</td>\n",
              "      <td>10246269</td>\n",
              "      <td>True</td>\n",
              "    </tr>\n",
              "    <tr>\n",
              "      <th>3</th>\n",
              "      <td>36260</td>\n",
              "      <td>10316920</td>\n",
              "      <td>True</td>\n",
              "    </tr>\n",
              "    <tr>\n",
              "      <th>4</th>\n",
              "      <td>35810</td>\n",
              "      <td>10326220</td>\n",
              "      <td>True</td>\n",
              "    </tr>\n",
              "  </tbody>\n",
              "</table>\n",
              "</div>\n",
              "      <button class=\"colab-df-convert\" onclick=\"convertToInteractive('df-0c8287d3-e7dc-4180-a11c-4b911f723127')\"\n",
              "              title=\"Convert this dataframe to an interactive table.\"\n",
              "              style=\"display:none;\">\n",
              "        \n",
              "  <svg xmlns=\"http://www.w3.org/2000/svg\" height=\"24px\"viewBox=\"0 0 24 24\"\n",
              "       width=\"24px\">\n",
              "    <path d=\"M0 0h24v24H0V0z\" fill=\"none\"/>\n",
              "    <path d=\"M18.56 5.44l.94 2.06.94-2.06 2.06-.94-2.06-.94-.94-2.06-.94 2.06-2.06.94zm-11 1L8.5 8.5l.94-2.06 2.06-.94-2.06-.94L8.5 2.5l-.94 2.06-2.06.94zm10 10l.94 2.06.94-2.06 2.06-.94-2.06-.94-.94-2.06-.94 2.06-2.06.94z\"/><path d=\"M17.41 7.96l-1.37-1.37c-.4-.4-.92-.59-1.43-.59-.52 0-1.04.2-1.43.59L10.3 9.45l-7.72 7.72c-.78.78-.78 2.05 0 2.83L4 21.41c.39.39.9.59 1.41.59.51 0 1.02-.2 1.41-.59l7.78-7.78 2.81-2.81c.8-.78.8-2.07 0-2.86zM5.41 20L4 18.59l7.72-7.72 1.47 1.35L5.41 20z\"/>\n",
              "  </svg>\n",
              "      </button>\n",
              "      \n",
              "  <style>\n",
              "    .colab-df-container {\n",
              "      display:flex;\n",
              "      flex-wrap:wrap;\n",
              "      gap: 12px;\n",
              "    }\n",
              "\n",
              "    .colab-df-convert {\n",
              "      background-color: #E8F0FE;\n",
              "      border: none;\n",
              "      border-radius: 50%;\n",
              "      cursor: pointer;\n",
              "      display: none;\n",
              "      fill: #1967D2;\n",
              "      height: 32px;\n",
              "      padding: 0 0 0 0;\n",
              "      width: 32px;\n",
              "    }\n",
              "\n",
              "    .colab-df-convert:hover {\n",
              "      background-color: #E2EBFA;\n",
              "      box-shadow: 0px 1px 2px rgba(60, 64, 67, 0.3), 0px 1px 3px 1px rgba(60, 64, 67, 0.15);\n",
              "      fill: #174EA6;\n",
              "    }\n",
              "\n",
              "    [theme=dark] .colab-df-convert {\n",
              "      background-color: #3B4455;\n",
              "      fill: #D2E3FC;\n",
              "    }\n",
              "\n",
              "    [theme=dark] .colab-df-convert:hover {\n",
              "      background-color: #434B5C;\n",
              "      box-shadow: 0px 1px 3px 1px rgba(0, 0, 0, 0.15);\n",
              "      filter: drop-shadow(0px 1px 2px rgba(0, 0, 0, 0.3));\n",
              "      fill: #FFFFFF;\n",
              "    }\n",
              "  </style>\n",
              "\n",
              "      <script>\n",
              "        const buttonEl =\n",
              "          document.querySelector('#df-0c8287d3-e7dc-4180-a11c-4b911f723127 button.colab-df-convert');\n",
              "        buttonEl.style.display =\n",
              "          google.colab.kernel.accessAllowed ? 'block' : 'none';\n",
              "\n",
              "        async function convertToInteractive(key) {\n",
              "          const element = document.querySelector('#df-0c8287d3-e7dc-4180-a11c-4b911f723127');\n",
              "          const dataTable =\n",
              "            await google.colab.kernel.invokeFunction('convertToInteractive',\n",
              "                                                     [key], {});\n",
              "          if (!dataTable) return;\n",
              "\n",
              "          const docLinkHtml = 'Like what you see? Visit the ' +\n",
              "            '<a target=\"_blank\" href=https://colab.research.google.com/notebooks/data_table.ipynb>data table notebook</a>'\n",
              "            + ' to learn more about interactive tables.';\n",
              "          element.innerHTML = '';\n",
              "          dataTable['output_type'] = 'display_data';\n",
              "          await google.colab.output.renderOutput(dataTable, element);\n",
              "          const docLink = document.createElement('div');\n",
              "          docLink.innerHTML = docLinkHtml;\n",
              "          element.appendChild(docLink);\n",
              "        }\n",
              "      </script>\n",
              "    </div>\n",
              "  </div>\n",
              "  "
            ]
          },
          "metadata": {},
          "execution_count": 31
        }
      ],
      "source": [
        "truth_yes.head()"
      ]
    },
    {
      "cell_type": "code",
      "execution_count": null,
      "metadata": {
        "id": "FZeIGq0qq1jr"
      },
      "outputs": [],
      "source": [
        "def truth_eval(out, truth_yes):\n",
        "  truth_mapping = []\n",
        "  total_true = 0\n",
        "  total_false = 0\n",
        "  false_true = 0\n",
        "  false_false = 0\n",
        "  for i, val in truth_yes.iterrows():\n",
        "    abt_cluster = out[out['id']==val['id1']]['Cluster ID'].item()\n",
        "    buy_cluster = out[out['id']==val['id2']]['Cluster ID'].item()\n",
        "    if val['label']==True:\n",
        "      if abt_cluster==buy_cluster:\n",
        "        truth_mapping.append(abt_cluster)\n",
        "        total_true+=1\n",
        "      else:\n",
        "        truth_mapping.append(None)\n",
        "        total_false+=1\n",
        "    else:\n",
        "      if abt_cluster==buy_cluster:\n",
        "        truth_mapping.append(abt_cluster)\n",
        "        false_true+=1\n",
        "      else:\n",
        "        truth_mapping.append(None)\n",
        "        false_false+=1\n",
        "  return truth_mapping, total_true, total_false, false_true, false_false"
      ]
    },
    {
      "cell_type": "code",
      "execution_count": null,
      "metadata": {
        "id": "SABC7PqstF7Q"
      },
      "outputs": [],
      "source": [
        "lst, true_true, true_false, false_true, false_false = truth_eval(out, truth_yes)"
      ]
    },
    {
      "cell_type": "code",
      "execution_count": null,
      "metadata": {
        "colab": {
          "base_uri": "https://localhost:8080/"
        },
        "id": "wAYD3bhcv8L_",
        "outputId": "75851fd9-d27f-4da4-f57f-556116cf1c89"
      },
      "outputs": [
        {
          "output_type": "stream",
          "name": "stdout",
          "text": [
            "438 298 8 714\n"
          ]
        }
      ],
      "source": [
        "print(true_true, true_false, false_true, false_false)"
      ]
    },
    {
      "cell_type": "code",
      "execution_count": null,
      "metadata": {
        "id": "68LfR-CsT08D"
      },
      "outputs": [],
      "source": [
        "def metrics(TP,FP,FN):\n",
        "\n",
        "  recall = TP/(TP+FN)\n",
        "  precision = TP/(TP+FP)\n",
        "  fscore = (2*precision*recall)/(precision+recall)\n",
        "\n",
        "  return recall, precision, fscore"
      ]
    },
    {
      "cell_type": "code",
      "source": [
        "metrics(true_true, false_true, true_false)"
      ],
      "metadata": {
        "colab": {
          "base_uri": "https://localhost:8080/"
        },
        "id": "-zRDXNdiccHN",
        "outputId": "51088c09-8862-44f9-98ac-deca7e831d48"
      },
      "execution_count": null,
      "outputs": [
        {
          "output_type": "execute_result",
          "data": {
            "text/plain": [
              "(0.595108695652174, 0.9820627802690582, 0.7411167512690355)"
            ]
          },
          "metadata": {},
          "execution_count": 40
        }
      ]
    },
    {
      "cell_type": "code",
      "execution_count": null,
      "metadata": {
        "id": "PIgTrYbJ2s5_",
        "colab": {
          "base_uri": "https://localhost:8080/"
        },
        "outputId": "f3d95ba4-0a39-47b4-af7b-f8137cc151fe"
      },
      "outputs": [
        {
          "output_type": "execute_result",
          "data": {
            "text/plain": [
              "(0.8339973439575034, 0.8418230563002681, 0.8378919279519681)"
            ]
          },
          "metadata": {},
          "execution_count": 39
        }
      ],
      "source": [
        "metrics(628,118,125)"
      ]
    },
    {
      "cell_type": "code",
      "source": [],
      "metadata": {
        "id": "jGW01SuDnES9"
      },
      "execution_count": null,
      "outputs": []
    }
  ],
  "metadata": {
    "colab": {
      "provenance": []
    },
    "kernelspec": {
      "display_name": "Python 3",
      "name": "python3"
    },
    "language_info": {
      "name": "python"
    }
  },
  "nbformat": 4,
  "nbformat_minor": 0
}