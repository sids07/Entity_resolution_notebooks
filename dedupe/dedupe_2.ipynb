{
  "cells": [
    {
      "cell_type": "markdown",
      "metadata": {
        "id": "2bDLrsEsA2Nl"
      },
      "source": [
        "<h1>1 + 1 = 1 or Record Deduplication with Python</h1>\n",
        "<h3 style=\"margin-top: 0.5em; color: #666\">PyCon US 2020</h3>\n",
        "\n",
        "Flávio Juvenal  \n",
        "[@flaviojuvenal](https://twitter.com/flaviojuvenal)  \n",
        "<p>\n",
        "    Partner at <a href=\"http://www.vinta.com.br?dedupe-slides=1\"><img class=\"vinta_logo\" style=\"display: inline-block; margin-left: 0;\" src=\"https://github.com/vintasoftware/deduplication-slides/blob/pycon-2020/vinta.png?raw=1\" width=\"300px\"></a>\n",
        "</p>"
      ]
    },
    {
      "cell_type": "code",
      "execution_count": null,
      "metadata": {
        "id": "c5j6vic1A2Ny"
      },
      "outputs": [],
      "source": [
        "%load_ext autoreload\n",
        "%autoreload 2"
      ]
    },
    {
      "cell_type": "code",
      "execution_count": null,
      "metadata": {
        "id": "kzxM087kA2N0",
        "outputId": "62738080-870b-42b0-b86f-a7761a4365be"
      },
      "outputs": [
        {
          "data": {
            "text/plain": [
              "True"
            ]
          },
          "execution_count": 2,
          "metadata": {},
          "output_type": "execute_result"
        }
      ],
      "source": [
        "# Those lines set the GOOGLE_API_KEY to enable the geocoder.\n",
        "# To make the geocoder work, grab an API key at: https://cloud.google.com/maps-platform/#get-started\n",
        "# Then create a .env file and add this line: GOOGLE_API_KEY=key-value-here\n",
        "# Finally, run the lines below.\n",
        "\n",
        "from dotenv import load_dotenv\n",
        "load_dotenv(verbose=True)"
      ]
    },
    {
      "cell_type": "markdown",
      "metadata": {
        "id": "LLcN63NUA2N1"
      },
      "source": [
        "<p style=\"font-size: 1.5em; text-weight: bold\">\n",
        "    Jupyter Notebook source at: <a href=\"https://github.com/vintasoftware/deduplication-slides/tree/pycon-2020\">github.com/vintasoftware/deduplication-slides/tree/pycon-2020</a>\n",
        "</p>"
      ]
    },
    {
      "cell_type": "markdown",
      "metadata": {
        "id": "VHHhDdRIA2N1"
      },
      "source": [
        "## Real world data is a mess!\n",
        "Probably you dealt with data like this before:"
      ]
    },
    {
      "cell_type": "code",
      "execution_count": null,
      "metadata": {
        "scrolled": false,
        "id": "QrIhpKkhA2N1"
      },
      "outputs": [],
      "source": [
        "import pandas as pd\n",
        "\n",
        "data = [\n",
        "    (\"ça Va\", \"R. Cap. Rebelinho, 519, Recife\"),\n",
        "    (\"Ca Va\", \"R. Capitão Rebelinho, 519, Recife/PE\"),\n",
        "    (\"Côté Soleil\",\"50-12 Skillman Ave, queens, NY\"),\n",
        "    (\"cote soleil\",\"50 Skillman Ave, nyc\"),\n",
        "    (\"Cafe Harvest\", \"karmeliterplatz 1, Vienna\"),\n",
        "    (\"Harvest Café\", \"Karmeliterpl. 1, 1020, Wien\"),\n",
        "]\n",
        "\n",
        "df = pd.DataFrame(data, columns=['name', 'address'])"
      ]
    },
    {
      "cell_type": "code",
      "execution_count": null,
      "metadata": {
        "id": "Qs_f33qnA2N2",
        "outputId": "19d86cb9-8467-40a2-d605-da1d2efe1a87",
        "colab": {
          "base_uri": "https://localhost:8080/",
          "height": 237
        }
      },
      "outputs": [
        {
          "output_type": "execute_result",
          "data": {
            "text/plain": [
              "           name                               address\n",
              "0         ça Va        R. Cap. Rebelinho, 519, Recife\n",
              "1         Ca Va  R. Capitão Rebelinho, 519, Recife/PE\n",
              "2   Côté Soleil        50-12 Skillman Ave, queens, NY\n",
              "3   cote soleil                  50 Skillman Ave, nyc\n",
              "4  Cafe Harvest             karmeliterplatz 1, Vienna\n",
              "5  Harvest Café           Karmeliterpl. 1, 1020, Wien"
            ],
            "text/html": [
              "\n",
              "  <div id=\"df-f2328293-dc99-4360-8d62-c18f3dd22d99\">\n",
              "    <div class=\"colab-df-container\">\n",
              "      <div>\n",
              "<style scoped>\n",
              "    .dataframe tbody tr th:only-of-type {\n",
              "        vertical-align: middle;\n",
              "    }\n",
              "\n",
              "    .dataframe tbody tr th {\n",
              "        vertical-align: top;\n",
              "    }\n",
              "\n",
              "    .dataframe thead th {\n",
              "        text-align: right;\n",
              "    }\n",
              "</style>\n",
              "<table border=\"1\" class=\"dataframe\">\n",
              "  <thead>\n",
              "    <tr style=\"text-align: right;\">\n",
              "      <th></th>\n",
              "      <th>name</th>\n",
              "      <th>address</th>\n",
              "    </tr>\n",
              "  </thead>\n",
              "  <tbody>\n",
              "    <tr>\n",
              "      <th>0</th>\n",
              "      <td>ça Va</td>\n",
              "      <td>R. Cap. Rebelinho, 519, Recife</td>\n",
              "    </tr>\n",
              "    <tr>\n",
              "      <th>1</th>\n",
              "      <td>Ca Va</td>\n",
              "      <td>R. Capitão Rebelinho, 519, Recife/PE</td>\n",
              "    </tr>\n",
              "    <tr>\n",
              "      <th>2</th>\n",
              "      <td>Côté Soleil</td>\n",
              "      <td>50-12 Skillman Ave, queens, NY</td>\n",
              "    </tr>\n",
              "    <tr>\n",
              "      <th>3</th>\n",
              "      <td>cote soleil</td>\n",
              "      <td>50 Skillman Ave, nyc</td>\n",
              "    </tr>\n",
              "    <tr>\n",
              "      <th>4</th>\n",
              "      <td>Cafe Harvest</td>\n",
              "      <td>karmeliterplatz 1, Vienna</td>\n",
              "    </tr>\n",
              "    <tr>\n",
              "      <th>5</th>\n",
              "      <td>Harvest Café</td>\n",
              "      <td>Karmeliterpl. 1, 1020, Wien</td>\n",
              "    </tr>\n",
              "  </tbody>\n",
              "</table>\n",
              "</div>\n",
              "      <button class=\"colab-df-convert\" onclick=\"convertToInteractive('df-f2328293-dc99-4360-8d62-c18f3dd22d99')\"\n",
              "              title=\"Convert this dataframe to an interactive table.\"\n",
              "              style=\"display:none;\">\n",
              "        \n",
              "  <svg xmlns=\"http://www.w3.org/2000/svg\" height=\"24px\"viewBox=\"0 0 24 24\"\n",
              "       width=\"24px\">\n",
              "    <path d=\"M0 0h24v24H0V0z\" fill=\"none\"/>\n",
              "    <path d=\"M18.56 5.44l.94 2.06.94-2.06 2.06-.94-2.06-.94-.94-2.06-.94 2.06-2.06.94zm-11 1L8.5 8.5l.94-2.06 2.06-.94-2.06-.94L8.5 2.5l-.94 2.06-2.06.94zm10 10l.94 2.06.94-2.06 2.06-.94-2.06-.94-.94-2.06-.94 2.06-2.06.94z\"/><path d=\"M17.41 7.96l-1.37-1.37c-.4-.4-.92-.59-1.43-.59-.52 0-1.04.2-1.43.59L10.3 9.45l-7.72 7.72c-.78.78-.78 2.05 0 2.83L4 21.41c.39.39.9.59 1.41.59.51 0 1.02-.2 1.41-.59l7.78-7.78 2.81-2.81c.8-.78.8-2.07 0-2.86zM5.41 20L4 18.59l7.72-7.72 1.47 1.35L5.41 20z\"/>\n",
              "  </svg>\n",
              "      </button>\n",
              "      \n",
              "  <style>\n",
              "    .colab-df-container {\n",
              "      display:flex;\n",
              "      flex-wrap:wrap;\n",
              "      gap: 12px;\n",
              "    }\n",
              "\n",
              "    .colab-df-convert {\n",
              "      background-color: #E8F0FE;\n",
              "      border: none;\n",
              "      border-radius: 50%;\n",
              "      cursor: pointer;\n",
              "      display: none;\n",
              "      fill: #1967D2;\n",
              "      height: 32px;\n",
              "      padding: 0 0 0 0;\n",
              "      width: 32px;\n",
              "    }\n",
              "\n",
              "    .colab-df-convert:hover {\n",
              "      background-color: #E2EBFA;\n",
              "      box-shadow: 0px 1px 2px rgba(60, 64, 67, 0.3), 0px 1px 3px 1px rgba(60, 64, 67, 0.15);\n",
              "      fill: #174EA6;\n",
              "    }\n",
              "\n",
              "    [theme=dark] .colab-df-convert {\n",
              "      background-color: #3B4455;\n",
              "      fill: #D2E3FC;\n",
              "    }\n",
              "\n",
              "    [theme=dark] .colab-df-convert:hover {\n",
              "      background-color: #434B5C;\n",
              "      box-shadow: 0px 1px 3px 1px rgba(0, 0, 0, 0.15);\n",
              "      filter: drop-shadow(0px 1px 2px rgba(0, 0, 0, 0.3));\n",
              "      fill: #FFFFFF;\n",
              "    }\n",
              "  </style>\n",
              "\n",
              "      <script>\n",
              "        const buttonEl =\n",
              "          document.querySelector('#df-f2328293-dc99-4360-8d62-c18f3dd22d99 button.colab-df-convert');\n",
              "        buttonEl.style.display =\n",
              "          google.colab.kernel.accessAllowed ? 'block' : 'none';\n",
              "\n",
              "        async function convertToInteractive(key) {\n",
              "          const element = document.querySelector('#df-f2328293-dc99-4360-8d62-c18f3dd22d99');\n",
              "          const dataTable =\n",
              "            await google.colab.kernel.invokeFunction('convertToInteractive',\n",
              "                                                     [key], {});\n",
              "          if (!dataTable) return;\n",
              "\n",
              "          const docLinkHtml = 'Like what you see? Visit the ' +\n",
              "            '<a target=\"_blank\" href=https://colab.research.google.com/notebooks/data_table.ipynb>data table notebook</a>'\n",
              "            + ' to learn more about interactive tables.';\n",
              "          element.innerHTML = '';\n",
              "          dataTable['output_type'] = 'display_data';\n",
              "          await google.colab.output.renderOutput(dataTable, element);\n",
              "          const docLink = document.createElement('div');\n",
              "          docLink.innerHTML = docLinkHtml;\n",
              "          element.appendChild(docLink);\n",
              "        }\n",
              "      </script>\n",
              "    </div>\n",
              "  </div>\n",
              "  "
            ]
          },
          "metadata": {},
          "execution_count": 34
        }
      ],
      "source": [
        "df"
      ]
    },
    {
      "cell_type": "markdown",
      "metadata": {
        "id": "a-QtmlHsA2N2"
      },
      "source": [
        "The solution is to perform **Deduplication**  \n",
        "(aka [Record Linkage](https://en.wikipedia.org/wiki/Record_linkage) and Entity Resolution).\n",
        "\n",
        "Deduplication works by joining records in a **fuzzy way** using data like names, addresses, phone numbers, dates, etc."
      ]
    },
    {
      "cell_type": "markdown",
      "metadata": {
        "id": "g_X7fpoVA2N2"
      },
      "source": [
        "## Fuzzy Similarity and Data Cleaning"
      ]
    },
    {
      "cell_type": "markdown",
      "metadata": {
        "id": "koyk_J9IA2N3"
      },
      "source": [
        "You can get fuzzy similarity of **a pair of strings** by using edit distance:"
      ]
    },
    {
      "cell_type": "code",
      "source": [
        "!pip install py_stringmatching"
      ],
      "metadata": {
        "colab": {
          "base_uri": "https://localhost:8080/"
        },
        "id": "va2j3Xy3BQS6",
        "outputId": "d01ea578-e714-49e6-9cf5-69d3f9701788"
      },
      "execution_count": null,
      "outputs": [
        {
          "output_type": "stream",
          "name": "stdout",
          "text": [
            "Looking in indexes: https://pypi.org/simple, https://us-python.pkg.dev/colab-wheels/public/simple/\n",
            "Collecting py_stringmatching\n",
            "  Downloading py_stringmatching-0.4.2.tar.gz (661 kB)\n",
            "\u001b[2K     \u001b[90m━━━━━━━━━━━━━━━━━━━━━━━━━━━━━━━━━━━━━━━\u001b[0m \u001b[32m661.8/661.8 KB\u001b[0m \u001b[31m9.0 MB/s\u001b[0m eta \u001b[36m0:00:00\u001b[0m\n",
            "\u001b[?25h  Preparing metadata (setup.py) ... \u001b[?25l\u001b[?25hdone\n",
            "Requirement already satisfied: numpy>=1.7.0 in /usr/local/lib/python3.8/dist-packages (from py_stringmatching) (1.21.6)\n",
            "Requirement already satisfied: six in /usr/local/lib/python3.8/dist-packages (from py_stringmatching) (1.15.0)\n",
            "Building wheels for collected packages: py_stringmatching\n",
            "  Building wheel for py_stringmatching (setup.py) ... \u001b[?25l\u001b[?25hdone\n",
            "  Created wheel for py_stringmatching: filename=py_stringmatching-0.4.2-cp38-cp38-linux_x86_64.whl size=2692284 sha256=c724c0a120c8d09902c7d6f04367e8b736138f9c535d1fc8ad47ffc46eaa64b8\n",
            "  Stored in directory: /root/.cache/pip/wheels/6d/01/57/0131e0a87fa6471ec265bd9777de2e789a4bd1248c279fa875\n",
            "Successfully built py_stringmatching\n",
            "Installing collected packages: py_stringmatching\n",
            "Successfully installed py_stringmatching-0.4.2\n"
          ]
        }
      ]
    },
    {
      "cell_type": "code",
      "execution_count": null,
      "metadata": {
        "id": "hRVRVys8A2N3",
        "outputId": "56734c8f-5138-4d11-fce8-e7b008f13576",
        "colab": {
          "base_uri": "https://localhost:8080/"
        }
      },
      "outputs": [
        {
          "output_type": "execute_result",
          "data": {
            "text/plain": [
              "0.16666666666666663"
            ]
          },
          "metadata": {},
          "execution_count": 4
        }
      ],
      "source": [
        "from py_stringmatching import Levenshtein\n",
        "Levenshtein().get_sim_score(\"Cafe Harvest\", \"Harvest Café\")"
      ]
    },
    {
      "cell_type": "markdown",
      "metadata": {
        "id": "uraIUpZbA2N3"
      },
      "source": [
        "But `0.16` is too little similarity for very similar names...  \n",
        "The problem here is that tokens (words) have a different order.\n",
        "\n",
        "Is there an alternative similarity measure we could use that **ignores token order**?"
      ]
    },
    {
      "cell_type": "code",
      "execution_count": null,
      "metadata": {
        "id": "3-0GeUHiA2N4",
        "outputId": "6f536c7c-4156-4765-977a-7429fc6b57d9",
        "colab": {
          "base_uri": "https://localhost:8080/"
        }
      },
      "outputs": [
        {
          "output_type": "execute_result",
          "data": {
            "text/plain": [
              "0.875"
            ]
          },
          "metadata": {},
          "execution_count": 5
        }
      ],
      "source": [
        "from py_stringmatching import MongeElkan\n",
        "MongeElkan(\n",
        "    sim_func=Levenshtein().get_sim_score\n",
        ").get_raw_score(\"Cafe Harvest\".split(), \"Harvest Café\".split())"
      ]
    },
    {
      "cell_type": "markdown",
      "metadata": {
        "id": "b-IyYxdyA2N4"
      },
      "source": [
        "It worked! But there's room for improvement.  \n",
        "How to get rid of the acute **accent** on `\"Café\"`?"
      ]
    },
    {
      "cell_type": "code",
      "source": [
        "!pip install unidecode"
      ],
      "metadata": {
        "colab": {
          "base_uri": "https://localhost:8080/"
        },
        "id": "WFKtyrJdBikl",
        "outputId": "df220d52-bfcd-4683-d2ce-f2d760057c1b"
      },
      "execution_count": null,
      "outputs": [
        {
          "output_type": "stream",
          "name": "stdout",
          "text": [
            "Looking in indexes: https://pypi.org/simple, https://us-python.pkg.dev/colab-wheels/public/simple/\n",
            "Collecting unidecode\n",
            "  Downloading Unidecode-1.3.6-py3-none-any.whl (235 kB)\n",
            "\u001b[2K     \u001b[90m━━━━━━━━━━━━━━━━━━━━━━━━━━━━━━━━━━━━━━━\u001b[0m \u001b[32m235.9/235.9 KB\u001b[0m \u001b[31m5.1 MB/s\u001b[0m eta \u001b[36m0:00:00\u001b[0m\n",
            "\u001b[?25hInstalling collected packages: unidecode\n",
            "Successfully installed unidecode-1.3.6\n"
          ]
        }
      ]
    },
    {
      "cell_type": "code",
      "execution_count": null,
      "metadata": {
        "id": "Ae2AybCWA2N4",
        "outputId": "1824c40a-85fe-4ebe-b4a1-8c62e5f6f5d1",
        "colab": {
          "base_uri": "https://localhost:8080/",
          "height": 36
        }
      },
      "outputs": [
        {
          "output_type": "execute_result",
          "data": {
            "text/plain": [
              "'Cafe'"
            ],
            "application/vnd.google.colaboratory.intrinsic+json": {
              "type": "string"
            }
          },
          "metadata": {},
          "execution_count": 7
        }
      ],
      "source": [
        "import unidecode\n",
        "\n",
        "unidecode.unidecode(\"Café\")"
      ]
    },
    {
      "cell_type": "code",
      "execution_count": null,
      "metadata": {
        "id": "dHvRr50zA2N4",
        "outputId": "ab79ab08-8683-4cfb-e4d8-4f321a66dc1d",
        "colab": {
          "base_uri": "https://localhost:8080/"
        }
      },
      "outputs": [
        {
          "output_type": "execute_result",
          "data": {
            "text/plain": [
              "1.0"
            ]
          },
          "metadata": {},
          "execution_count": 8
        }
      ],
      "source": [
        "MongeElkan(\n",
        "    sim_func=Levenshtein().get_sim_score\n",
        ").get_raw_score(\n",
        "    unidecode.unidecode(\"Cafe Harvest\").split(),\n",
        "    unidecode.unidecode(\"Harvest Café\").split()\n",
        ")"
      ]
    },
    {
      "cell_type": "markdown",
      "metadata": {
        "id": "4BY9Xd5gA2N5"
      },
      "source": [
        "Great, so maybe we can consider restaurant pairs with **high name similarity** as **matches**.\n",
        "\n",
        "But it's useful to use other **fields** as well."
      ]
    },
    {
      "cell_type": "code",
      "source": [
        "!pip install geopy"
      ],
      "metadata": {
        "colab": {
          "base_uri": "https://localhost:8080/"
        },
        "id": "7LHedC3eBpMj",
        "outputId": "c4ebc904-3660-41ff-ea88-fac15eda9679"
      },
      "execution_count": null,
      "outputs": [
        {
          "output_type": "stream",
          "name": "stdout",
          "text": [
            "Looking in indexes: https://pypi.org/simple, https://us-python.pkg.dev/colab-wheels/public/simple/\n",
            "Requirement already satisfied: geopy in /usr/local/lib/python3.8/dist-packages (1.17.0)\n",
            "Requirement already satisfied: geographiclib<2,>=1.49 in /usr/local/lib/python3.8/dist-packages (from geopy) (1.52)\n"
          ]
        }
      ]
    },
    {
      "cell_type": "code",
      "execution_count": null,
      "metadata": {
        "id": "G0fdkc1dA2N5"
      },
      "outputs": [],
      "source": [
        "from geopy.geocoders import Nominatim\n",
        "\n",
        "# Initialize Nominatim API\n",
        "geolocator = Nominatim(user_agent=\"MyApp\")\n",
        "x = geolocator.geocode(\"50-12 Skillman Ave, queens, NY\")\n",
        "y = geolocator.geocode(\"50 Skillman Ave, nyc\")\n",
        "s= [x.latitude,x.longitude]\n",
        "t= [y.latitude,y.longitude]"
      ]
    },
    {
      "cell_type": "code",
      "source": [
        "print(s)\n",
        "print(t)"
      ],
      "metadata": {
        "colab": {
          "base_uri": "https://localhost:8080/"
        },
        "id": "z6ZL4NxiFpGn",
        "outputId": "7192aaa2-4af7-40c3-cfba-b6611a79d280"
      },
      "execution_count": null,
      "outputs": [
        {
          "output_type": "stream",
          "name": "stdout",
          "text": [
            "[40.7459655, -73.9138813]\n",
            "[40.7153557, -73.949766]\n"
          ]
        }
      ]
    },
    {
      "cell_type": "markdown",
      "metadata": {
        "id": "YllG9JlOA2N6"
      },
      "source": [
        "And then computing the **distance** between them:"
      ]
    },
    {
      "cell_type": "code",
      "source": [
        "!pip install haversine"
      ],
      "metadata": {
        "colab": {
          "base_uri": "https://localhost:8080/"
        },
        "id": "M2nz-Rd5FtNx",
        "outputId": "16e7c83f-1b69-4fff-950f-6a72aca8231c"
      },
      "execution_count": null,
      "outputs": [
        {
          "output_type": "stream",
          "name": "stdout",
          "text": [
            "Looking in indexes: https://pypi.org/simple, https://us-python.pkg.dev/colab-wheels/public/simple/\n",
            "Collecting haversine\n",
            "  Downloading haversine-2.7.0-py2.py3-none-any.whl (6.9 kB)\n",
            "Installing collected packages: haversine\n",
            "Successfully installed haversine-2.7.0\n"
          ]
        }
      ]
    },
    {
      "cell_type": "code",
      "execution_count": null,
      "metadata": {
        "id": "ITUiyVl-A2N6",
        "outputId": "9ea3d0d1-1d23-47a4-806f-51f292baeb38",
        "colab": {
          "base_uri": "https://localhost:8080/"
        }
      },
      "outputs": [
        {
          "output_type": "execute_result",
          "data": {
            "text/plain": [
              "4.552774497796682"
            ]
          },
          "metadata": {},
          "execution_count": 31
        }
      ],
      "source": [
        "import haversine\n",
        "\n",
        "haversine.haversine(s, t, unit=haversine.Unit.KILOMETERS)"
      ]
    },
    {
      "cell_type": "markdown",
      "metadata": {
        "id": "dZepmU6tA2N6"
      },
      "source": [
        "**Close enough** addresses can be considered as **matches**.\n",
        "\n",
        "Let's compare all the restaurant pairs now."
      ]
    },
    {
      "cell_type": "markdown",
      "metadata": {
        "id": "127RV8IjA2N6"
      },
      "source": [
        "## Comparing all to all"
      ]
    },
    {
      "cell_type": "markdown",
      "metadata": {
        "id": "DJcT4bcaA2N6"
      },
      "source": [
        "This is our dataset with **latlng**:"
      ]
    },
    {
      "cell_type": "code",
      "execution_count": null,
      "metadata": {
        "id": "4ddhh6CKA2N7",
        "outputId": "1c470737-77a9-4c37-b88e-8dff4c49af7f",
        "colab": {
          "base_uri": "https://localhost:8080/",
          "height": 237
        }
      },
      "outputs": [
        {
          "output_type": "execute_result",
          "data": {
            "text/plain": [
              "           name                               address  \\\n",
              "0         ça Va        R. Cap. Rebelinho, 519, Recife   \n",
              "1         Ca Va  R. Capitão Rebelinho, 519, Recife/PE   \n",
              "2   Côté Soleil        50-12 Skillman Ave, queens, NY   \n",
              "3   cote soleil                  50 Skillman Ave, nyc   \n",
              "4  Cafe Harvest             karmeliterplatz 1, Vienna   \n",
              "5  Harvest Café           Karmeliterpl. 1, 1020, Wien   \n",
              "\n",
              "                      latlng  \n",
              "0  (-8.0955668, -34.8839742)  \n",
              "1  (-8.0955668, -34.8839742)  \n",
              "2  (40.7459655, -73.9138813)  \n",
              "3   (40.7153557, -73.949766)  \n",
              "4   (48.2154908, 16.3799073)  \n",
              "5   (48.2154908, 16.3799073)  "
            ],
            "text/html": [
              "\n",
              "  <div id=\"df-c3f94fb8-785e-4f48-8470-17a70b5a9dba\">\n",
              "    <div class=\"colab-df-container\">\n",
              "      <div>\n",
              "<style scoped>\n",
              "    .dataframe tbody tr th:only-of-type {\n",
              "        vertical-align: middle;\n",
              "    }\n",
              "\n",
              "    .dataframe tbody tr th {\n",
              "        vertical-align: top;\n",
              "    }\n",
              "\n",
              "    .dataframe thead th {\n",
              "        text-align: right;\n",
              "    }\n",
              "</style>\n",
              "<table border=\"1\" class=\"dataframe\">\n",
              "  <thead>\n",
              "    <tr style=\"text-align: right;\">\n",
              "      <th></th>\n",
              "      <th>name</th>\n",
              "      <th>address</th>\n",
              "      <th>latlng</th>\n",
              "    </tr>\n",
              "  </thead>\n",
              "  <tbody>\n",
              "    <tr>\n",
              "      <th>0</th>\n",
              "      <td>ça Va</td>\n",
              "      <td>R. Cap. Rebelinho, 519, Recife</td>\n",
              "      <td>(-8.0955668, -34.8839742)</td>\n",
              "    </tr>\n",
              "    <tr>\n",
              "      <th>1</th>\n",
              "      <td>Ca Va</td>\n",
              "      <td>R. Capitão Rebelinho, 519, Recife/PE</td>\n",
              "      <td>(-8.0955668, -34.8839742)</td>\n",
              "    </tr>\n",
              "    <tr>\n",
              "      <th>2</th>\n",
              "      <td>Côté Soleil</td>\n",
              "      <td>50-12 Skillman Ave, queens, NY</td>\n",
              "      <td>(40.7459655, -73.9138813)</td>\n",
              "    </tr>\n",
              "    <tr>\n",
              "      <th>3</th>\n",
              "      <td>cote soleil</td>\n",
              "      <td>50 Skillman Ave, nyc</td>\n",
              "      <td>(40.7153557, -73.949766)</td>\n",
              "    </tr>\n",
              "    <tr>\n",
              "      <th>4</th>\n",
              "      <td>Cafe Harvest</td>\n",
              "      <td>karmeliterplatz 1, Vienna</td>\n",
              "      <td>(48.2154908, 16.3799073)</td>\n",
              "    </tr>\n",
              "    <tr>\n",
              "      <th>5</th>\n",
              "      <td>Harvest Café</td>\n",
              "      <td>Karmeliterpl. 1, 1020, Wien</td>\n",
              "      <td>(48.2154908, 16.3799073)</td>\n",
              "    </tr>\n",
              "  </tbody>\n",
              "</table>\n",
              "</div>\n",
              "      <button class=\"colab-df-convert\" onclick=\"convertToInteractive('df-c3f94fb8-785e-4f48-8470-17a70b5a9dba')\"\n",
              "              title=\"Convert this dataframe to an interactive table.\"\n",
              "              style=\"display:none;\">\n",
              "        \n",
              "  <svg xmlns=\"http://www.w3.org/2000/svg\" height=\"24px\"viewBox=\"0 0 24 24\"\n",
              "       width=\"24px\">\n",
              "    <path d=\"M0 0h24v24H0V0z\" fill=\"none\"/>\n",
              "    <path d=\"M18.56 5.44l.94 2.06.94-2.06 2.06-.94-2.06-.94-.94-2.06-.94 2.06-2.06.94zm-11 1L8.5 8.5l.94-2.06 2.06-.94-2.06-.94L8.5 2.5l-.94 2.06-2.06.94zm10 10l.94 2.06.94-2.06 2.06-.94-2.06-.94-.94-2.06-.94 2.06-2.06.94z\"/><path d=\"M17.41 7.96l-1.37-1.37c-.4-.4-.92-.59-1.43-.59-.52 0-1.04.2-1.43.59L10.3 9.45l-7.72 7.72c-.78.78-.78 2.05 0 2.83L4 21.41c.39.39.9.59 1.41.59.51 0 1.02-.2 1.41-.59l7.78-7.78 2.81-2.81c.8-.78.8-2.07 0-2.86zM5.41 20L4 18.59l7.72-7.72 1.47 1.35L5.41 20z\"/>\n",
              "  </svg>\n",
              "      </button>\n",
              "      \n",
              "  <style>\n",
              "    .colab-df-container {\n",
              "      display:flex;\n",
              "      flex-wrap:wrap;\n",
              "      gap: 12px;\n",
              "    }\n",
              "\n",
              "    .colab-df-convert {\n",
              "      background-color: #E8F0FE;\n",
              "      border: none;\n",
              "      border-radius: 50%;\n",
              "      cursor: pointer;\n",
              "      display: none;\n",
              "      fill: #1967D2;\n",
              "      height: 32px;\n",
              "      padding: 0 0 0 0;\n",
              "      width: 32px;\n",
              "    }\n",
              "\n",
              "    .colab-df-convert:hover {\n",
              "      background-color: #E2EBFA;\n",
              "      box-shadow: 0px 1px 2px rgba(60, 64, 67, 0.3), 0px 1px 3px 1px rgba(60, 64, 67, 0.15);\n",
              "      fill: #174EA6;\n",
              "    }\n",
              "\n",
              "    [theme=dark] .colab-df-convert {\n",
              "      background-color: #3B4455;\n",
              "      fill: #D2E3FC;\n",
              "    }\n",
              "\n",
              "    [theme=dark] .colab-df-convert:hover {\n",
              "      background-color: #434B5C;\n",
              "      box-shadow: 0px 1px 3px 1px rgba(0, 0, 0, 0.15);\n",
              "      filter: drop-shadow(0px 1px 2px rgba(0, 0, 0, 0.3));\n",
              "      fill: #FFFFFF;\n",
              "    }\n",
              "  </style>\n",
              "\n",
              "      <script>\n",
              "        const buttonEl =\n",
              "          document.querySelector('#df-c3f94fb8-785e-4f48-8470-17a70b5a9dba button.colab-df-convert');\n",
              "        buttonEl.style.display =\n",
              "          google.colab.kernel.accessAllowed ? 'block' : 'none';\n",
              "\n",
              "        async function convertToInteractive(key) {\n",
              "          const element = document.querySelector('#df-c3f94fb8-785e-4f48-8470-17a70b5a9dba');\n",
              "          const dataTable =\n",
              "            await google.colab.kernel.invokeFunction('convertToInteractive',\n",
              "                                                     [key], {});\n",
              "          if (!dataTable) return;\n",
              "\n",
              "          const docLinkHtml = 'Like what you see? Visit the ' +\n",
              "            '<a target=\"_blank\" href=https://colab.research.google.com/notebooks/data_table.ipynb>data table notebook</a>'\n",
              "            + ' to learn more about interactive tables.';\n",
              "          element.innerHTML = '';\n",
              "          dataTable['output_type'] = 'display_data';\n",
              "          await google.colab.output.renderOutput(dataTable, element);\n",
              "          const docLink = document.createElement('div');\n",
              "          docLink.innerHTML = docLinkHtml;\n",
              "          element.appendChild(docLink);\n",
              "        }\n",
              "      </script>\n",
              "    </div>\n",
              "  </div>\n",
              "  "
            ]
          },
          "metadata": {},
          "execution_count": 39
        }
      ],
      "source": [
        "def address_to_latlng(address):\n",
        "  geolocator = Nominatim(user_agent=\"MyApp\")\n",
        "  add = geolocator.geocode(address)\n",
        "  return add.latitude, add.longitude\n",
        "\n",
        "df = df.assign(latlng=df['address'].apply(address_to_latlng))\n",
        "df"
      ]
    },
    {
      "cell_type": "code",
      "execution_count": null,
      "metadata": {
        "id": "3FxwYfmKA2N7"
      },
      "outputs": [],
      "source": [
        "df = df[['name', 'latlng']]"
      ]
    },
    {
      "cell_type": "markdown",
      "metadata": {
        "id": "f9nPbeWbA2N7"
      },
      "source": [
        "Lets grab the **IDs** of our records:"
      ]
    },
    {
      "cell_type": "code",
      "execution_count": null,
      "metadata": {
        "id": "vyLt9y0LA2N7",
        "outputId": "d13f6ca2-c11e-48e2-e848-2095bf75a2f9",
        "colab": {
          "base_uri": "https://localhost:8080/"
        }
      },
      "outputs": [
        {
          "output_type": "execute_result",
          "data": {
            "text/plain": [
              "[0, 1, 2, 3, 4, 5]"
            ]
          },
          "metadata": {},
          "execution_count": 41
        }
      ],
      "source": [
        "list(df.index)"
      ]
    },
    {
      "cell_type": "markdown",
      "metadata": {
        "id": "qnf1NdxRA2N8"
      },
      "source": [
        "And compute **all possible pairs** to match:"
      ]
    },
    {
      "cell_type": "code",
      "execution_count": null,
      "metadata": {
        "id": "zqJhrBF_A2N8",
        "outputId": "19b77689-e254-4a69-d52e-c4d022e81e1e",
        "colab": {
          "base_uri": "https://localhost:8080/"
        }
      },
      "outputs": [
        {
          "output_type": "stream",
          "name": "stdout",
          "text": [
            "all_pairs: [(0, 1), (0, 2), (0, 3), (0, 4), (0, 5), (1, 2), (1, 3), (1, 4), (1, 5), (2, 3), (2, 4), (2, 5), (3, 4), (3, 5), (4, 5)]\n",
            "len(all_pairs): 15\n"
          ]
        }
      ],
      "source": [
        "import itertools\n",
        "\n",
        "all_pairs = list(itertools.combinations(df.index, 2))\n",
        "print(\"all_pairs:\", all_pairs)\n",
        "print(\"len(all_pairs):\", len(all_pairs))"
      ]
    },
    {
      "cell_type": "markdown",
      "metadata": {
        "id": "DO11XlrtA2N8"
      },
      "source": [
        "Checking some of the **pairs**:"
      ]
    },
    {
      "cell_type": "code",
      "execution_count": null,
      "metadata": {
        "id": "vAYUm8CLA2N8",
        "outputId": "fa2cd662-41dc-40f5-91a7-811c6a3c46f6",
        "colab": {
          "base_uri": "https://localhost:8080/",
          "height": 302
        }
      },
      "outputs": [
        {
          "output_type": "display_data",
          "data": {
            "text/plain": [
              "    name                     latlng\n",
              "0  ça Va  (-8.0955668, -34.8839742)\n",
              "1  Ca Va  (-8.0955668, -34.8839742)"
            ],
            "text/html": [
              "\n",
              "  <div id=\"df-6bc637e6-02d7-4c0e-bd13-940a8ef0360c\">\n",
              "    <div class=\"colab-df-container\">\n",
              "      <div>\n",
              "<style scoped>\n",
              "    .dataframe tbody tr th:only-of-type {\n",
              "        vertical-align: middle;\n",
              "    }\n",
              "\n",
              "    .dataframe tbody tr th {\n",
              "        vertical-align: top;\n",
              "    }\n",
              "\n",
              "    .dataframe thead th {\n",
              "        text-align: right;\n",
              "    }\n",
              "</style>\n",
              "<table border=\"1\" class=\"dataframe\">\n",
              "  <thead>\n",
              "    <tr style=\"text-align: right;\">\n",
              "      <th></th>\n",
              "      <th>name</th>\n",
              "      <th>latlng</th>\n",
              "    </tr>\n",
              "  </thead>\n",
              "  <tbody>\n",
              "    <tr>\n",
              "      <th>0</th>\n",
              "      <td>ça Va</td>\n",
              "      <td>(-8.0955668, -34.8839742)</td>\n",
              "    </tr>\n",
              "    <tr>\n",
              "      <th>1</th>\n",
              "      <td>Ca Va</td>\n",
              "      <td>(-8.0955668, -34.8839742)</td>\n",
              "    </tr>\n",
              "  </tbody>\n",
              "</table>\n",
              "</div>\n",
              "      <button class=\"colab-df-convert\" onclick=\"convertToInteractive('df-6bc637e6-02d7-4c0e-bd13-940a8ef0360c')\"\n",
              "              title=\"Convert this dataframe to an interactive table.\"\n",
              "              style=\"display:none;\">\n",
              "        \n",
              "  <svg xmlns=\"http://www.w3.org/2000/svg\" height=\"24px\"viewBox=\"0 0 24 24\"\n",
              "       width=\"24px\">\n",
              "    <path d=\"M0 0h24v24H0V0z\" fill=\"none\"/>\n",
              "    <path d=\"M18.56 5.44l.94 2.06.94-2.06 2.06-.94-2.06-.94-.94-2.06-.94 2.06-2.06.94zm-11 1L8.5 8.5l.94-2.06 2.06-.94-2.06-.94L8.5 2.5l-.94 2.06-2.06.94zm10 10l.94 2.06.94-2.06 2.06-.94-2.06-.94-.94-2.06-.94 2.06-2.06.94z\"/><path d=\"M17.41 7.96l-1.37-1.37c-.4-.4-.92-.59-1.43-.59-.52 0-1.04.2-1.43.59L10.3 9.45l-7.72 7.72c-.78.78-.78 2.05 0 2.83L4 21.41c.39.39.9.59 1.41.59.51 0 1.02-.2 1.41-.59l7.78-7.78 2.81-2.81c.8-.78.8-2.07 0-2.86zM5.41 20L4 18.59l7.72-7.72 1.47 1.35L5.41 20z\"/>\n",
              "  </svg>\n",
              "      </button>\n",
              "      \n",
              "  <style>\n",
              "    .colab-df-container {\n",
              "      display:flex;\n",
              "      flex-wrap:wrap;\n",
              "      gap: 12px;\n",
              "    }\n",
              "\n",
              "    .colab-df-convert {\n",
              "      background-color: #E8F0FE;\n",
              "      border: none;\n",
              "      border-radius: 50%;\n",
              "      cursor: pointer;\n",
              "      display: none;\n",
              "      fill: #1967D2;\n",
              "      height: 32px;\n",
              "      padding: 0 0 0 0;\n",
              "      width: 32px;\n",
              "    }\n",
              "\n",
              "    .colab-df-convert:hover {\n",
              "      background-color: #E2EBFA;\n",
              "      box-shadow: 0px 1px 2px rgba(60, 64, 67, 0.3), 0px 1px 3px 1px rgba(60, 64, 67, 0.15);\n",
              "      fill: #174EA6;\n",
              "    }\n",
              "\n",
              "    [theme=dark] .colab-df-convert {\n",
              "      background-color: #3B4455;\n",
              "      fill: #D2E3FC;\n",
              "    }\n",
              "\n",
              "    [theme=dark] .colab-df-convert:hover {\n",
              "      background-color: #434B5C;\n",
              "      box-shadow: 0px 1px 3px 1px rgba(0, 0, 0, 0.15);\n",
              "      filter: drop-shadow(0px 1px 2px rgba(0, 0, 0, 0.3));\n",
              "      fill: #FFFFFF;\n",
              "    }\n",
              "  </style>\n",
              "\n",
              "      <script>\n",
              "        const buttonEl =\n",
              "          document.querySelector('#df-6bc637e6-02d7-4c0e-bd13-940a8ef0360c button.colab-df-convert');\n",
              "        buttonEl.style.display =\n",
              "          google.colab.kernel.accessAllowed ? 'block' : 'none';\n",
              "\n",
              "        async function convertToInteractive(key) {\n",
              "          const element = document.querySelector('#df-6bc637e6-02d7-4c0e-bd13-940a8ef0360c');\n",
              "          const dataTable =\n",
              "            await google.colab.kernel.invokeFunction('convertToInteractive',\n",
              "                                                     [key], {});\n",
              "          if (!dataTable) return;\n",
              "\n",
              "          const docLinkHtml = 'Like what you see? Visit the ' +\n",
              "            '<a target=\"_blank\" href=https://colab.research.google.com/notebooks/data_table.ipynb>data table notebook</a>'\n",
              "            + ' to learn more about interactive tables.';\n",
              "          element.innerHTML = '';\n",
              "          dataTable['output_type'] = 'display_data';\n",
              "          await google.colab.output.renderOutput(dataTable, element);\n",
              "          const docLink = document.createElement('div');\n",
              "          docLink.innerHTML = docLinkHtml;\n",
              "          element.appendChild(docLink);\n",
              "        }\n",
              "      </script>\n",
              "    </div>\n",
              "  </div>\n",
              "  "
            ]
          },
          "metadata": {}
        },
        {
          "output_type": "display_data",
          "data": {
            "text/plain": [
              "          name                     latlng\n",
              "0        ça Va  (-8.0955668, -34.8839742)\n",
              "2  Côté Soleil  (40.7459655, -73.9138813)"
            ],
            "text/html": [
              "\n",
              "  <div id=\"df-865a674e-e7af-4fa5-9fe5-e8630b5606a2\">\n",
              "    <div class=\"colab-df-container\">\n",
              "      <div>\n",
              "<style scoped>\n",
              "    .dataframe tbody tr th:only-of-type {\n",
              "        vertical-align: middle;\n",
              "    }\n",
              "\n",
              "    .dataframe tbody tr th {\n",
              "        vertical-align: top;\n",
              "    }\n",
              "\n",
              "    .dataframe thead th {\n",
              "        text-align: right;\n",
              "    }\n",
              "</style>\n",
              "<table border=\"1\" class=\"dataframe\">\n",
              "  <thead>\n",
              "    <tr style=\"text-align: right;\">\n",
              "      <th></th>\n",
              "      <th>name</th>\n",
              "      <th>latlng</th>\n",
              "    </tr>\n",
              "  </thead>\n",
              "  <tbody>\n",
              "    <tr>\n",
              "      <th>0</th>\n",
              "      <td>ça Va</td>\n",
              "      <td>(-8.0955668, -34.8839742)</td>\n",
              "    </tr>\n",
              "    <tr>\n",
              "      <th>2</th>\n",
              "      <td>Côté Soleil</td>\n",
              "      <td>(40.7459655, -73.9138813)</td>\n",
              "    </tr>\n",
              "  </tbody>\n",
              "</table>\n",
              "</div>\n",
              "      <button class=\"colab-df-convert\" onclick=\"convertToInteractive('df-865a674e-e7af-4fa5-9fe5-e8630b5606a2')\"\n",
              "              title=\"Convert this dataframe to an interactive table.\"\n",
              "              style=\"display:none;\">\n",
              "        \n",
              "  <svg xmlns=\"http://www.w3.org/2000/svg\" height=\"24px\"viewBox=\"0 0 24 24\"\n",
              "       width=\"24px\">\n",
              "    <path d=\"M0 0h24v24H0V0z\" fill=\"none\"/>\n",
              "    <path d=\"M18.56 5.44l.94 2.06.94-2.06 2.06-.94-2.06-.94-.94-2.06-.94 2.06-2.06.94zm-11 1L8.5 8.5l.94-2.06 2.06-.94-2.06-.94L8.5 2.5l-.94 2.06-2.06.94zm10 10l.94 2.06.94-2.06 2.06-.94-2.06-.94-.94-2.06-.94 2.06-2.06.94z\"/><path d=\"M17.41 7.96l-1.37-1.37c-.4-.4-.92-.59-1.43-.59-.52 0-1.04.2-1.43.59L10.3 9.45l-7.72 7.72c-.78.78-.78 2.05 0 2.83L4 21.41c.39.39.9.59 1.41.59.51 0 1.02-.2 1.41-.59l7.78-7.78 2.81-2.81c.8-.78.8-2.07 0-2.86zM5.41 20L4 18.59l7.72-7.72 1.47 1.35L5.41 20z\"/>\n",
              "  </svg>\n",
              "      </button>\n",
              "      \n",
              "  <style>\n",
              "    .colab-df-container {\n",
              "      display:flex;\n",
              "      flex-wrap:wrap;\n",
              "      gap: 12px;\n",
              "    }\n",
              "\n",
              "    .colab-df-convert {\n",
              "      background-color: #E8F0FE;\n",
              "      border: none;\n",
              "      border-radius: 50%;\n",
              "      cursor: pointer;\n",
              "      display: none;\n",
              "      fill: #1967D2;\n",
              "      height: 32px;\n",
              "      padding: 0 0 0 0;\n",
              "      width: 32px;\n",
              "    }\n",
              "\n",
              "    .colab-df-convert:hover {\n",
              "      background-color: #E2EBFA;\n",
              "      box-shadow: 0px 1px 2px rgba(60, 64, 67, 0.3), 0px 1px 3px 1px rgba(60, 64, 67, 0.15);\n",
              "      fill: #174EA6;\n",
              "    }\n",
              "\n",
              "    [theme=dark] .colab-df-convert {\n",
              "      background-color: #3B4455;\n",
              "      fill: #D2E3FC;\n",
              "    }\n",
              "\n",
              "    [theme=dark] .colab-df-convert:hover {\n",
              "      background-color: #434B5C;\n",
              "      box-shadow: 0px 1px 3px 1px rgba(0, 0, 0, 0.15);\n",
              "      filter: drop-shadow(0px 1px 2px rgba(0, 0, 0, 0.3));\n",
              "      fill: #FFFFFF;\n",
              "    }\n",
              "  </style>\n",
              "\n",
              "      <script>\n",
              "        const buttonEl =\n",
              "          document.querySelector('#df-865a674e-e7af-4fa5-9fe5-e8630b5606a2 button.colab-df-convert');\n",
              "        buttonEl.style.display =\n",
              "          google.colab.kernel.accessAllowed ? 'block' : 'none';\n",
              "\n",
              "        async function convertToInteractive(key) {\n",
              "          const element = document.querySelector('#df-865a674e-e7af-4fa5-9fe5-e8630b5606a2');\n",
              "          const dataTable =\n",
              "            await google.colab.kernel.invokeFunction('convertToInteractive',\n",
              "                                                     [key], {});\n",
              "          if (!dataTable) return;\n",
              "\n",
              "          const docLinkHtml = 'Like what you see? Visit the ' +\n",
              "            '<a target=\"_blank\" href=https://colab.research.google.com/notebooks/data_table.ipynb>data table notebook</a>'\n",
              "            + ' to learn more about interactive tables.';\n",
              "          element.innerHTML = '';\n",
              "          dataTable['output_type'] = 'display_data';\n",
              "          await google.colab.output.renderOutput(dataTable, element);\n",
              "          const docLink = document.createElement('div');\n",
              "          docLink.innerHTML = docLinkHtml;\n",
              "          element.appendChild(docLink);\n",
              "        }\n",
              "      </script>\n",
              "    </div>\n",
              "  </div>\n",
              "  "
            ]
          },
          "metadata": {}
        },
        {
          "output_type": "display_data",
          "data": {
            "text/plain": [
              "          name                     latlng\n",
              "0        ça Va  (-8.0955668, -34.8839742)\n",
              "3  cote soleil   (40.7153557, -73.949766)"
            ],
            "text/html": [
              "\n",
              "  <div id=\"df-b03ae892-bea2-42ec-b9a3-96f18a01d227\">\n",
              "    <div class=\"colab-df-container\">\n",
              "      <div>\n",
              "<style scoped>\n",
              "    .dataframe tbody tr th:only-of-type {\n",
              "        vertical-align: middle;\n",
              "    }\n",
              "\n",
              "    .dataframe tbody tr th {\n",
              "        vertical-align: top;\n",
              "    }\n",
              "\n",
              "    .dataframe thead th {\n",
              "        text-align: right;\n",
              "    }\n",
              "</style>\n",
              "<table border=\"1\" class=\"dataframe\">\n",
              "  <thead>\n",
              "    <tr style=\"text-align: right;\">\n",
              "      <th></th>\n",
              "      <th>name</th>\n",
              "      <th>latlng</th>\n",
              "    </tr>\n",
              "  </thead>\n",
              "  <tbody>\n",
              "    <tr>\n",
              "      <th>0</th>\n",
              "      <td>ça Va</td>\n",
              "      <td>(-8.0955668, -34.8839742)</td>\n",
              "    </tr>\n",
              "    <tr>\n",
              "      <th>3</th>\n",
              "      <td>cote soleil</td>\n",
              "      <td>(40.7153557, -73.949766)</td>\n",
              "    </tr>\n",
              "  </tbody>\n",
              "</table>\n",
              "</div>\n",
              "      <button class=\"colab-df-convert\" onclick=\"convertToInteractive('df-b03ae892-bea2-42ec-b9a3-96f18a01d227')\"\n",
              "              title=\"Convert this dataframe to an interactive table.\"\n",
              "              style=\"display:none;\">\n",
              "        \n",
              "  <svg xmlns=\"http://www.w3.org/2000/svg\" height=\"24px\"viewBox=\"0 0 24 24\"\n",
              "       width=\"24px\">\n",
              "    <path d=\"M0 0h24v24H0V0z\" fill=\"none\"/>\n",
              "    <path d=\"M18.56 5.44l.94 2.06.94-2.06 2.06-.94-2.06-.94-.94-2.06-.94 2.06-2.06.94zm-11 1L8.5 8.5l.94-2.06 2.06-.94-2.06-.94L8.5 2.5l-.94 2.06-2.06.94zm10 10l.94 2.06.94-2.06 2.06-.94-2.06-.94-.94-2.06-.94 2.06-2.06.94z\"/><path d=\"M17.41 7.96l-1.37-1.37c-.4-.4-.92-.59-1.43-.59-.52 0-1.04.2-1.43.59L10.3 9.45l-7.72 7.72c-.78.78-.78 2.05 0 2.83L4 21.41c.39.39.9.59 1.41.59.51 0 1.02-.2 1.41-.59l7.78-7.78 2.81-2.81c.8-.78.8-2.07 0-2.86zM5.41 20L4 18.59l7.72-7.72 1.47 1.35L5.41 20z\"/>\n",
              "  </svg>\n",
              "      </button>\n",
              "      \n",
              "  <style>\n",
              "    .colab-df-container {\n",
              "      display:flex;\n",
              "      flex-wrap:wrap;\n",
              "      gap: 12px;\n",
              "    }\n",
              "\n",
              "    .colab-df-convert {\n",
              "      background-color: #E8F0FE;\n",
              "      border: none;\n",
              "      border-radius: 50%;\n",
              "      cursor: pointer;\n",
              "      display: none;\n",
              "      fill: #1967D2;\n",
              "      height: 32px;\n",
              "      padding: 0 0 0 0;\n",
              "      width: 32px;\n",
              "    }\n",
              "\n",
              "    .colab-df-convert:hover {\n",
              "      background-color: #E2EBFA;\n",
              "      box-shadow: 0px 1px 2px rgba(60, 64, 67, 0.3), 0px 1px 3px 1px rgba(60, 64, 67, 0.15);\n",
              "      fill: #174EA6;\n",
              "    }\n",
              "\n",
              "    [theme=dark] .colab-df-convert {\n",
              "      background-color: #3B4455;\n",
              "      fill: #D2E3FC;\n",
              "    }\n",
              "\n",
              "    [theme=dark] .colab-df-convert:hover {\n",
              "      background-color: #434B5C;\n",
              "      box-shadow: 0px 1px 3px 1px rgba(0, 0, 0, 0.15);\n",
              "      filter: drop-shadow(0px 1px 2px rgba(0, 0, 0, 0.3));\n",
              "      fill: #FFFFFF;\n",
              "    }\n",
              "  </style>\n",
              "\n",
              "      <script>\n",
              "        const buttonEl =\n",
              "          document.querySelector('#df-b03ae892-bea2-42ec-b9a3-96f18a01d227 button.colab-df-convert');\n",
              "        buttonEl.style.display =\n",
              "          google.colab.kernel.accessAllowed ? 'block' : 'none';\n",
              "\n",
              "        async function convertToInteractive(key) {\n",
              "          const element = document.querySelector('#df-b03ae892-bea2-42ec-b9a3-96f18a01d227');\n",
              "          const dataTable =\n",
              "            await google.colab.kernel.invokeFunction('convertToInteractive',\n",
              "                                                     [key], {});\n",
              "          if (!dataTable) return;\n",
              "\n",
              "          const docLinkHtml = 'Like what you see? Visit the ' +\n",
              "            '<a target=\"_blank\" href=https://colab.research.google.com/notebooks/data_table.ipynb>data table notebook</a>'\n",
              "            + ' to learn more about interactive tables.';\n",
              "          element.innerHTML = '';\n",
              "          dataTable['output_type'] = 'display_data';\n",
              "          await google.colab.output.renderOutput(dataTable, element);\n",
              "          const docLink = document.createElement('div');\n",
              "          docLink.innerHTML = docLinkHtml;\n",
              "          element.appendChild(docLink);\n",
              "        }\n",
              "      </script>\n",
              "    </div>\n",
              "  </div>\n",
              "  "
            ]
          },
          "metadata": {}
        }
      ],
      "source": [
        "for i, pair in enumerate(all_pairs):\n",
        "    display(df.loc[list(pair)])\n",
        "    if i == 2:\n",
        "        break"
      ]
    },
    {
      "cell_type": "markdown",
      "metadata": {
        "id": "PtGBK_-iA2N8"
      },
      "source": [
        "Now we'll represent pairs **`dict`** records pairs:"
      ]
    },
    {
      "cell_type": "code",
      "execution_count": null,
      "metadata": {
        "id": "nnfE4lCLA2N9",
        "outputId": "a7a3e345-8043-4eb9-f7f5-96c0c7d1d482",
        "colab": {
          "base_uri": "https://localhost:8080/",
          "height": 54
        }
      },
      "outputs": [
        {
          "output_type": "display_data",
          "data": {
            "text/plain": [
              "[{'name': 'Côté Soleil', 'latlng': (40.7459655, -73.9138813)},\n",
              " {'name': 'Cafe Harvest', 'latlng': (48.2154908, 16.3799073)}]"
            ]
          },
          "metadata": {}
        }
      ],
      "source": [
        "record_pair = df.loc[list(all_pairs[10])].to_dict(orient='records')\n",
        "display(record_pair)"
      ]
    },
    {
      "cell_type": "markdown",
      "metadata": {
        "id": "sUe-wFTlA2N9"
      },
      "source": [
        "We do that becuase we'll create **scoring functions** to compare the fields from each record pair:"
      ]
    },
    {
      "cell_type": "code",
      "execution_count": null,
      "metadata": {
        "id": "G1SLBUgEA2N9"
      },
      "outputs": [],
      "source": [
        "def _compare_name(x, y):\n",
        "    return MongeElkan(\n",
        "        sim_func=Levenshtein().get_sim_score\n",
        "    ).get_raw_score(x.split(), y.split())\n",
        "\n",
        "def _compare_latlng(x, y):\n",
        "    return haversine.haversine(x, y, unit=haversine.Unit.KILOMETERS)\n",
        "\n",
        "def compare_pair(record_x, record_y):\n",
        "    return {\n",
        "        'name': _compare_name(record_x['name'], record_y['name']),\n",
        "        'latlng': _compare_latlng(record_x['latlng'], record_y['latlng'])\n",
        "    }"
      ]
    },
    {
      "cell_type": "code",
      "execution_count": null,
      "metadata": {
        "id": "AzWfuMcOA2N9",
        "outputId": "80fec00d-9aff-4f77-91a6-e600581bfe1a",
        "colab": {
          "base_uri": "https://localhost:8080/"
        }
      },
      "outputs": [
        {
          "output_type": "execute_result",
          "data": {
            "text/plain": [
              "{'name': 0.20833333333333331, 'latlng': 6788.023599859068}"
            ]
          },
          "metadata": {},
          "execution_count": 46
        }
      ],
      "source": [
        "compare_pair(*record_pair)"
      ]
    },
    {
      "cell_type": "markdown",
      "metadata": {
        "id": "bxZC1RWaA2N-"
      },
      "source": [
        "This example pair has **low similarity of names** and **distant addresses**, so it's clearly a **non-match**."
      ]
    },
    {
      "cell_type": "markdown",
      "metadata": {
        "id": "RzepFMEdA2N-"
      },
      "source": [
        "Now let's score **all pairs**:"
      ]
    },
    {
      "cell_type": "code",
      "execution_count": null,
      "metadata": {
        "id": "BLFbFbbJA2N-",
        "outputId": "d1553ad8-4c03-418e-c583-5a85ac75966d",
        "colab": {
          "base_uri": "https://localhost:8080/",
          "height": 576
        }
      },
      "outputs": [
        {
          "output_type": "stream",
          "name": "stderr",
          "text": [
            "<ipython-input-47-e3055e1a2f8a>:4: FutureWarning: Using short name for 'orient' is deprecated. Only the options: ('dict', list, 'series', 'split', 'records', 'index') will be used in a future version. Use one of the above to silence this warning.\n",
            "  record_x, record_y = df.loc[list(pair)].to_dict(orient='record')\n"
          ]
        },
        {
          "output_type": "execute_result",
          "data": {
            "text/plain": [
              "         name       latlng\n",
              "0 1  0.750000     0.000000\n",
              "  2  0.000000  6739.595273\n",
              "  3  0.000000  6739.382987\n",
              "  4  0.250000  8014.300880\n",
              "  5  0.250000  8014.300880\n",
              "1 2  0.125000  6739.595273\n",
              "  3  0.000000  6739.382987\n",
              "  4  0.375000  8014.300880\n",
              "  5  0.375000  8014.300880\n",
              "2 3  0.541667     4.552774\n",
              "  4  0.208333  6788.023600\n",
              "  5  0.321429  6788.023600\n",
              "3 4  0.208333  6792.532436\n",
              "  5  0.142857  6792.532436\n",
              "4 5  0.875000     0.000000"
            ],
            "text/html": [
              "\n",
              "  <div id=\"df-11bad377-0b3e-43a5-a3fa-31b33748e1de\">\n",
              "    <div class=\"colab-df-container\">\n",
              "      <div>\n",
              "<style scoped>\n",
              "    .dataframe tbody tr th:only-of-type {\n",
              "        vertical-align: middle;\n",
              "    }\n",
              "\n",
              "    .dataframe tbody tr th {\n",
              "        vertical-align: top;\n",
              "    }\n",
              "\n",
              "    .dataframe thead th {\n",
              "        text-align: right;\n",
              "    }\n",
              "</style>\n",
              "<table border=\"1\" class=\"dataframe\">\n",
              "  <thead>\n",
              "    <tr style=\"text-align: right;\">\n",
              "      <th></th>\n",
              "      <th></th>\n",
              "      <th>name</th>\n",
              "      <th>latlng</th>\n",
              "    </tr>\n",
              "  </thead>\n",
              "  <tbody>\n",
              "    <tr>\n",
              "      <th rowspan=\"5\" valign=\"top\">0</th>\n",
              "      <th>1</th>\n",
              "      <td>0.750000</td>\n",
              "      <td>0.000000</td>\n",
              "    </tr>\n",
              "    <tr>\n",
              "      <th>2</th>\n",
              "      <td>0.000000</td>\n",
              "      <td>6739.595273</td>\n",
              "    </tr>\n",
              "    <tr>\n",
              "      <th>3</th>\n",
              "      <td>0.000000</td>\n",
              "      <td>6739.382987</td>\n",
              "    </tr>\n",
              "    <tr>\n",
              "      <th>4</th>\n",
              "      <td>0.250000</td>\n",
              "      <td>8014.300880</td>\n",
              "    </tr>\n",
              "    <tr>\n",
              "      <th>5</th>\n",
              "      <td>0.250000</td>\n",
              "      <td>8014.300880</td>\n",
              "    </tr>\n",
              "    <tr>\n",
              "      <th rowspan=\"4\" valign=\"top\">1</th>\n",
              "      <th>2</th>\n",
              "      <td>0.125000</td>\n",
              "      <td>6739.595273</td>\n",
              "    </tr>\n",
              "    <tr>\n",
              "      <th>3</th>\n",
              "      <td>0.000000</td>\n",
              "      <td>6739.382987</td>\n",
              "    </tr>\n",
              "    <tr>\n",
              "      <th>4</th>\n",
              "      <td>0.375000</td>\n",
              "      <td>8014.300880</td>\n",
              "    </tr>\n",
              "    <tr>\n",
              "      <th>5</th>\n",
              "      <td>0.375000</td>\n",
              "      <td>8014.300880</td>\n",
              "    </tr>\n",
              "    <tr>\n",
              "      <th rowspan=\"3\" valign=\"top\">2</th>\n",
              "      <th>3</th>\n",
              "      <td>0.541667</td>\n",
              "      <td>4.552774</td>\n",
              "    </tr>\n",
              "    <tr>\n",
              "      <th>4</th>\n",
              "      <td>0.208333</td>\n",
              "      <td>6788.023600</td>\n",
              "    </tr>\n",
              "    <tr>\n",
              "      <th>5</th>\n",
              "      <td>0.321429</td>\n",
              "      <td>6788.023600</td>\n",
              "    </tr>\n",
              "    <tr>\n",
              "      <th rowspan=\"2\" valign=\"top\">3</th>\n",
              "      <th>4</th>\n",
              "      <td>0.208333</td>\n",
              "      <td>6792.532436</td>\n",
              "    </tr>\n",
              "    <tr>\n",
              "      <th>5</th>\n",
              "      <td>0.142857</td>\n",
              "      <td>6792.532436</td>\n",
              "    </tr>\n",
              "    <tr>\n",
              "      <th>4</th>\n",
              "      <th>5</th>\n",
              "      <td>0.875000</td>\n",
              "      <td>0.000000</td>\n",
              "    </tr>\n",
              "  </tbody>\n",
              "</table>\n",
              "</div>\n",
              "      <button class=\"colab-df-convert\" onclick=\"convertToInteractive('df-11bad377-0b3e-43a5-a3fa-31b33748e1de')\"\n",
              "              title=\"Convert this dataframe to an interactive table.\"\n",
              "              style=\"display:none;\">\n",
              "        \n",
              "  <svg xmlns=\"http://www.w3.org/2000/svg\" height=\"24px\"viewBox=\"0 0 24 24\"\n",
              "       width=\"24px\">\n",
              "    <path d=\"M0 0h24v24H0V0z\" fill=\"none\"/>\n",
              "    <path d=\"M18.56 5.44l.94 2.06.94-2.06 2.06-.94-2.06-.94-.94-2.06-.94 2.06-2.06.94zm-11 1L8.5 8.5l.94-2.06 2.06-.94-2.06-.94L8.5 2.5l-.94 2.06-2.06.94zm10 10l.94 2.06.94-2.06 2.06-.94-2.06-.94-.94-2.06-.94 2.06-2.06.94z\"/><path d=\"M17.41 7.96l-1.37-1.37c-.4-.4-.92-.59-1.43-.59-.52 0-1.04.2-1.43.59L10.3 9.45l-7.72 7.72c-.78.78-.78 2.05 0 2.83L4 21.41c.39.39.9.59 1.41.59.51 0 1.02-.2 1.41-.59l7.78-7.78 2.81-2.81c.8-.78.8-2.07 0-2.86zM5.41 20L4 18.59l7.72-7.72 1.47 1.35L5.41 20z\"/>\n",
              "  </svg>\n",
              "      </button>\n",
              "      \n",
              "  <style>\n",
              "    .colab-df-container {\n",
              "      display:flex;\n",
              "      flex-wrap:wrap;\n",
              "      gap: 12px;\n",
              "    }\n",
              "\n",
              "    .colab-df-convert {\n",
              "      background-color: #E8F0FE;\n",
              "      border: none;\n",
              "      border-radius: 50%;\n",
              "      cursor: pointer;\n",
              "      display: none;\n",
              "      fill: #1967D2;\n",
              "      height: 32px;\n",
              "      padding: 0 0 0 0;\n",
              "      width: 32px;\n",
              "    }\n",
              "\n",
              "    .colab-df-convert:hover {\n",
              "      background-color: #E2EBFA;\n",
              "      box-shadow: 0px 1px 2px rgba(60, 64, 67, 0.3), 0px 1px 3px 1px rgba(60, 64, 67, 0.15);\n",
              "      fill: #174EA6;\n",
              "    }\n",
              "\n",
              "    [theme=dark] .colab-df-convert {\n",
              "      background-color: #3B4455;\n",
              "      fill: #D2E3FC;\n",
              "    }\n",
              "\n",
              "    [theme=dark] .colab-df-convert:hover {\n",
              "      background-color: #434B5C;\n",
              "      box-shadow: 0px 1px 3px 1px rgba(0, 0, 0, 0.15);\n",
              "      filter: drop-shadow(0px 1px 2px rgba(0, 0, 0, 0.3));\n",
              "      fill: #FFFFFF;\n",
              "    }\n",
              "  </style>\n",
              "\n",
              "      <script>\n",
              "        const buttonEl =\n",
              "          document.querySelector('#df-11bad377-0b3e-43a5-a3fa-31b33748e1de button.colab-df-convert');\n",
              "        buttonEl.style.display =\n",
              "          google.colab.kernel.accessAllowed ? 'block' : 'none';\n",
              "\n",
              "        async function convertToInteractive(key) {\n",
              "          const element = document.querySelector('#df-11bad377-0b3e-43a5-a3fa-31b33748e1de');\n",
              "          const dataTable =\n",
              "            await google.colab.kernel.invokeFunction('convertToInteractive',\n",
              "                                                     [key], {});\n",
              "          if (!dataTable) return;\n",
              "\n",
              "          const docLinkHtml = 'Like what you see? Visit the ' +\n",
              "            '<a target=\"_blank\" href=https://colab.research.google.com/notebooks/data_table.ipynb>data table notebook</a>'\n",
              "            + ' to learn more about interactive tables.';\n",
              "          element.innerHTML = '';\n",
              "          dataTable['output_type'] = 'display_data';\n",
              "          await google.colab.output.renderOutput(dataTable, element);\n",
              "          const docLink = document.createElement('div');\n",
              "          docLink.innerHTML = docLinkHtml;\n",
              "          element.appendChild(docLink);\n",
              "        }\n",
              "      </script>\n",
              "    </div>\n",
              "  </div>\n",
              "  "
            ]
          },
          "metadata": {},
          "execution_count": 47
        }
      ],
      "source": [
        "pair_scores = []\n",
        "\n",
        "for pair in all_pairs:\n",
        "    record_x, record_y = df.loc[list(pair)].to_dict(orient='record')\n",
        "    score_dict = compare_pair(record_x, record_y)\n",
        "    pair_scores.append(score_dict)\n",
        "\n",
        "score_df = pd.DataFrame.from_records(\n",
        "    pair_scores,\n",
        "    index=pd.MultiIndex.from_tuples(all_pairs)\n",
        ")\n",
        "score_df"
      ]
    },
    {
      "cell_type": "markdown",
      "metadata": {
        "id": "UBuOSmtwA2N-"
      },
      "source": [
        "Let's **filter** the scores dataframe to look for matches:"
      ]
    },
    {
      "cell_type": "code",
      "execution_count": null,
      "metadata": {
        "id": "ruAyfL9FA2N-",
        "outputId": "f96e1fab-7d81-4fa3-ee22-d052c33909f5",
        "colab": {
          "base_uri": "https://localhost:8080/",
          "height": 143
        }
      },
      "outputs": [
        {
          "output_type": "execute_result",
          "data": {
            "text/plain": [
              "         name    latlng\n",
              "0 1  0.750000  0.000000\n",
              "2 3  0.541667  4.552774\n",
              "4 5  0.875000  0.000000"
            ],
            "text/html": [
              "\n",
              "  <div id=\"df-3f7473a3-3317-46fd-a43a-45174603e56c\">\n",
              "    <div class=\"colab-df-container\">\n",
              "      <div>\n",
              "<style scoped>\n",
              "    .dataframe tbody tr th:only-of-type {\n",
              "        vertical-align: middle;\n",
              "    }\n",
              "\n",
              "    .dataframe tbody tr th {\n",
              "        vertical-align: top;\n",
              "    }\n",
              "\n",
              "    .dataframe thead th {\n",
              "        text-align: right;\n",
              "    }\n",
              "</style>\n",
              "<table border=\"1\" class=\"dataframe\">\n",
              "  <thead>\n",
              "    <tr style=\"text-align: right;\">\n",
              "      <th></th>\n",
              "      <th></th>\n",
              "      <th>name</th>\n",
              "      <th>latlng</th>\n",
              "    </tr>\n",
              "  </thead>\n",
              "  <tbody>\n",
              "    <tr>\n",
              "      <th>0</th>\n",
              "      <th>1</th>\n",
              "      <td>0.750000</td>\n",
              "      <td>0.000000</td>\n",
              "    </tr>\n",
              "    <tr>\n",
              "      <th>2</th>\n",
              "      <th>3</th>\n",
              "      <td>0.541667</td>\n",
              "      <td>4.552774</td>\n",
              "    </tr>\n",
              "    <tr>\n",
              "      <th>4</th>\n",
              "      <th>5</th>\n",
              "      <td>0.875000</td>\n",
              "      <td>0.000000</td>\n",
              "    </tr>\n",
              "  </tbody>\n",
              "</table>\n",
              "</div>\n",
              "      <button class=\"colab-df-convert\" onclick=\"convertToInteractive('df-3f7473a3-3317-46fd-a43a-45174603e56c')\"\n",
              "              title=\"Convert this dataframe to an interactive table.\"\n",
              "              style=\"display:none;\">\n",
              "        \n",
              "  <svg xmlns=\"http://www.w3.org/2000/svg\" height=\"24px\"viewBox=\"0 0 24 24\"\n",
              "       width=\"24px\">\n",
              "    <path d=\"M0 0h24v24H0V0z\" fill=\"none\"/>\n",
              "    <path d=\"M18.56 5.44l.94 2.06.94-2.06 2.06-.94-2.06-.94-.94-2.06-.94 2.06-2.06.94zm-11 1L8.5 8.5l.94-2.06 2.06-.94-2.06-.94L8.5 2.5l-.94 2.06-2.06.94zm10 10l.94 2.06.94-2.06 2.06-.94-2.06-.94-.94-2.06-.94 2.06-2.06.94z\"/><path d=\"M17.41 7.96l-1.37-1.37c-.4-.4-.92-.59-1.43-.59-.52 0-1.04.2-1.43.59L10.3 9.45l-7.72 7.72c-.78.78-.78 2.05 0 2.83L4 21.41c.39.39.9.59 1.41.59.51 0 1.02-.2 1.41-.59l7.78-7.78 2.81-2.81c.8-.78.8-2.07 0-2.86zM5.41 20L4 18.59l7.72-7.72 1.47 1.35L5.41 20z\"/>\n",
              "  </svg>\n",
              "      </button>\n",
              "      \n",
              "  <style>\n",
              "    .colab-df-container {\n",
              "      display:flex;\n",
              "      flex-wrap:wrap;\n",
              "      gap: 12px;\n",
              "    }\n",
              "\n",
              "    .colab-df-convert {\n",
              "      background-color: #E8F0FE;\n",
              "      border: none;\n",
              "      border-radius: 50%;\n",
              "      cursor: pointer;\n",
              "      display: none;\n",
              "      fill: #1967D2;\n",
              "      height: 32px;\n",
              "      padding: 0 0 0 0;\n",
              "      width: 32px;\n",
              "    }\n",
              "\n",
              "    .colab-df-convert:hover {\n",
              "      background-color: #E2EBFA;\n",
              "      box-shadow: 0px 1px 2px rgba(60, 64, 67, 0.3), 0px 1px 3px 1px rgba(60, 64, 67, 0.15);\n",
              "      fill: #174EA6;\n",
              "    }\n",
              "\n",
              "    [theme=dark] .colab-df-convert {\n",
              "      background-color: #3B4455;\n",
              "      fill: #D2E3FC;\n",
              "    }\n",
              "\n",
              "    [theme=dark] .colab-df-convert:hover {\n",
              "      background-color: #434B5C;\n",
              "      box-shadow: 0px 1px 3px 1px rgba(0, 0, 0, 0.15);\n",
              "      filter: drop-shadow(0px 1px 2px rgba(0, 0, 0, 0.3));\n",
              "      fill: #FFFFFF;\n",
              "    }\n",
              "  </style>\n",
              "\n",
              "      <script>\n",
              "        const buttonEl =\n",
              "          document.querySelector('#df-3f7473a3-3317-46fd-a43a-45174603e56c button.colab-df-convert');\n",
              "        buttonEl.style.display =\n",
              "          google.colab.kernel.accessAllowed ? 'block' : 'none';\n",
              "\n",
              "        async function convertToInteractive(key) {\n",
              "          const element = document.querySelector('#df-3f7473a3-3317-46fd-a43a-45174603e56c');\n",
              "          const dataTable =\n",
              "            await google.colab.kernel.invokeFunction('convertToInteractive',\n",
              "                                                     [key], {});\n",
              "          if (!dataTable) return;\n",
              "\n",
              "          const docLinkHtml = 'Like what you see? Visit the ' +\n",
              "            '<a target=\"_blank\" href=https://colab.research.google.com/notebooks/data_table.ipynb>data table notebook</a>'\n",
              "            + ' to learn more about interactive tables.';\n",
              "          element.innerHTML = '';\n",
              "          dataTable['output_type'] = 'display_data';\n",
              "          await google.colab.output.renderOutput(dataTable, element);\n",
              "          const docLink = document.createElement('div');\n",
              "          docLink.innerHTML = docLinkHtml;\n",
              "          element.appendChild(docLink);\n",
              "        }\n",
              "      </script>\n",
              "    </div>\n",
              "  </div>\n",
              "  "
            ]
          },
          "metadata": {},
          "execution_count": 48
        }
      ],
      "source": [
        "match_df = score_df.loc[(score_df['name'] >= 0.5) & (score_df['latlng'] < 5)]\n",
        "match_df"
      ]
    },
    {
      "cell_type": "code",
      "execution_count": null,
      "metadata": {
        "id": "rL8jhTIYA2N-",
        "outputId": "2f5b908c-75be-4a46-d187-0a05993e64e2",
        "colab": {
          "base_uri": "https://localhost:8080/",
          "height": 302
        }
      },
      "outputs": [
        {
          "output_type": "display_data",
          "data": {
            "text/plain": [
              "    name                     latlng\n",
              "0  ça Va  (-8.0955668, -34.8839742)\n",
              "1  Ca Va  (-8.0955668, -34.8839742)"
            ],
            "text/html": [
              "\n",
              "  <div id=\"df-1eb604d7-7255-470b-a6d5-0e561cda9207\">\n",
              "    <div class=\"colab-df-container\">\n",
              "      <div>\n",
              "<style scoped>\n",
              "    .dataframe tbody tr th:only-of-type {\n",
              "        vertical-align: middle;\n",
              "    }\n",
              "\n",
              "    .dataframe tbody tr th {\n",
              "        vertical-align: top;\n",
              "    }\n",
              "\n",
              "    .dataframe thead th {\n",
              "        text-align: right;\n",
              "    }\n",
              "</style>\n",
              "<table border=\"1\" class=\"dataframe\">\n",
              "  <thead>\n",
              "    <tr style=\"text-align: right;\">\n",
              "      <th></th>\n",
              "      <th>name</th>\n",
              "      <th>latlng</th>\n",
              "    </tr>\n",
              "  </thead>\n",
              "  <tbody>\n",
              "    <tr>\n",
              "      <th>0</th>\n",
              "      <td>ça Va</td>\n",
              "      <td>(-8.0955668, -34.8839742)</td>\n",
              "    </tr>\n",
              "    <tr>\n",
              "      <th>1</th>\n",
              "      <td>Ca Va</td>\n",
              "      <td>(-8.0955668, -34.8839742)</td>\n",
              "    </tr>\n",
              "  </tbody>\n",
              "</table>\n",
              "</div>\n",
              "      <button class=\"colab-df-convert\" onclick=\"convertToInteractive('df-1eb604d7-7255-470b-a6d5-0e561cda9207')\"\n",
              "              title=\"Convert this dataframe to an interactive table.\"\n",
              "              style=\"display:none;\">\n",
              "        \n",
              "  <svg xmlns=\"http://www.w3.org/2000/svg\" height=\"24px\"viewBox=\"0 0 24 24\"\n",
              "       width=\"24px\">\n",
              "    <path d=\"M0 0h24v24H0V0z\" fill=\"none\"/>\n",
              "    <path d=\"M18.56 5.44l.94 2.06.94-2.06 2.06-.94-2.06-.94-.94-2.06-.94 2.06-2.06.94zm-11 1L8.5 8.5l.94-2.06 2.06-.94-2.06-.94L8.5 2.5l-.94 2.06-2.06.94zm10 10l.94 2.06.94-2.06 2.06-.94-2.06-.94-.94-2.06-.94 2.06-2.06.94z\"/><path d=\"M17.41 7.96l-1.37-1.37c-.4-.4-.92-.59-1.43-.59-.52 0-1.04.2-1.43.59L10.3 9.45l-7.72 7.72c-.78.78-.78 2.05 0 2.83L4 21.41c.39.39.9.59 1.41.59.51 0 1.02-.2 1.41-.59l7.78-7.78 2.81-2.81c.8-.78.8-2.07 0-2.86zM5.41 20L4 18.59l7.72-7.72 1.47 1.35L5.41 20z\"/>\n",
              "  </svg>\n",
              "      </button>\n",
              "      \n",
              "  <style>\n",
              "    .colab-df-container {\n",
              "      display:flex;\n",
              "      flex-wrap:wrap;\n",
              "      gap: 12px;\n",
              "    }\n",
              "\n",
              "    .colab-df-convert {\n",
              "      background-color: #E8F0FE;\n",
              "      border: none;\n",
              "      border-radius: 50%;\n",
              "      cursor: pointer;\n",
              "      display: none;\n",
              "      fill: #1967D2;\n",
              "      height: 32px;\n",
              "      padding: 0 0 0 0;\n",
              "      width: 32px;\n",
              "    }\n",
              "\n",
              "    .colab-df-convert:hover {\n",
              "      background-color: #E2EBFA;\n",
              "      box-shadow: 0px 1px 2px rgba(60, 64, 67, 0.3), 0px 1px 3px 1px rgba(60, 64, 67, 0.15);\n",
              "      fill: #174EA6;\n",
              "    }\n",
              "\n",
              "    [theme=dark] .colab-df-convert {\n",
              "      background-color: #3B4455;\n",
              "      fill: #D2E3FC;\n",
              "    }\n",
              "\n",
              "    [theme=dark] .colab-df-convert:hover {\n",
              "      background-color: #434B5C;\n",
              "      box-shadow: 0px 1px 3px 1px rgba(0, 0, 0, 0.15);\n",
              "      filter: drop-shadow(0px 1px 2px rgba(0, 0, 0, 0.3));\n",
              "      fill: #FFFFFF;\n",
              "    }\n",
              "  </style>\n",
              "\n",
              "      <script>\n",
              "        const buttonEl =\n",
              "          document.querySelector('#df-1eb604d7-7255-470b-a6d5-0e561cda9207 button.colab-df-convert');\n",
              "        buttonEl.style.display =\n",
              "          google.colab.kernel.accessAllowed ? 'block' : 'none';\n",
              "\n",
              "        async function convertToInteractive(key) {\n",
              "          const element = document.querySelector('#df-1eb604d7-7255-470b-a6d5-0e561cda9207');\n",
              "          const dataTable =\n",
              "            await google.colab.kernel.invokeFunction('convertToInteractive',\n",
              "                                                     [key], {});\n",
              "          if (!dataTable) return;\n",
              "\n",
              "          const docLinkHtml = 'Like what you see? Visit the ' +\n",
              "            '<a target=\"_blank\" href=https://colab.research.google.com/notebooks/data_table.ipynb>data table notebook</a>'\n",
              "            + ' to learn more about interactive tables.';\n",
              "          element.innerHTML = '';\n",
              "          dataTable['output_type'] = 'display_data';\n",
              "          await google.colab.output.renderOutput(dataTable, element);\n",
              "          const docLink = document.createElement('div');\n",
              "          docLink.innerHTML = docLinkHtml;\n",
              "          element.appendChild(docLink);\n",
              "        }\n",
              "      </script>\n",
              "    </div>\n",
              "  </div>\n",
              "  "
            ]
          },
          "metadata": {}
        },
        {
          "output_type": "display_data",
          "data": {
            "text/plain": [
              "          name                     latlng\n",
              "2  Côté Soleil  (40.7459655, -73.9138813)\n",
              "3  cote soleil   (40.7153557, -73.949766)"
            ],
            "text/html": [
              "\n",
              "  <div id=\"df-bbd71710-7e7d-470d-bb54-b2c0abca85a7\">\n",
              "    <div class=\"colab-df-container\">\n",
              "      <div>\n",
              "<style scoped>\n",
              "    .dataframe tbody tr th:only-of-type {\n",
              "        vertical-align: middle;\n",
              "    }\n",
              "\n",
              "    .dataframe tbody tr th {\n",
              "        vertical-align: top;\n",
              "    }\n",
              "\n",
              "    .dataframe thead th {\n",
              "        text-align: right;\n",
              "    }\n",
              "</style>\n",
              "<table border=\"1\" class=\"dataframe\">\n",
              "  <thead>\n",
              "    <tr style=\"text-align: right;\">\n",
              "      <th></th>\n",
              "      <th>name</th>\n",
              "      <th>latlng</th>\n",
              "    </tr>\n",
              "  </thead>\n",
              "  <tbody>\n",
              "    <tr>\n",
              "      <th>2</th>\n",
              "      <td>Côté Soleil</td>\n",
              "      <td>(40.7459655, -73.9138813)</td>\n",
              "    </tr>\n",
              "    <tr>\n",
              "      <th>3</th>\n",
              "      <td>cote soleil</td>\n",
              "      <td>(40.7153557, -73.949766)</td>\n",
              "    </tr>\n",
              "  </tbody>\n",
              "</table>\n",
              "</div>\n",
              "      <button class=\"colab-df-convert\" onclick=\"convertToInteractive('df-bbd71710-7e7d-470d-bb54-b2c0abca85a7')\"\n",
              "              title=\"Convert this dataframe to an interactive table.\"\n",
              "              style=\"display:none;\">\n",
              "        \n",
              "  <svg xmlns=\"http://www.w3.org/2000/svg\" height=\"24px\"viewBox=\"0 0 24 24\"\n",
              "       width=\"24px\">\n",
              "    <path d=\"M0 0h24v24H0V0z\" fill=\"none\"/>\n",
              "    <path d=\"M18.56 5.44l.94 2.06.94-2.06 2.06-.94-2.06-.94-.94-2.06-.94 2.06-2.06.94zm-11 1L8.5 8.5l.94-2.06 2.06-.94-2.06-.94L8.5 2.5l-.94 2.06-2.06.94zm10 10l.94 2.06.94-2.06 2.06-.94-2.06-.94-.94-2.06-.94 2.06-2.06.94z\"/><path d=\"M17.41 7.96l-1.37-1.37c-.4-.4-.92-.59-1.43-.59-.52 0-1.04.2-1.43.59L10.3 9.45l-7.72 7.72c-.78.78-.78 2.05 0 2.83L4 21.41c.39.39.9.59 1.41.59.51 0 1.02-.2 1.41-.59l7.78-7.78 2.81-2.81c.8-.78.8-2.07 0-2.86zM5.41 20L4 18.59l7.72-7.72 1.47 1.35L5.41 20z\"/>\n",
              "  </svg>\n",
              "      </button>\n",
              "      \n",
              "  <style>\n",
              "    .colab-df-container {\n",
              "      display:flex;\n",
              "      flex-wrap:wrap;\n",
              "      gap: 12px;\n",
              "    }\n",
              "\n",
              "    .colab-df-convert {\n",
              "      background-color: #E8F0FE;\n",
              "      border: none;\n",
              "      border-radius: 50%;\n",
              "      cursor: pointer;\n",
              "      display: none;\n",
              "      fill: #1967D2;\n",
              "      height: 32px;\n",
              "      padding: 0 0 0 0;\n",
              "      width: 32px;\n",
              "    }\n",
              "\n",
              "    .colab-df-convert:hover {\n",
              "      background-color: #E2EBFA;\n",
              "      box-shadow: 0px 1px 2px rgba(60, 64, 67, 0.3), 0px 1px 3px 1px rgba(60, 64, 67, 0.15);\n",
              "      fill: #174EA6;\n",
              "    }\n",
              "\n",
              "    [theme=dark] .colab-df-convert {\n",
              "      background-color: #3B4455;\n",
              "      fill: #D2E3FC;\n",
              "    }\n",
              "\n",
              "    [theme=dark] .colab-df-convert:hover {\n",
              "      background-color: #434B5C;\n",
              "      box-shadow: 0px 1px 3px 1px rgba(0, 0, 0, 0.15);\n",
              "      filter: drop-shadow(0px 1px 2px rgba(0, 0, 0, 0.3));\n",
              "      fill: #FFFFFF;\n",
              "    }\n",
              "  </style>\n",
              "\n",
              "      <script>\n",
              "        const buttonEl =\n",
              "          document.querySelector('#df-bbd71710-7e7d-470d-bb54-b2c0abca85a7 button.colab-df-convert');\n",
              "        buttonEl.style.display =\n",
              "          google.colab.kernel.accessAllowed ? 'block' : 'none';\n",
              "\n",
              "        async function convertToInteractive(key) {\n",
              "          const element = document.querySelector('#df-bbd71710-7e7d-470d-bb54-b2c0abca85a7');\n",
              "          const dataTable =\n",
              "            await google.colab.kernel.invokeFunction('convertToInteractive',\n",
              "                                                     [key], {});\n",
              "          if (!dataTable) return;\n",
              "\n",
              "          const docLinkHtml = 'Like what you see? Visit the ' +\n",
              "            '<a target=\"_blank\" href=https://colab.research.google.com/notebooks/data_table.ipynb>data table notebook</a>'\n",
              "            + ' to learn more about interactive tables.';\n",
              "          element.innerHTML = '';\n",
              "          dataTable['output_type'] = 'display_data';\n",
              "          await google.colab.output.renderOutput(dataTable, element);\n",
              "          const docLink = document.createElement('div');\n",
              "          docLink.innerHTML = docLinkHtml;\n",
              "          element.appendChild(docLink);\n",
              "        }\n",
              "      </script>\n",
              "    </div>\n",
              "  </div>\n",
              "  "
            ]
          },
          "metadata": {}
        },
        {
          "output_type": "display_data",
          "data": {
            "text/plain": [
              "           name                    latlng\n",
              "4  Cafe Harvest  (48.2154908, 16.3799073)\n",
              "5  Harvest Café  (48.2154908, 16.3799073)"
            ],
            "text/html": [
              "\n",
              "  <div id=\"df-85164e2f-971f-4ce5-992f-90c0a50dfc67\">\n",
              "    <div class=\"colab-df-container\">\n",
              "      <div>\n",
              "<style scoped>\n",
              "    .dataframe tbody tr th:only-of-type {\n",
              "        vertical-align: middle;\n",
              "    }\n",
              "\n",
              "    .dataframe tbody tr th {\n",
              "        vertical-align: top;\n",
              "    }\n",
              "\n",
              "    .dataframe thead th {\n",
              "        text-align: right;\n",
              "    }\n",
              "</style>\n",
              "<table border=\"1\" class=\"dataframe\">\n",
              "  <thead>\n",
              "    <tr style=\"text-align: right;\">\n",
              "      <th></th>\n",
              "      <th>name</th>\n",
              "      <th>latlng</th>\n",
              "    </tr>\n",
              "  </thead>\n",
              "  <tbody>\n",
              "    <tr>\n",
              "      <th>4</th>\n",
              "      <td>Cafe Harvest</td>\n",
              "      <td>(48.2154908, 16.3799073)</td>\n",
              "    </tr>\n",
              "    <tr>\n",
              "      <th>5</th>\n",
              "      <td>Harvest Café</td>\n",
              "      <td>(48.2154908, 16.3799073)</td>\n",
              "    </tr>\n",
              "  </tbody>\n",
              "</table>\n",
              "</div>\n",
              "      <button class=\"colab-df-convert\" onclick=\"convertToInteractive('df-85164e2f-971f-4ce5-992f-90c0a50dfc67')\"\n",
              "              title=\"Convert this dataframe to an interactive table.\"\n",
              "              style=\"display:none;\">\n",
              "        \n",
              "  <svg xmlns=\"http://www.w3.org/2000/svg\" height=\"24px\"viewBox=\"0 0 24 24\"\n",
              "       width=\"24px\">\n",
              "    <path d=\"M0 0h24v24H0V0z\" fill=\"none\"/>\n",
              "    <path d=\"M18.56 5.44l.94 2.06.94-2.06 2.06-.94-2.06-.94-.94-2.06-.94 2.06-2.06.94zm-11 1L8.5 8.5l.94-2.06 2.06-.94-2.06-.94L8.5 2.5l-.94 2.06-2.06.94zm10 10l.94 2.06.94-2.06 2.06-.94-2.06-.94-.94-2.06-.94 2.06-2.06.94z\"/><path d=\"M17.41 7.96l-1.37-1.37c-.4-.4-.92-.59-1.43-.59-.52 0-1.04.2-1.43.59L10.3 9.45l-7.72 7.72c-.78.78-.78 2.05 0 2.83L4 21.41c.39.39.9.59 1.41.59.51 0 1.02-.2 1.41-.59l7.78-7.78 2.81-2.81c.8-.78.8-2.07 0-2.86zM5.41 20L4 18.59l7.72-7.72 1.47 1.35L5.41 20z\"/>\n",
              "  </svg>\n",
              "      </button>\n",
              "      \n",
              "  <style>\n",
              "    .colab-df-container {\n",
              "      display:flex;\n",
              "      flex-wrap:wrap;\n",
              "      gap: 12px;\n",
              "    }\n",
              "\n",
              "    .colab-df-convert {\n",
              "      background-color: #E8F0FE;\n",
              "      border: none;\n",
              "      border-radius: 50%;\n",
              "      cursor: pointer;\n",
              "      display: none;\n",
              "      fill: #1967D2;\n",
              "      height: 32px;\n",
              "      padding: 0 0 0 0;\n",
              "      width: 32px;\n",
              "    }\n",
              "\n",
              "    .colab-df-convert:hover {\n",
              "      background-color: #E2EBFA;\n",
              "      box-shadow: 0px 1px 2px rgba(60, 64, 67, 0.3), 0px 1px 3px 1px rgba(60, 64, 67, 0.15);\n",
              "      fill: #174EA6;\n",
              "    }\n",
              "\n",
              "    [theme=dark] .colab-df-convert {\n",
              "      background-color: #3B4455;\n",
              "      fill: #D2E3FC;\n",
              "    }\n",
              "\n",
              "    [theme=dark] .colab-df-convert:hover {\n",
              "      background-color: #434B5C;\n",
              "      box-shadow: 0px 1px 3px 1px rgba(0, 0, 0, 0.15);\n",
              "      filter: drop-shadow(0px 1px 2px rgba(0, 0, 0, 0.3));\n",
              "      fill: #FFFFFF;\n",
              "    }\n",
              "  </style>\n",
              "\n",
              "      <script>\n",
              "        const buttonEl =\n",
              "          document.querySelector('#df-85164e2f-971f-4ce5-992f-90c0a50dfc67 button.colab-df-convert');\n",
              "        buttonEl.style.display =\n",
              "          google.colab.kernel.accessAllowed ? 'block' : 'none';\n",
              "\n",
              "        async function convertToInteractive(key) {\n",
              "          const element = document.querySelector('#df-85164e2f-971f-4ce5-992f-90c0a50dfc67');\n",
              "          const dataTable =\n",
              "            await google.colab.kernel.invokeFunction('convertToInteractive',\n",
              "                                                     [key], {});\n",
              "          if (!dataTable) return;\n",
              "\n",
              "          const docLinkHtml = 'Like what you see? Visit the ' +\n",
              "            '<a target=\"_blank\" href=https://colab.research.google.com/notebooks/data_table.ipynb>data table notebook</a>'\n",
              "            + ' to learn more about interactive tables.';\n",
              "          element.innerHTML = '';\n",
              "          dataTable['output_type'] = 'display_data';\n",
              "          await google.colab.output.renderOutput(dataTable, element);\n",
              "          const docLink = document.createElement('div');\n",
              "          docLink.innerHTML = docLinkHtml;\n",
              "          element.appendChild(docLink);\n",
              "        }\n",
              "      </script>\n",
              "    </div>\n",
              "  </div>\n",
              "  "
            ]
          },
          "metadata": {}
        }
      ],
      "source": [
        "for pair in match_df.index:\n",
        "    display(df.loc[list(pair)])"
      ]
    },
    {
      "cell_type": "markdown",
      "metadata": {
        "id": "UB8ic00HA2N_"
      },
      "source": [
        "For 6 records is fine to compare all against all: we get 15 pairs.  \n",
        "But for **1 million records** we would get almost **500 BILLION pairs**."
      ]
    },
    {
      "cell_type": "markdown",
      "metadata": {
        "id": "4TePRLtNA2N_"
      },
      "source": [
        "The number of pairs grows too fast as the number of records grows:  \n",
        "it **grows quadratically** with the formula `len(score_df) == len(df) * (len(df) - 1) / 2`\n",
        "\n",
        "To avoid wasting too much time comparing a lot of pairs, we need **blocking**.  \n",
        "We need to produce only pairs that are **good candidates** of being duplicates."
      ]
    },
    {
      "cell_type": "markdown",
      "metadata": {
        "id": "T0zaOnZsA2N_"
      },
      "source": [
        "## Fingerprinting and Blocking"
      ]
    },
    {
      "cell_type": "markdown",
      "metadata": {
        "id": "emv_M8xUA2N_"
      },
      "source": [
        "What would be a good way of blocking **restaurant names**?"
      ]
    },
    {
      "cell_type": "code",
      "execution_count": null,
      "metadata": {
        "id": "6-dGaLHEA2N_",
        "outputId": "b1278c6e-1cd4-4d8d-ed3c-593c7bad5280",
        "colab": {
          "base_uri": "https://localhost:8080/"
        }
      },
      "outputs": [
        {
          "output_type": "execute_result",
          "data": {
            "text/plain": [
              "['ça Va',\n",
              " 'Ca Va',\n",
              " 'Côté Soleil',\n",
              " 'cote soleil',\n",
              " 'Cafe Harvest',\n",
              " 'Harvest Café']"
            ]
          },
          "metadata": {},
          "execution_count": 50
        }
      ],
      "source": [
        "list(df.name.values)"
      ]
    },
    {
      "cell_type": "markdown",
      "metadata": {
        "id": "UUJOiCBYA2OA"
      },
      "source": [
        "We need a **fingerprint** function that cleans up irrelevant name variations:"
      ]
    },
    {
      "cell_type": "code",
      "execution_count": null,
      "metadata": {
        "id": "hMeqGPU9A2OA",
        "outputId": "91e64f6f-6413-4c82-bdc7-58b8d5f53252",
        "colab": {
          "base_uri": "https://localhost:8080/",
          "height": 36
        }
      },
      "outputs": [
        {
          "output_type": "execute_result",
          "data": {
            "text/plain": [
              "'cafe harvest'"
            ],
            "application/vnd.google.colaboratory.intrinsic+json": {
              "type": "string"
            }
          },
          "metadata": {},
          "execution_count": 51
        }
      ],
      "source": [
        "import re\n",
        "\n",
        "def name_fingerprint(name):\n",
        "    # remove accents\n",
        "    name = unidecode.unidecode(name)\n",
        "    # lowercase\n",
        "    name = name.lower()\n",
        "    # sort tokens\n",
        "    name = ' '.join(sorted(name.split()))\n",
        "    # remove non-alphanumeric\n",
        "    name = re.sub('[^0-9a-zA-Z ]+', '', name)\n",
        "    return name\n",
        "\n",
        "name_fingerprint(\"Harvest Café\")"
      ]
    },
    {
      "cell_type": "code",
      "execution_count": null,
      "metadata": {
        "id": "5vv7BsimA2OA",
        "outputId": "8cd64138-d19c-4448-da69-15cf3aacf175",
        "colab": {
          "base_uri": "https://localhost:8080/",
          "height": 237
        }
      },
      "outputs": [
        {
          "output_type": "execute_result",
          "data": {
            "text/plain": [
              "           name                     latlng name_fingerprint\n",
              "0         ça Va  (-8.0955668, -34.8839742)            ca va\n",
              "1         Ca Va  (-8.0955668, -34.8839742)            ca va\n",
              "2   Côté Soleil  (40.7459655, -73.9138813)      cote soleil\n",
              "3   cote soleil   (40.7153557, -73.949766)      cote soleil\n",
              "4  Cafe Harvest   (48.2154908, 16.3799073)     cafe harvest\n",
              "5  Harvest Café   (48.2154908, 16.3799073)     cafe harvest"
            ],
            "text/html": [
              "\n",
              "  <div id=\"df-ad825807-95ac-43fe-ad92-9031ef43c79f\">\n",
              "    <div class=\"colab-df-container\">\n",
              "      <div>\n",
              "<style scoped>\n",
              "    .dataframe tbody tr th:only-of-type {\n",
              "        vertical-align: middle;\n",
              "    }\n",
              "\n",
              "    .dataframe tbody tr th {\n",
              "        vertical-align: top;\n",
              "    }\n",
              "\n",
              "    .dataframe thead th {\n",
              "        text-align: right;\n",
              "    }\n",
              "</style>\n",
              "<table border=\"1\" class=\"dataframe\">\n",
              "  <thead>\n",
              "    <tr style=\"text-align: right;\">\n",
              "      <th></th>\n",
              "      <th>name</th>\n",
              "      <th>latlng</th>\n",
              "      <th>name_fingerprint</th>\n",
              "    </tr>\n",
              "  </thead>\n",
              "  <tbody>\n",
              "    <tr>\n",
              "      <th>0</th>\n",
              "      <td>ça Va</td>\n",
              "      <td>(-8.0955668, -34.8839742)</td>\n",
              "      <td>ca va</td>\n",
              "    </tr>\n",
              "    <tr>\n",
              "      <th>1</th>\n",
              "      <td>Ca Va</td>\n",
              "      <td>(-8.0955668, -34.8839742)</td>\n",
              "      <td>ca va</td>\n",
              "    </tr>\n",
              "    <tr>\n",
              "      <th>2</th>\n",
              "      <td>Côté Soleil</td>\n",
              "      <td>(40.7459655, -73.9138813)</td>\n",
              "      <td>cote soleil</td>\n",
              "    </tr>\n",
              "    <tr>\n",
              "      <th>3</th>\n",
              "      <td>cote soleil</td>\n",
              "      <td>(40.7153557, -73.949766)</td>\n",
              "      <td>cote soleil</td>\n",
              "    </tr>\n",
              "    <tr>\n",
              "      <th>4</th>\n",
              "      <td>Cafe Harvest</td>\n",
              "      <td>(48.2154908, 16.3799073)</td>\n",
              "      <td>cafe harvest</td>\n",
              "    </tr>\n",
              "    <tr>\n",
              "      <th>5</th>\n",
              "      <td>Harvest Café</td>\n",
              "      <td>(48.2154908, 16.3799073)</td>\n",
              "      <td>cafe harvest</td>\n",
              "    </tr>\n",
              "  </tbody>\n",
              "</table>\n",
              "</div>\n",
              "      <button class=\"colab-df-convert\" onclick=\"convertToInteractive('df-ad825807-95ac-43fe-ad92-9031ef43c79f')\"\n",
              "              title=\"Convert this dataframe to an interactive table.\"\n",
              "              style=\"display:none;\">\n",
              "        \n",
              "  <svg xmlns=\"http://www.w3.org/2000/svg\" height=\"24px\"viewBox=\"0 0 24 24\"\n",
              "       width=\"24px\">\n",
              "    <path d=\"M0 0h24v24H0V0z\" fill=\"none\"/>\n",
              "    <path d=\"M18.56 5.44l.94 2.06.94-2.06 2.06-.94-2.06-.94-.94-2.06-.94 2.06-2.06.94zm-11 1L8.5 8.5l.94-2.06 2.06-.94-2.06-.94L8.5 2.5l-.94 2.06-2.06.94zm10 10l.94 2.06.94-2.06 2.06-.94-2.06-.94-.94-2.06-.94 2.06-2.06.94z\"/><path d=\"M17.41 7.96l-1.37-1.37c-.4-.4-.92-.59-1.43-.59-.52 0-1.04.2-1.43.59L10.3 9.45l-7.72 7.72c-.78.78-.78 2.05 0 2.83L4 21.41c.39.39.9.59 1.41.59.51 0 1.02-.2 1.41-.59l7.78-7.78 2.81-2.81c.8-.78.8-2.07 0-2.86zM5.41 20L4 18.59l7.72-7.72 1.47 1.35L5.41 20z\"/>\n",
              "  </svg>\n",
              "      </button>\n",
              "      \n",
              "  <style>\n",
              "    .colab-df-container {\n",
              "      display:flex;\n",
              "      flex-wrap:wrap;\n",
              "      gap: 12px;\n",
              "    }\n",
              "\n",
              "    .colab-df-convert {\n",
              "      background-color: #E8F0FE;\n",
              "      border: none;\n",
              "      border-radius: 50%;\n",
              "      cursor: pointer;\n",
              "      display: none;\n",
              "      fill: #1967D2;\n",
              "      height: 32px;\n",
              "      padding: 0 0 0 0;\n",
              "      width: 32px;\n",
              "    }\n",
              "\n",
              "    .colab-df-convert:hover {\n",
              "      background-color: #E2EBFA;\n",
              "      box-shadow: 0px 1px 2px rgba(60, 64, 67, 0.3), 0px 1px 3px 1px rgba(60, 64, 67, 0.15);\n",
              "      fill: #174EA6;\n",
              "    }\n",
              "\n",
              "    [theme=dark] .colab-df-convert {\n",
              "      background-color: #3B4455;\n",
              "      fill: #D2E3FC;\n",
              "    }\n",
              "\n",
              "    [theme=dark] .colab-df-convert:hover {\n",
              "      background-color: #434B5C;\n",
              "      box-shadow: 0px 1px 3px 1px rgba(0, 0, 0, 0.15);\n",
              "      filter: drop-shadow(0px 1px 2px rgba(0, 0, 0, 0.3));\n",
              "      fill: #FFFFFF;\n",
              "    }\n",
              "  </style>\n",
              "\n",
              "      <script>\n",
              "        const buttonEl =\n",
              "          document.querySelector('#df-ad825807-95ac-43fe-ad92-9031ef43c79f button.colab-df-convert');\n",
              "        buttonEl.style.display =\n",
              "          google.colab.kernel.accessAllowed ? 'block' : 'none';\n",
              "\n",
              "        async function convertToInteractive(key) {\n",
              "          const element = document.querySelector('#df-ad825807-95ac-43fe-ad92-9031ef43c79f');\n",
              "          const dataTable =\n",
              "            await google.colab.kernel.invokeFunction('convertToInteractive',\n",
              "                                                     [key], {});\n",
              "          if (!dataTable) return;\n",
              "\n",
              "          const docLinkHtml = 'Like what you see? Visit the ' +\n",
              "            '<a target=\"_blank\" href=https://colab.research.google.com/notebooks/data_table.ipynb>data table notebook</a>'\n",
              "            + ' to learn more about interactive tables.';\n",
              "          element.innerHTML = '';\n",
              "          dataTable['output_type'] = 'display_data';\n",
              "          await google.colab.output.renderOutput(dataTable, element);\n",
              "          const docLink = document.createElement('div');\n",
              "          docLink.innerHTML = docLinkHtml;\n",
              "          element.appendChild(docLink);\n",
              "        }\n",
              "      </script>\n",
              "    </div>\n",
              "  </div>\n",
              "  "
            ]
          },
          "metadata": {},
          "execution_count": 52
        }
      ],
      "source": [
        "df = df.assign(name_fingerprint=df.name.apply(name_fingerprint))\n",
        "df"
      ]
    },
    {
      "cell_type": "code",
      "execution_count": null,
      "metadata": {
        "id": "BxH_6FQoA2OA",
        "outputId": "c2a012f8-6ebb-4475-dc4a-d8c2ed5ac36b",
        "colab": {
          "base_uri": "https://localhost:8080/"
        }
      },
      "outputs": [
        {
          "output_type": "execute_result",
          "data": {
            "text/plain": [
              "{'ca va': array([0, 1]),\n",
              " 'cafe harvest': array([4, 5]),\n",
              " 'cote soleil': array([2, 3])}"
            ]
          },
          "metadata": {},
          "execution_count": 53
        }
      ],
      "source": [
        "df.groupby('name_fingerprint').indices"
      ]
    },
    {
      "cell_type": "markdown",
      "metadata": {
        "id": "KweF57xCA2OB"
      },
      "source": [
        "It worked! We've **blocked together** different restaurant names with our fingerprint function."
      ]
    },
    {
      "cell_type": "markdown",
      "metadata": {
        "id": "kvqmMASYA2OB"
      },
      "source": [
        "### Examples of fingerprint functions for blocking\n",
        "\n",
        "#### Strings\n",
        "- Ordered tokens\n",
        "- Common token\n",
        "- First N tokens\n",
        "- N-chars prefix/suffix\n",
        "- Acronym\n",
        "- [Phonetic encoding](https://abydos.readthedocs.io/en/latest/abydos.phonetic.html)\n",
        "\n",
        "#### Lat-lngs\n",
        "- [Grid](https://github.com/dedupeio/dedupe/blob/7df2ab5ef268080a60e1f3f31248de985d93c598/dedupe/predicates.py#L510-L523)\n",
        "- [Geohash](https://github.com/vinsci/geohash/) prefixes"
      ]
    },
    {
      "cell_type": "markdown",
      "metadata": {
        "id": "mjhniadYA2OB"
      },
      "source": [
        "#### Numbers\n",
        "- [Order of magnitude](https://github.com/dedupeio/dedupe/blob/7df2ab5ef268080a60e1f3f31248de985d93c598/dedupe/predicates.py#L526-L530)\n",
        "\n",
        "#### Sets\n",
        "- Any common element\n",
        "- Max element\n",
        "- Min element\n",
        "\n",
        "#### Anything\n",
        "- Exact value"
      ]
    },
    {
      "cell_type": "markdown",
      "metadata": {
        "id": "O_OEOl8dA2OB"
      },
      "source": [
        "But what type fingerprinting would block together **approximate** matches  \n",
        "like `\"Harvest Cafe\"` and `\"Havest Coffee\"`?"
      ]
    },
    {
      "cell_type": "markdown",
      "metadata": {
        "id": "jYLL5dSlA2OB"
      },
      "source": [
        "## Approximate Blocking"
      ]
    },
    {
      "cell_type": "markdown",
      "metadata": {
        "id": "--8JGy4fA2OC"
      },
      "source": [
        "Approximate Blocking is a **challenging** area of research in Entity Resolution.  \n",
        "\n",
        "A good approximate blocking function is able to block together similar pairs, **without** resorting to all-to-all comparisons."
      ]
    },
    {
      "cell_type": "code",
      "execution_count": null,
      "metadata": {
        "id": "2zQDsoGnA2OC"
      },
      "outputs": [],
      "source": [
        "approximate_names = [\n",
        "    \"harvest cafe\",\n",
        "    \"havest coffee\",\n",
        "    \"havest cofee\",\n",
        "    \"cote soleil\",\n",
        "    \"cote soliel\",\n",
        "    \"cotee solliel\",\n",
        "    \"ca va\",\n",
        "    \"ca vaa\",\n",
        "]"
      ]
    },
    {
      "cell_type": "code",
      "source": [
        "!pip install sparse_dot_topn hnswlib fastcluster"
      ],
      "metadata": {
        "colab": {
          "base_uri": "https://localhost:8080/"
        },
        "id": "q3hr5dnsH1Iv",
        "outputId": "c4b02615-d35d-442e-c00a-88639dc46b29"
      },
      "execution_count": null,
      "outputs": [
        {
          "output_type": "stream",
          "name": "stdout",
          "text": [
            "Looking in indexes: https://pypi.org/simple, https://us-python.pkg.dev/colab-wheels/public/simple/\n",
            "Collecting sparse_dot_topn\n",
            "  Downloading sparse_dot_topn-0.3.4-cp38-cp38-manylinux_2_17_x86_64.manylinux2014_x86_64.whl (2.3 MB)\n",
            "\u001b[2K     \u001b[90m━━━━━━━━━━━━━━━━━━━━━━━━━━━━━━━━━━━━━━━━\u001b[0m \u001b[32m2.3/2.3 MB\u001b[0m \u001b[31m24.7 MB/s\u001b[0m eta \u001b[36m0:00:00\u001b[0m\n",
            "\u001b[?25hCollecting hnswlib\n",
            "  Downloading hnswlib-0.7.0.tar.gz (33 kB)\n",
            "  Installing build dependencies ... \u001b[?25l\u001b[?25hdone\n",
            "  Getting requirements to build wheel ... \u001b[?25l\u001b[?25hdone\n",
            "  Preparing metadata (pyproject.toml) ... \u001b[?25l\u001b[?25hdone\n",
            "Collecting fastcluster\n",
            "  Downloading fastcluster-1.2.6-cp38-cp38-manylinux_2_5_x86_64.manylinux1_x86_64.manylinux_2_17_x86_64.manylinux2014_x86_64.whl (194 kB)\n",
            "\u001b[2K     \u001b[90m━━━━━━━━━━━━━━━━━━━━━━━━━━━━━━━━━━━━━━\u001b[0m \u001b[32m194.1/194.1 KB\u001b[0m \u001b[31m21.8 MB/s\u001b[0m eta \u001b[36m0:00:00\u001b[0m\n",
            "\u001b[?25hRequirement already satisfied: numpy>=1.14.5 in /usr/local/lib/python3.8/dist-packages (from sparse_dot_topn) (1.21.6)\n",
            "Requirement already satisfied: scipy>=1.2.3 in /usr/local/lib/python3.8/dist-packages (from sparse_dot_topn) (1.7.3)\n",
            "Building wheels for collected packages: hnswlib\n",
            "  Building wheel for hnswlib (pyproject.toml) ... \u001b[?25l\u001b[?25hdone\n",
            "  Created wheel for hnswlib: filename=hnswlib-0.7.0-cp38-cp38-linux_x86_64.whl size=2122830 sha256=32f19b5fcd0087c9cc6b9f6f057cbba15df04fc44a3db5c2de3907a37e3385ac\n",
            "  Stored in directory: /root/.cache/pip/wheels/93/0d/13/bbdc55499ef621f8f722fad91050fbb1380709f0c62fa7719a\n",
            "Successfully built hnswlib\n",
            "Installing collected packages: hnswlib, fastcluster, sparse_dot_topn\n",
            "Successfully installed fastcluster-1.2.6 hnswlib-0.7.0 sparse_dot_topn-0.3.4\n"
          ]
        }
      ]
    },
    {
      "cell_type": "code",
      "source": [
        "from scipy.sparse import csr_matrix\n",
        "from sklearn.cluster import AgglomerativeClustering\n",
        "from sklearn.feature_extraction.text import TfidfVectorizer\n",
        "from sparse_dot_topn import awesome_cossim_topn\n",
        "import hnswlib\n",
        "import numpy as np\n",
        "import os\n",
        "import fastcluster\n",
        "# import hcluster\n",
        "\n",
        "\n",
        "def vectorize(string_list, ngram_range, analyzer, **kwargs):\n",
        "  vectorizer = TfidfVectorizer(ngram_range=ngram_range, analyzer=analyzer, **kwargs)\n",
        "  tfidf_matrix = vectorizer.fit_transform(string_list)\n",
        "  return tfidf_matrix\n",
        "\n",
        "\n",
        "def index_on_approx_knn(tfidf_dense_matrix, ef_construction=100, M=50):\n",
        "  approx_knn_index = hnswlib.Index(space='cosine', dim=tfidf_dense_matrix.shape[1])\n",
        "  approx_knn_index.set_num_threads(os.cpu_count())\n",
        "  # https://github.com/nmslib/hnswlib/blob/master/ALGO_PARAMS.md#construction-parameters\n",
        "  approx_knn_index.init_index(\n",
        "      max_elements=tfidf_dense_matrix.shape[0],\n",
        "      ef_construction=ef_construction,\n",
        "      M=M)\n",
        "  approx_knn_index.set_ef(ef_construction)\n",
        "  approx_knn_index.add_items(tfidf_dense_matrix)\n",
        "  return approx_knn_index\n",
        "\n",
        "\n",
        "def _hnswlib_result_to_csr_matrix(neighbor_array, similarity_array):\n",
        "  row = np.repeat(np.arange(neighbor_array.shape[0]), neighbor_array.shape[1])\n",
        "  col = neighbor_array.flatten()\n",
        "  data = similarity_array.flatten()\n",
        "  return csr_matrix((data, (row, col)), shape=(neighbor_array.shape[0], neighbor_array.shape[0]))\n",
        "\n",
        "\n",
        "def compute_knn_similarity_matrix(approx_knn_index, tfidf_dense_matrix, k, threshold):\n",
        "  neighbor_array, distance_array = approx_knn_index.knn_query(tfidf_dense_matrix, k=k)\n",
        "  similarity_array = 1 - distance_array\n",
        "  del distance_array\n",
        "  similarity_array[similarity_array < threshold] = 0\n",
        "  pairwise_similarity_csr_matrix = _hnswlib_result_to_csr_matrix(neighbor_array, similarity_array)\n",
        "  return pairwise_similarity_csr_matrix\n",
        "\n",
        "\n",
        "def cluster_csr_distance_matrix(pairwise_distance_dense_matrix, threshold, linkage='complete'):\n",
        "  labels = AgglomerativeClustering(\n",
        "      affinity='precomputed',\n",
        "      linkage=linkage,\n",
        "      distance_threshold=1 - threshold,\n",
        "      n_clusters=None\n",
        "  ).fit_predict(pairwise_distance_dense_matrix)\n",
        "  return labels\n",
        "\n",
        "\n",
        "def block_with_tfidf_ann(string_list, threshold, k=10):\n",
        "  tfidf_matrix = vectorize(string_list, ngram_range=(2, 2), analyzer='char_wb')\n",
        "  tfidf_dense_matrix = tfidf_matrix.toarray()  # hnswlib needs dense matrix\n",
        "  del tfidf_matrix\n",
        "  approx_knn_index = index_on_approx_knn(tfidf_dense_matrix)\n",
        "  pairwise_similarity_csr_matrix = compute_knn_similarity_matrix(approx_knn_index, tfidf_dense_matrix, k=k, threshold=threshold)\n",
        "  del tfidf_dense_matrix, approx_knn_index\n",
        "  pairwise_distance_dense_matrix = 1 - pairwise_similarity_csr_matrix.toarray()\n",
        "  del pairwise_similarity_csr_matrix\n",
        "  labels = cluster_csr_distance_matrix(pairwise_distance_dense_matrix, threshold=threshold)\n",
        "  return labels\n",
        "\n",
        "\n",
        "def block_with_tfidf_brute(string_list, threshold, k=10, linkage='complete'):\n",
        "  tfidf_matrix = vectorize(string_list, ngram_range=(2, 2), analyzer='char_wb')\n",
        "  pairwise_similarity_csr_matrix = awesome_cossim_topn(\n",
        "      tfidf_matrix,\n",
        "      tfidf_matrix.T,\n",
        "      ntop=k,\n",
        "      lower_bound=threshold,\n",
        "      use_threads=True,\n",
        "      n_jobs=os.cpu_count())\n",
        "  pairwise_distance_dense_matrix = 1 - pairwise_similarity_csr_matrix.toarray()\n",
        "  labels = AgglomerativeClustering(\n",
        "      affinity='precomputed',\n",
        "      linkage=linkage,\n",
        "      distance_threshold=1 - threshold,\n",
        "      n_clusters=None\n",
        "  ).fit_predict(pairwise_distance_dense_matrix)\n",
        "  return labels"
      ],
      "metadata": {
        "id": "g04XoTgJHzgD"
      },
      "execution_count": null,
      "outputs": []
    },
    {
      "cell_type": "code",
      "execution_count": null,
      "metadata": {
        "id": "HqK3011OA2OC",
        "outputId": "849c42bf-36b1-4cf5-b003-c4ef1c386343",
        "colab": {
          "base_uri": "https://localhost:8080/",
          "height": 35
        }
      },
      "outputs": [
        {
          "output_type": "display_data",
          "data": {
            "text/plain": [
              "array([2, 2, 2, 0, 0, 0, 1, 1])"
            ]
          },
          "metadata": {}
        }
      ],
      "source": [
        "display(block_with_tfidf_ann(approximate_names, threshold=0.5, k=3))"
      ]
    },
    {
      "cell_type": "markdown",
      "metadata": {
        "id": "_LEeUAlFA2OC"
      },
      "source": [
        "We won't detail how this works here, but you can check these resources:  \n",
        "- Stay tuned on [Vinta's blog](https://www.vinta.com.br/blog). I'll be posting experiments on approximate blocking with Approximate Nearest Neighbors.\n",
        "- [Video: Data Deduplication using Locality Sensitive Hashing](https://www.youtube.com/watch?v=n3dCcwWV4_k&list=PLk3qn9pE_2w9WIuE2tWxHR4nwO_qVgT5C&index=4). Check also this [informative tutorial](https://mattilyra.github.io/2017/05/23/document-deduplication-with-lsh.html) from the same author.\n",
        "- [Article: A Review of Unsupervised and Semi-supervised Blocking Methods for Record Linkage](https://www.researchgate.net/publication/329602222_A_Review_of_Unsupervised_and_Semi-supervised_Blocking_Methods_for_Record_Linkage).\n",
        "- [Article: A Survey of Blocking and Filtering Techniques for Entity Resolution](https://www.researchgate.net/publication/333130293_A_Survey_of_Blocking_and_Filtering_Techniques_for_Entity_Resolution). Related [slides](http://www.paris-bigdata.org/2017/slides/palpanas.pdf).\n",
        "- [Article: Scalable Entity Resolution Using Probabilistic Signatures on Parallel Databases](https://arxiv.org/abs/1712.09691). Check also this [Python implementation](https://blocklib.readthedocs.io/en/latest/blocking-schema.html) and this [talk video](https://www.youtube.com/watch?v=F-Kf52yvTCU&list=PLk3qn9pE_2w9WIuE2tWxHR4nwO_qVgT5C&index=15).\n",
        "- [Article: Blocking Strategies to Accelerate Record Matching for Big Data Integration](http://ceur-ws.org/Vol-2507/219-224-paper-38.pdf)."
      ]
    },
    {
      "cell_type": "markdown",
      "metadata": {
        "id": "he84TDjfA2OC"
      },
      "source": [
        "Now that we can block well, can we do better on the **classification** of matches vs non-matches?"
      ]
    },
    {
      "cell_type": "markdown",
      "metadata": {
        "id": "u0DExb_RA2OD"
      },
      "source": [
        "## Classification"
      ]
    },
    {
      "cell_type": "markdown",
      "metadata": {
        "id": "fxANZbufA2OD"
      },
      "source": [
        "Remember we've just used a **simple rule** to classify our pairs as matches:"
      ]
    },
    {
      "cell_type": "code",
      "execution_count": null,
      "metadata": {
        "id": "ybrRlMIyA2OD",
        "outputId": "ba838aad-f7c6-4476-ff85-e22810aa75b0",
        "colab": {
          "base_uri": "https://localhost:8080/",
          "height": 143
        }
      },
      "outputs": [
        {
          "output_type": "execute_result",
          "data": {
            "text/plain": [
              "         name    latlng\n",
              "0 1  0.750000  0.000000\n",
              "2 3  0.541667  4.552774\n",
              "4 5  0.875000  0.000000"
            ],
            "text/html": [
              "\n",
              "  <div id=\"df-f3a7ec32-e973-4e23-b370-9c0d3b4e67b4\">\n",
              "    <div class=\"colab-df-container\">\n",
              "      <div>\n",
              "<style scoped>\n",
              "    .dataframe tbody tr th:only-of-type {\n",
              "        vertical-align: middle;\n",
              "    }\n",
              "\n",
              "    .dataframe tbody tr th {\n",
              "        vertical-align: top;\n",
              "    }\n",
              "\n",
              "    .dataframe thead th {\n",
              "        text-align: right;\n",
              "    }\n",
              "</style>\n",
              "<table border=\"1\" class=\"dataframe\">\n",
              "  <thead>\n",
              "    <tr style=\"text-align: right;\">\n",
              "      <th></th>\n",
              "      <th></th>\n",
              "      <th>name</th>\n",
              "      <th>latlng</th>\n",
              "    </tr>\n",
              "  </thead>\n",
              "  <tbody>\n",
              "    <tr>\n",
              "      <th>0</th>\n",
              "      <th>1</th>\n",
              "      <td>0.750000</td>\n",
              "      <td>0.000000</td>\n",
              "    </tr>\n",
              "    <tr>\n",
              "      <th>2</th>\n",
              "      <th>3</th>\n",
              "      <td>0.541667</td>\n",
              "      <td>4.552774</td>\n",
              "    </tr>\n",
              "    <tr>\n",
              "      <th>4</th>\n",
              "      <th>5</th>\n",
              "      <td>0.875000</td>\n",
              "      <td>0.000000</td>\n",
              "    </tr>\n",
              "  </tbody>\n",
              "</table>\n",
              "</div>\n",
              "      <button class=\"colab-df-convert\" onclick=\"convertToInteractive('df-f3a7ec32-e973-4e23-b370-9c0d3b4e67b4')\"\n",
              "              title=\"Convert this dataframe to an interactive table.\"\n",
              "              style=\"display:none;\">\n",
              "        \n",
              "  <svg xmlns=\"http://www.w3.org/2000/svg\" height=\"24px\"viewBox=\"0 0 24 24\"\n",
              "       width=\"24px\">\n",
              "    <path d=\"M0 0h24v24H0V0z\" fill=\"none\"/>\n",
              "    <path d=\"M18.56 5.44l.94 2.06.94-2.06 2.06-.94-2.06-.94-.94-2.06-.94 2.06-2.06.94zm-11 1L8.5 8.5l.94-2.06 2.06-.94-2.06-.94L8.5 2.5l-.94 2.06-2.06.94zm10 10l.94 2.06.94-2.06 2.06-.94-2.06-.94-.94-2.06-.94 2.06-2.06.94z\"/><path d=\"M17.41 7.96l-1.37-1.37c-.4-.4-.92-.59-1.43-.59-.52 0-1.04.2-1.43.59L10.3 9.45l-7.72 7.72c-.78.78-.78 2.05 0 2.83L4 21.41c.39.39.9.59 1.41.59.51 0 1.02-.2 1.41-.59l7.78-7.78 2.81-2.81c.8-.78.8-2.07 0-2.86zM5.41 20L4 18.59l7.72-7.72 1.47 1.35L5.41 20z\"/>\n",
              "  </svg>\n",
              "      </button>\n",
              "      \n",
              "  <style>\n",
              "    .colab-df-container {\n",
              "      display:flex;\n",
              "      flex-wrap:wrap;\n",
              "      gap: 12px;\n",
              "    }\n",
              "\n",
              "    .colab-df-convert {\n",
              "      background-color: #E8F0FE;\n",
              "      border: none;\n",
              "      border-radius: 50%;\n",
              "      cursor: pointer;\n",
              "      display: none;\n",
              "      fill: #1967D2;\n",
              "      height: 32px;\n",
              "      padding: 0 0 0 0;\n",
              "      width: 32px;\n",
              "    }\n",
              "\n",
              "    .colab-df-convert:hover {\n",
              "      background-color: #E2EBFA;\n",
              "      box-shadow: 0px 1px 2px rgba(60, 64, 67, 0.3), 0px 1px 3px 1px rgba(60, 64, 67, 0.15);\n",
              "      fill: #174EA6;\n",
              "    }\n",
              "\n",
              "    [theme=dark] .colab-df-convert {\n",
              "      background-color: #3B4455;\n",
              "      fill: #D2E3FC;\n",
              "    }\n",
              "\n",
              "    [theme=dark] .colab-df-convert:hover {\n",
              "      background-color: #434B5C;\n",
              "      box-shadow: 0px 1px 3px 1px rgba(0, 0, 0, 0.15);\n",
              "      filter: drop-shadow(0px 1px 2px rgba(0, 0, 0, 0.3));\n",
              "      fill: #FFFFFF;\n",
              "    }\n",
              "  </style>\n",
              "\n",
              "      <script>\n",
              "        const buttonEl =\n",
              "          document.querySelector('#df-f3a7ec32-e973-4e23-b370-9c0d3b4e67b4 button.colab-df-convert');\n",
              "        buttonEl.style.display =\n",
              "          google.colab.kernel.accessAllowed ? 'block' : 'none';\n",
              "\n",
              "        async function convertToInteractive(key) {\n",
              "          const element = document.querySelector('#df-f3a7ec32-e973-4e23-b370-9c0d3b4e67b4');\n",
              "          const dataTable =\n",
              "            await google.colab.kernel.invokeFunction('convertToInteractive',\n",
              "                                                     [key], {});\n",
              "          if (!dataTable) return;\n",
              "\n",
              "          const docLinkHtml = 'Like what you see? Visit the ' +\n",
              "            '<a target=\"_blank\" href=https://colab.research.google.com/notebooks/data_table.ipynb>data table notebook</a>'\n",
              "            + ' to learn more about interactive tables.';\n",
              "          element.innerHTML = '';\n",
              "          dataTable['output_type'] = 'display_data';\n",
              "          await google.colab.output.renderOutput(dataTable, element);\n",
              "          const docLink = document.createElement('div');\n",
              "          docLink.innerHTML = docLinkHtml;\n",
              "          element.appendChild(docLink);\n",
              "        }\n",
              "      </script>\n",
              "    </div>\n",
              "  </div>\n",
              "  "
            ]
          },
          "metadata": {},
          "execution_count": 58
        }
      ],
      "source": [
        "match_df = score_df.loc[(score_df['name'] >= 0.5) & (score_df['latlng'] < 5)]\n",
        "match_df"
      ]
    },
    {
      "cell_type": "markdown",
      "metadata": {
        "id": "yc6VlqR5A2OD"
      },
      "source": [
        "That can work well on simple and small datasets, but for complex and larger ones, a **Machine Learning Classifier** will probably work better:"
      ]
    },
    {
      "cell_type": "markdown",
      "metadata": {
        "id": "wEsDuDXbA2OD"
      },
      "source": [
        "```python\n",
        "matching_pairs = classifier.predict(score_df)\n",
        "```"
      ]
    },
    {
      "cell_type": "markdown",
      "metadata": {
        "id": "n8Komu6yA2OE"
      },
      "source": [
        "The problem is: how to train that classifier?\n",
        "\n",
        "It can be challanging to **manually find matching pairs** in a gigantic dataset, becuase the number of matching pairs tends to be much smaller than the non-matching pairs."
      ]
    },
    {
      "cell_type": "markdown",
      "metadata": {
        "id": "bbPrYUuQA2OE"
      },
      "source": [
        "## Active Learning"
      ]
    },
    {
      "cell_type": "markdown",
      "metadata": {
        "id": "0VVKTSStA2OE"
      },
      "source": [
        "To explain Active Learning, we'll work with a custom dataset based on the [Restaurant](https://www.cs.utexas.edu/users/ml/riddle/data.html) dataset:\n",
        "- a well-known dataset used by researchers\n",
        "- made of 881 restaurant records from the Fodor's and Zagat's restaurant guides\n",
        "- contains 150 duplicates"
      ]
    },
    {
      "cell_type": "markdown",
      "metadata": {
        "id": "rMlwAfVyA2OE"
      },
      "source": [
        "\\* We've introduced some changes that you can check by doing a `diff restaurant.original.csv restaurant.csv`"
      ]
    },
    {
      "cell_type": "code",
      "execution_count": null,
      "metadata": {
        "id": "nyKkAs-mA2OE",
        "outputId": "e10591a3-d8c3-4543-af3a-cb7e61bb61d1"
      },
      "outputs": [
        {
          "data": {
            "text/html": [
              "<div>\n",
              "<style scoped>\n",
              "    .dataframe tbody tr th:only-of-type {\n",
              "        vertical-align: middle;\n",
              "    }\n",
              "\n",
              "    .dataframe tbody tr th {\n",
              "        vertical-align: top;\n",
              "    }\n",
              "\n",
              "    .dataframe thead th {\n",
              "        text-align: right;\n",
              "    }\n",
              "</style>\n",
              "<table border=\"1\" class=\"dataframe\">\n",
              "  <thead>\n",
              "    <tr style=\"text-align: right;\">\n",
              "      <th></th>\n",
              "      <th>name</th>\n",
              "      <th>addr</th>\n",
              "      <th>city</th>\n",
              "      <th>phone</th>\n",
              "      <th>type</th>\n",
              "      <th>cluster</th>\n",
              "    </tr>\n",
              "  </thead>\n",
              "  <tbody>\n",
              "    <tr>\n",
              "      <th>0</th>\n",
              "      <td>arnie morton's of chicago</td>\n",
              "      <td>435 s. la cienega blv.</td>\n",
              "      <td>los angeles</td>\n",
              "      <td>310/246-1501</td>\n",
              "      <td>american</td>\n",
              "      <td>0</td>\n",
              "    </tr>\n",
              "    <tr>\n",
              "      <th>1</th>\n",
              "      <td>arnie morton's of chicago</td>\n",
              "      <td>435 s. la cienega blvd.</td>\n",
              "      <td>los angeles</td>\n",
              "      <td>310-246-1501</td>\n",
              "      <td>steakhouses</td>\n",
              "      <td>0</td>\n",
              "    </tr>\n",
              "    <tr>\n",
              "      <th>2</th>\n",
              "      <td>arnie morton</td>\n",
              "      <td>435 s. la cienega boulevard</td>\n",
              "      <td>los angeles</td>\n",
              "      <td>310-246-1501</td>\n",
              "      <td>steakhouses</td>\n",
              "      <td>0</td>\n",
              "    </tr>\n",
              "    <tr>\n",
              "      <th>3</th>\n",
              "      <td>art's delicatessen</td>\n",
              "      <td>12224 ventura blvd.</td>\n",
              "      <td>studio city</td>\n",
              "      <td>818/762-1221</td>\n",
              "      <td>american</td>\n",
              "      <td>1</td>\n",
              "    </tr>\n",
              "    <tr>\n",
              "      <th>4</th>\n",
              "      <td>art's deli</td>\n",
              "      <td>12224 ventura blvd.</td>\n",
              "      <td>studio city</td>\n",
              "      <td>818-762-1221</td>\n",
              "      <td>delis</td>\n",
              "      <td>1</td>\n",
              "    </tr>\n",
              "    <tr>\n",
              "      <th>5</th>\n",
              "      <td>art's deli</td>\n",
              "      <td>12224 ventura blvd.</td>\n",
              "      <td>los angeles</td>\n",
              "      <td>818-762-1221</td>\n",
              "      <td>delis</td>\n",
              "      <td>1</td>\n",
              "    </tr>\n",
              "    <tr>\n",
              "      <th>6</th>\n",
              "      <td>hotel bel-air</td>\n",
              "      <td>701 stone canyon rd.</td>\n",
              "      <td>bel air</td>\n",
              "      <td>310/472-1211</td>\n",
              "      <td>californian</td>\n",
              "      <td>2</td>\n",
              "    </tr>\n",
              "    <tr>\n",
              "      <th>7</th>\n",
              "      <td>bel-air hotel</td>\n",
              "      <td>701 stone canyon rd.</td>\n",
              "      <td>bel air</td>\n",
              "      <td>310-472-1211</td>\n",
              "      <td>californian</td>\n",
              "      <td>2</td>\n",
              "    </tr>\n",
              "    <tr>\n",
              "      <th>8</th>\n",
              "      <td>bel-air</td>\n",
              "      <td>701 stone canyon road</td>\n",
              "      <td>bel air</td>\n",
              "      <td>(310) 472-1211</td>\n",
              "      <td>american</td>\n",
              "      <td>2</td>\n",
              "    </tr>\n",
              "  </tbody>\n",
              "</table>\n",
              "</div>"
            ],
            "text/plain": [
              "                        name                         addr         city  \\\n",
              "0  arnie morton's of chicago       435 s. la cienega blv.  los angeles   \n",
              "1  arnie morton's of chicago      435 s. la cienega blvd.  los angeles   \n",
              "2               arnie morton  435 s. la cienega boulevard  los angeles   \n",
              "3         art's delicatessen          12224 ventura blvd.  studio city   \n",
              "4                 art's deli          12224 ventura blvd.  studio city   \n",
              "5                 art's deli          12224 ventura blvd.  los angeles   \n",
              "6              hotel bel-air         701 stone canyon rd.      bel air   \n",
              "7              bel-air hotel         701 stone canyon rd.      bel air   \n",
              "8                    bel-air        701 stone canyon road      bel air   \n",
              "\n",
              "            phone         type  cluster  \n",
              "0    310/246-1501     american        0  \n",
              "1    310-246-1501  steakhouses        0  \n",
              "2    310-246-1501  steakhouses        0  \n",
              "3    818/762-1221     american        1  \n",
              "4    818-762-1221        delis        1  \n",
              "5    818-762-1221        delis        1  \n",
              "6    310/472-1211  californian        2  \n",
              "7    310-472-1211  californian        2  \n",
              "8  (310) 472-1211     american        2  "
            ]
          },
          "execution_count": 29,
          "metadata": {},
          "output_type": "execute_result"
        }
      ],
      "source": [
        "df_with_truth = pd.read_csv('restaurant.csv', skip_blank_lines=True)\n",
        "df_with_truth.head(9)"
      ]
    },
    {
      "cell_type": "markdown",
      "metadata": {
        "id": "eXbvFvZ3A2OE"
      },
      "source": [
        "The dataset comes with the **true matches** indicated by the `cluster` column. We use that to compute the `golden_pairs_set`:"
      ]
    },
    {
      "cell_type": "code",
      "execution_count": null,
      "metadata": {
        "id": "IeJO-d1YA2OF",
        "outputId": "0df539fe-5810-42d5-ee24-4cb651e8fa46"
      },
      "outputs": [
        {
          "data": {
            "text/plain": [
              "150"
            ]
          },
          "execution_count": 30,
          "metadata": {},
          "output_type": "execute_result"
        }
      ],
      "source": [
        "golden_pairs_set = {\n",
        "    tuple(sorted(pair))\n",
        "    for cluster_ids in df_with_truth.groupby('cluster').indices.values()\n",
        "    for pair in itertools.combinations(cluster_ids, 2)\n",
        "}\n",
        "len(golden_pairs_set)"
      ]
    },
    {
      "cell_type": "markdown",
      "metadata": {
        "id": "iom_WFIOA2OF"
      },
      "source": [
        "We'll remove the `phone` and `type` fields to makes things more **difficult**:"
      ]
    },
    {
      "cell_type": "code",
      "execution_count": null,
      "metadata": {
        "id": "7x_9J01IA2OF",
        "outputId": "f91d88dd-05a0-4ca8-fef4-4abae27ccdd2"
      },
      "outputs": [
        {
          "data": {
            "text/html": [
              "<div>\n",
              "<style scoped>\n",
              "    .dataframe tbody tr th:only-of-type {\n",
              "        vertical-align: middle;\n",
              "    }\n",
              "\n",
              "    .dataframe tbody tr th {\n",
              "        vertical-align: top;\n",
              "    }\n",
              "\n",
              "    .dataframe thead th {\n",
              "        text-align: right;\n",
              "    }\n",
              "</style>\n",
              "<table border=\"1\" class=\"dataframe\">\n",
              "  <thead>\n",
              "    <tr style=\"text-align: right;\">\n",
              "      <th></th>\n",
              "      <th>name</th>\n",
              "      <th>addr</th>\n",
              "      <th>city</th>\n",
              "    </tr>\n",
              "  </thead>\n",
              "  <tbody>\n",
              "    <tr>\n",
              "      <th>0</th>\n",
              "      <td>arnie morton's of chicago</td>\n",
              "      <td>435 s. la cienega blv.</td>\n",
              "      <td>los angeles</td>\n",
              "    </tr>\n",
              "    <tr>\n",
              "      <th>1</th>\n",
              "      <td>arnie morton's of chicago</td>\n",
              "      <td>435 s. la cienega blvd.</td>\n",
              "      <td>los angeles</td>\n",
              "    </tr>\n",
              "    <tr>\n",
              "      <th>2</th>\n",
              "      <td>arnie morton</td>\n",
              "      <td>435 s. la cienega boulevard</td>\n",
              "      <td>los angeles</td>\n",
              "    </tr>\n",
              "    <tr>\n",
              "      <th>3</th>\n",
              "      <td>art's delicatessen</td>\n",
              "      <td>12224 ventura blvd.</td>\n",
              "      <td>studio city</td>\n",
              "    </tr>\n",
              "    <tr>\n",
              "      <th>4</th>\n",
              "      <td>art's deli</td>\n",
              "      <td>12224 ventura blvd.</td>\n",
              "      <td>studio city</td>\n",
              "    </tr>\n",
              "    <tr>\n",
              "      <th>5</th>\n",
              "      <td>art's deli</td>\n",
              "      <td>12224 ventura blvd.</td>\n",
              "      <td>los angeles</td>\n",
              "    </tr>\n",
              "    <tr>\n",
              "      <th>6</th>\n",
              "      <td>hotel bel-air</td>\n",
              "      <td>701 stone canyon rd.</td>\n",
              "      <td>bel air</td>\n",
              "    </tr>\n",
              "    <tr>\n",
              "      <th>7</th>\n",
              "      <td>bel-air hotel</td>\n",
              "      <td>701 stone canyon rd.</td>\n",
              "      <td>bel air</td>\n",
              "    </tr>\n",
              "    <tr>\n",
              "      <th>8</th>\n",
              "      <td>bel-air</td>\n",
              "      <td>701 stone canyon road</td>\n",
              "      <td>bel air</td>\n",
              "    </tr>\n",
              "  </tbody>\n",
              "</table>\n",
              "</div>"
            ],
            "text/plain": [
              "                        name                         addr         city\n",
              "0  arnie morton's of chicago       435 s. la cienega blv.  los angeles\n",
              "1  arnie morton's of chicago      435 s. la cienega blvd.  los angeles\n",
              "2               arnie morton  435 s. la cienega boulevard  los angeles\n",
              "3         art's delicatessen          12224 ventura blvd.  studio city\n",
              "4                 art's deli          12224 ventura blvd.  studio city\n",
              "5                 art's deli          12224 ventura blvd.  los angeles\n",
              "6              hotel bel-air         701 stone canyon rd.      bel air\n",
              "7              bel-air hotel         701 stone canyon rd.      bel air\n",
              "8                    bel-air        701 stone canyon road      bel air"
            ]
          },
          "execution_count": 31,
          "metadata": {},
          "output_type": "execute_result"
        }
      ],
      "source": [
        "df = df_with_truth.drop(columns=['cluster', 'phone', 'type'])\n",
        "df.head(9)"
      ]
    },
    {
      "cell_type": "markdown",
      "metadata": {
        "id": "uxvCjVghA2OF"
      },
      "source": [
        "**Geocoding** `addr`:"
      ]
    },
    {
      "cell_type": "code",
      "execution_count": null,
      "metadata": {
        "id": "G2J5eeadA2OF",
        "outputId": "0b71de10-b256-4d7c-c375-0512967ca1f0"
      },
      "outputs": [
        {
          "name": "stdout",
          "output_type": "stream",
          "text": [
            "881 819\n"
          ]
        }
      ],
      "source": [
        "import numpy as np\n",
        "\n",
        "all_addresses = df['addr'].str.cat(df['city'], sep=', ').values\n",
        "unique_addresses = np.unique(all_addresses)\n",
        "print(len(all_addresses), len(unique_addresses))"
      ]
    },
    {
      "cell_type": "code",
      "execution_count": null,
      "metadata": {
        "id": "hfsvJL6WA2OG",
        "outputId": "63b07a42-2c39-4b33-b63a-8f15ef08c74e"
      },
      "outputs": [
        {
          "name": "stdout",
          "output_type": "stream",
          "text": [
            "Failed to get postal from 10\n",
            "Failed to get latlng from 0\n"
          ]
        }
      ],
      "source": [
        "import requests\n",
        "import os.path\n",
        "import json\n",
        "\n",
        "geocoding_filename = 'address_to_geocoding.json'\n",
        "\n",
        "def geocode_addresses(address_to_geocoding):\n",
        "    remaining_addresses = (\n",
        "        set(unique_addresses) -\n",
        "        set(k for k, v in address_to_geocoding.items() if v is not None and 'lat' in v))\n",
        "\n",
        "    with requests.Session() as session:\n",
        "        for i, address in enumerate(remaining_addresses):\n",
        "            print(f\"Geocoding {i + 1}/{len(remaining_addresses)}\")\n",
        "            geocode_result = geocoder.google(address, session=session)\n",
        "            address_to_geocoding[address] = geocode_result.json\n",
        "\n",
        "        with open(geocoding_filename, 'w') as f:\n",
        "            json.dump(address_to_geocoding, f, indent=4)\n",
        "\n",
        "if not os.path.exists(geocoding_filename):\n",
        "    address_to_geocoding = {}\n",
        "    geocode_addresses(address_to_geocoding)\n",
        "else:\n",
        "    with open(geocoding_filename) as f:\n",
        "        address_to_geocoding = json.load(f)\n",
        "    geocode_addresses(address_to_geocoding)\n",
        "\n",
        "address_to_postal = {\n",
        "    k: v['postal']\n",
        "    for k, v in address_to_geocoding.items()\n",
        "    if v is not None and 'postal' in v\n",
        "}\n",
        "address_to_latlng = {\n",
        "    k: (v['lat'], v['lng'])\n",
        "    for k, v in address_to_geocoding.items()\n",
        "    if v is not None\n",
        "}\n",
        "print(f\"Failed to get postal from {len(address_to_geocoding) - len(address_to_postal)}\")\n",
        "print(f\"Failed to get latlng from {len(address_to_geocoding) - len(address_to_latlng)}\")"
      ]
    },
    {
      "cell_type": "code",
      "execution_count": null,
      "metadata": {
        "id": "s_H6_OQBA2OG"
      },
      "outputs": [],
      "source": [
        "def assign_postal_latlng(df):\n",
        "    addresses = df['addr'].str.cat(df['city'], sep=', ')\n",
        "    addresses_to_postal = [address_to_postal.get(a) for a in addresses]\n",
        "    addresses_to_latlng = [address_to_latlng[a] if a in address_to_latlng else None for a in addresses]\n",
        "\n",
        "    return df.assign(postal=addresses_to_postal, latlng=addresses_to_latlng)"
      ]
    },
    {
      "cell_type": "code",
      "execution_count": null,
      "metadata": {
        "scrolled": false,
        "id": "XDFr3i9BA2OG",
        "outputId": "ebd79a33-a596-47c2-b3ed-a6f7c3cd02f7"
      },
      "outputs": [
        {
          "data": {
            "text/html": [
              "<div>\n",
              "<style scoped>\n",
              "    .dataframe tbody tr th:only-of-type {\n",
              "        vertical-align: middle;\n",
              "    }\n",
              "\n",
              "    .dataframe tbody tr th {\n",
              "        vertical-align: top;\n",
              "    }\n",
              "\n",
              "    .dataframe thead th {\n",
              "        text-align: right;\n",
              "    }\n",
              "</style>\n",
              "<table border=\"1\" class=\"dataframe\">\n",
              "  <thead>\n",
              "    <tr style=\"text-align: right;\">\n",
              "      <th></th>\n",
              "      <th>name</th>\n",
              "      <th>addr</th>\n",
              "      <th>city</th>\n",
              "      <th>postal</th>\n",
              "      <th>latlng</th>\n",
              "    </tr>\n",
              "  </thead>\n",
              "  <tbody>\n",
              "    <tr>\n",
              "      <th>0</th>\n",
              "      <td>arnie morton's of chicago</td>\n",
              "      <td>435 s. la cienega blv.</td>\n",
              "      <td>los angeles</td>\n",
              "      <td>90048</td>\n",
              "      <td>(34.0707083, -118.3765626)</td>\n",
              "    </tr>\n",
              "    <tr>\n",
              "      <th>1</th>\n",
              "      <td>arnie morton's of chicago</td>\n",
              "      <td>435 s. la cienega blvd.</td>\n",
              "      <td>los angeles</td>\n",
              "      <td>90048</td>\n",
              "      <td>(34.0707083, -118.3765626)</td>\n",
              "    </tr>\n",
              "    <tr>\n",
              "      <th>2</th>\n",
              "      <td>arnie morton</td>\n",
              "      <td>435 s. la cienega boulevard</td>\n",
              "      <td>los angeles</td>\n",
              "      <td>90048</td>\n",
              "      <td>(34.0707083, -118.3765626)</td>\n",
              "    </tr>\n",
              "    <tr>\n",
              "      <th>3</th>\n",
              "      <td>art's delicatessen</td>\n",
              "      <td>12224 ventura blvd.</td>\n",
              "      <td>studio city</td>\n",
              "      <td>91604</td>\n",
              "      <td>(34.1429632, -118.3994648)</td>\n",
              "    </tr>\n",
              "    <tr>\n",
              "      <th>4</th>\n",
              "      <td>art's deli</td>\n",
              "      <td>12224 ventura blvd.</td>\n",
              "      <td>studio city</td>\n",
              "      <td>91604</td>\n",
              "      <td>(34.1429632, -118.3994648)</td>\n",
              "    </tr>\n",
              "    <tr>\n",
              "      <th>5</th>\n",
              "      <td>art's deli</td>\n",
              "      <td>12224 ventura blvd.</td>\n",
              "      <td>los angeles</td>\n",
              "      <td>91604</td>\n",
              "      <td>(34.1429632, -118.3994648)</td>\n",
              "    </tr>\n",
              "  </tbody>\n",
              "</table>\n",
              "</div>"
            ],
            "text/plain": [
              "                        name                         addr         city postal  \\\n",
              "0  arnie morton's of chicago       435 s. la cienega blv.  los angeles  90048   \n",
              "1  arnie morton's of chicago      435 s. la cienega blvd.  los angeles  90048   \n",
              "2               arnie morton  435 s. la cienega boulevard  los angeles  90048   \n",
              "3         art's delicatessen          12224 ventura blvd.  studio city  91604   \n",
              "4                 art's deli          12224 ventura blvd.  studio city  91604   \n",
              "5                 art's deli          12224 ventura blvd.  los angeles  91604   \n",
              "\n",
              "                       latlng  \n",
              "0  (34.0707083, -118.3765626)  \n",
              "1  (34.0707083, -118.3765626)  \n",
              "2  (34.0707083, -118.3765626)  \n",
              "3  (34.1429632, -118.3994648)  \n",
              "4  (34.1429632, -118.3994648)  \n",
              "5  (34.1429632, -118.3994648)  "
            ]
          },
          "execution_count": 35,
          "metadata": {},
          "output_type": "execute_result"
        }
      ],
      "source": [
        "df = assign_postal_latlng(df)\n",
        "df.head(6)"
      ]
    },
    {
      "cell_type": "markdown",
      "metadata": {
        "id": "JLdrUXwmA2OG"
      },
      "source": [
        "Note we used the geocoder to get **`postal` code** as well. It's especially useful for blocking."
      ]
    },
    {
      "cell_type": "markdown",
      "metadata": {
        "id": "2ySzYCPhA2OH"
      },
      "source": [
        "A Python library called [**Dedupe**](https://docs.dedupe.io/en/latest/index.html) implements Active Learning and has a friendly interface. Let's see it in practice:"
      ]
    },
    {
      "cell_type": "code",
      "source": [
        "!pip install dedupe"
      ],
      "metadata": {
        "colab": {
          "base_uri": "https://localhost:8080/"
        },
        "id": "DWighTFrJ-9t",
        "outputId": "8806981e-add7-4150-9e19-63cc74cb8b8c"
      },
      "execution_count": null,
      "outputs": [
        {
          "output_type": "stream",
          "name": "stdout",
          "text": [
            "Looking in indexes: https://pypi.org/simple, https://us-python.pkg.dev/colab-wheels/public/simple/\n",
            "Collecting dedupe\n",
            "  Downloading dedupe-2.0.22-cp38-cp38-manylinux_2_5_x86_64.manylinux1_x86_64.manylinux_2_17_x86_64.manylinux2014_x86_64.whl (133 kB)\n",
            "\u001b[2K     \u001b[90m━━━━━━━━━━━━━━━━━━━━━━━━━━━━━━━━━━━━━━━\u001b[0m \u001b[32m133.3/133.3 KB\u001b[0m \u001b[31m3.3 MB/s\u001b[0m eta \u001b[36m0:00:00\u001b[0m\n",
            "\u001b[?25hCollecting affinegap>=1.3\n",
            "  Downloading affinegap-1.12-cp38-cp38-manylinux_2_5_x86_64.manylinux1_x86_64.manylinux_2_12_x86_64.manylinux2010_x86_64.whl (56 kB)\n",
            "\u001b[2K     \u001b[90m━━━━━━━━━━━━━━━━━━━━━━━━━━━━━━━━━━━━━━━━\u001b[0m \u001b[32m57.0/57.0 KB\u001b[0m \u001b[31m6.9 MB/s\u001b[0m eta \u001b[36m0:00:00\u001b[0m\n",
            "\u001b[?25hCollecting highered>=0.2.0\n",
            "  Downloading highered-0.2.1-py2.py3-none-any.whl (3.3 kB)\n",
            "Collecting dedupe-variable-datetime\n",
            "  Downloading dedupe_variable_datetime-1.0.0-py3-none-any.whl (3.9 kB)\n",
            "Requirement already satisfied: haversine>=0.4.1 in /usr/local/lib/python3.8/dist-packages (from dedupe) (2.7.0)\n",
            "Requirement already satisfied: scikit-learn in /usr/local/lib/python3.8/dist-packages (from dedupe) (1.0.2)\n",
            "Requirement already satisfied: typing-extensions in /usr/local/lib/python3.8/dist-packages (from dedupe) (4.4.0)\n",
            "Collecting BTrees>=4.1.4\n",
            "  Downloading BTrees-5.0-cp38-cp38-manylinux_2_17_x86_64.manylinux2014_x86_64.whl (3.8 MB)\n",
            "\u001b[2K     \u001b[90m━━━━━━━━━━━━━━━━━━━━━━━━━━━━━━━━━━━━━━━━\u001b[0m \u001b[32m3.8/3.8 MB\u001b[0m \u001b[31m28.1 MB/s\u001b[0m eta \u001b[36m0:00:00\u001b[0m\n",
            "\u001b[?25hCollecting dedupe-Levenshtein-search\n",
            "  Downloading dedupe_Levenshtein_search-1.4.5-cp38-cp38-manylinux_2_17_x86_64.manylinux2014_x86_64.whl (63 kB)\n",
            "\u001b[2K     \u001b[90m━━━━━━━━━━━━━━━━━━━━━━━━━━━━━━━━━━━━━━━━\u001b[0m \u001b[32m63.5/63.5 KB\u001b[0m \u001b[31m6.4 MB/s\u001b[0m eta \u001b[36m0:00:00\u001b[0m\n",
            "\u001b[?25hCollecting doublemetaphone\n",
            "  Downloading DoubleMetaphone-1.1-cp38-cp38-manylinux_2_5_x86_64.manylinux1_x86_64.manylinux_2_12_x86_64.manylinux2010_x86_64.whl (152 kB)\n",
            "\u001b[2K     \u001b[90m━━━━━━━━━━━━━━━━━━━━━━━━━━━━━━━━━━━━━━\u001b[0m \u001b[32m152.2/152.2 KB\u001b[0m \u001b[31m15.4 MB/s\u001b[0m eta \u001b[36m0:00:00\u001b[0m\n",
            "\u001b[?25hCollecting zope.index\n",
            "  Downloading zope.index-5.2.1-cp38-cp38-manylinux_2_5_x86_64.manylinux1_x86_64.manylinux_2_12_x86_64.manylinux2010_x86_64.whl (105 kB)\n",
            "\u001b[2K     \u001b[90m━━━━━━━━━━━━━━━━━━━━━━━━━━━━━━━━━━━━━━━\u001b[0m \u001b[32m105.9/105.9 KB\u001b[0m \u001b[31m7.8 MB/s\u001b[0m eta \u001b[36m0:00:00\u001b[0m\n",
            "\u001b[?25hCollecting categorical-distance>=1.9\n",
            "  Downloading categorical_distance-1.9-py3-none-any.whl (3.3 kB)\n",
            "Collecting simplecosine>=1.2\n",
            "  Downloading simplecosine-1.2-py2.py3-none-any.whl (3.2 kB)\n",
            "Requirement already satisfied: numpy>=1.20 in /usr/local/lib/python3.8/dist-packages (from dedupe) (1.21.6)\n",
            "Collecting zope.interface>=5.0.0\n",
            "  Downloading zope.interface-5.5.2-cp38-cp38-manylinux_2_5_x86_64.manylinux1_x86_64.manylinux_2_12_x86_64.manylinux2010_x86_64.whl (261 kB)\n",
            "\u001b[2K     \u001b[90m━━━━━━━━━━━━━━━━━━━━━━━━━━━━━━━━━━━━━━\u001b[0m \u001b[32m261.4/261.4 KB\u001b[0m \u001b[31m26.8 MB/s\u001b[0m eta \u001b[36m0:00:00\u001b[0m\n",
            "\u001b[?25hCollecting persistent>=4.1.0\n",
            "  Downloading persistent-5.0-cp38-cp38-manylinux_2_5_x86_64.manylinux1_x86_64.manylinux_2_17_x86_64.manylinux2014_x86_64.whl (233 kB)\n",
            "\u001b[2K     \u001b[90m━━━━━━━━━━━━━━━━━━━━━━━━━━━━━━━━━━━━━━\u001b[0m \u001b[32m233.1/233.1 KB\u001b[0m \u001b[31m27.5 MB/s\u001b[0m eta \u001b[36m0:00:00\u001b[0m\n",
            "\u001b[?25hCollecting pyhacrf-datamade>=0.2.0\n",
            "  Downloading pyhacrf_datamade-0.2.6-cp38-cp38-manylinux_2_17_x86_64.manylinux2014_x86_64.whl (1.1 MB)\n",
            "\u001b[2K     \u001b[90m━━━━━━━━━━━━━━━━━━━━━━━━━━━━━━━━━━━━━━━━\u001b[0m \u001b[32m1.1/1.1 MB\u001b[0m \u001b[31m58.8 MB/s\u001b[0m eta \u001b[36m0:00:00\u001b[0m\n",
            "\u001b[?25hCollecting datetime-distance\n",
            "  Downloading datetime_distance-0.1.3-py3-none-any.whl (4.1 kB)\n",
            "Collecting dedupe-variable-datetime\n",
            "  Downloading dedupe_variable_datetime-0.1.5-py3-none-any.whl (4.8 kB)\n",
            "Requirement already satisfied: future in /usr/local/lib/python3.8/dist-packages (from dedupe-variable-datetime->dedupe) (0.16.0)\n",
            "Requirement already satisfied: scipy>=1.1.0 in /usr/local/lib/python3.8/dist-packages (from scikit-learn->dedupe) (1.7.3)\n",
            "Requirement already satisfied: joblib>=0.11 in /usr/local/lib/python3.8/dist-packages (from scikit-learn->dedupe) (1.2.0)\n",
            "Requirement already satisfied: threadpoolctl>=2.0.0 in /usr/local/lib/python3.8/dist-packages (from scikit-learn->dedupe) (3.1.0)\n",
            "Requirement already satisfied: setuptools in /usr/local/lib/python3.8/dist-packages (from zope.index->dedupe) (57.4.0)\n",
            "Requirement already satisfied: six in /usr/local/lib/python3.8/dist-packages (from zope.index->dedupe) (1.15.0)\n",
            "Requirement already satisfied: cffi in /usr/local/lib/python3.8/dist-packages (from persistent>=4.1.0->BTrees>=4.1.4->dedupe) (1.15.1)\n",
            "Collecting PyLBFGS>=0.1.3\n",
            "  Downloading PyLBFGS-0.2.0.14-cp38-cp38-manylinux_2_5_x86_64.manylinux1_x86_64.manylinux_2_12_x86_64.manylinux2010_x86_64.whl (284 kB)\n",
            "\u001b[2K     \u001b[90m━━━━━━━━━━━━━━━━━━━━━━━━━━━━━━━━━━━━━━\u001b[0m \u001b[32m284.7/284.7 KB\u001b[0m \u001b[31m29.6 MB/s\u001b[0m eta \u001b[36m0:00:00\u001b[0m\n",
            "\u001b[?25hRequirement already satisfied: python-dateutil>=2.6.0 in /usr/local/lib/python3.8/dist-packages (from datetime-distance->dedupe-variable-datetime->dedupe) (2.8.2)\n",
            "Requirement already satisfied: pycparser in /usr/local/lib/python3.8/dist-packages (from cffi->persistent>=4.1.0->BTrees>=4.1.4->dedupe) (2.21)\n",
            "Installing collected packages: doublemetaphone, dedupe-Levenshtein-search, affinegap, zope.interface, simplecosine, PyLBFGS, categorical-distance, pyhacrf-datamade, persistent, datetime-distance, highered, BTrees, zope.index, dedupe-variable-datetime, dedupe\n",
            "Successfully installed BTrees-5.0 PyLBFGS-0.2.0.14 affinegap-1.12 categorical-distance-1.9 datetime-distance-0.1.3 dedupe-2.0.22 dedupe-Levenshtein-search-1.4.5 dedupe-variable-datetime-0.1.5 doublemetaphone-1.1 highered-0.2.1 persistent-5.0 pyhacrf-datamade-0.2.6 simplecosine-1.2 zope.index-5.2.1 zope.interface-5.5.2\n"
          ]
        }
      ]
    },
    {
      "cell_type": "code",
      "source": [
        "import random\n",
        "\n",
        "import numpy\n",
        "from dedupe.api import Dedupe\n",
        "from dedupe.labeler import DedupeDisagreementLearner\n",
        "from dedupe.labeler import RLRLearner\n",
        "from sklearn.ensemble import RandomForestClassifier\n",
        "\n",
        "\n",
        "def _build_model():\n",
        "    return RandomForestClassifier()\n",
        "\n",
        "\n",
        "class RFLearner(RLRLearner):\n",
        "\n",
        "  def __init__(self, data_model, *args, **kwargs):\n",
        "    self.svm_classifier = _build_model()\n",
        "    super().__init__(data_model, *args, **kwargs)\n",
        "\n",
        "  def fit(self, X, y):\n",
        "    y = numpy.array(y)\n",
        "\n",
        "    # This replicates Dedupe's behavior, adapting it to sklearn:\n",
        "    # if there are only non-matching examples on y,\n",
        "    #     grab a random record and consider it as a match with itself\n",
        "    # if there are only matching examples on y,\n",
        "    #     grab a random pair and consider it as a non-match\n",
        "    # Also, if both X and y are empty, do both things above.\n",
        "    # This happens on active learning when there's no existing training_pairs.\n",
        "    if not y.any():\n",
        "      random_pair = random.choice(self.candidates)\n",
        "      exact_match = (random_pair[0], random_pair[0])\n",
        "      X = numpy.vstack([X, self.transform([exact_match])])\n",
        "      y = numpy.concatenate([y, [1]])\n",
        "    if numpy.count_nonzero(y) == len(y):\n",
        "      random_pair = random.choice(self.candidates)\n",
        "      X = numpy.vstack([X, self.transform([random_pair])])\n",
        "      y = numpy.concatenate([y, [0]])\n",
        "\n",
        "    self.y = y\n",
        "    self.X = X\n",
        "    self.svm_classifier.fit(X, y)\n",
        "\n",
        "  def predict_proba(self, examples):\n",
        "    return self.svm_classifier.predict_proba(examples)[:, 1].reshape(-1, 1)\n",
        "\n",
        "\n",
        "class RFDisagreementLearner(DedupeDisagreementLearner):\n",
        "\n",
        "  def _common_init(self):\n",
        "    self.classifier = RFLearner(self.data_model, candidates=self.candidates)\n",
        "    self.learners = (self.classifier, self.blocker)\n",
        "    self.y = numpy.array([])\n",
        "    self.pairs = []\n",
        "\n",
        "\n",
        "class RFDedupe(Dedupe):\n",
        "  classifier = _build_model()\n",
        "  ActiveLearner = RFDisagreementLearner"
      ],
      "metadata": {
        "colab": {
          "base_uri": "https://localhost:8080/",
          "height": 393
        },
        "id": "LFoLg6arKJ3e",
        "outputId": "993e4f04-98a1-4e94-900a-480f0e543370"
      },
      "execution_count": null,
      "outputs": [
        {
          "output_type": "error",
          "ename": "ImportError",
          "evalue": "ignored",
          "traceback": [
            "\u001b[0;31m---------------------------------------------------------------------------\u001b[0m",
            "\u001b[0;31mImportError\u001b[0m                               Traceback (most recent call last)",
            "\u001b[0;32m<ipython-input-60-79c7a1871030>\u001b[0m in \u001b[0;36m<module>\u001b[0;34m\u001b[0m\n\u001b[1;32m      4\u001b[0m \u001b[0;32mfrom\u001b[0m \u001b[0mdedupe\u001b[0m\u001b[0;34m.\u001b[0m\u001b[0mapi\u001b[0m \u001b[0;32mimport\u001b[0m \u001b[0mDedupe\u001b[0m\u001b[0;34m\u001b[0m\u001b[0;34m\u001b[0m\u001b[0m\n\u001b[1;32m      5\u001b[0m \u001b[0;32mfrom\u001b[0m \u001b[0mdedupe\u001b[0m\u001b[0;34m.\u001b[0m\u001b[0mlabeler\u001b[0m \u001b[0;32mimport\u001b[0m \u001b[0mDedupeDisagreementLearner\u001b[0m\u001b[0;34m\u001b[0m\u001b[0;34m\u001b[0m\u001b[0m\n\u001b[0;32m----> 6\u001b[0;31m \u001b[0;32mfrom\u001b[0m \u001b[0mdedupe\u001b[0m\u001b[0;34m.\u001b[0m\u001b[0mlabeler\u001b[0m \u001b[0;32mimport\u001b[0m \u001b[0mRLRLearner\u001b[0m\u001b[0;34m\u001b[0m\u001b[0;34m\u001b[0m\u001b[0m\n\u001b[0m\u001b[1;32m      7\u001b[0m \u001b[0;32mfrom\u001b[0m \u001b[0msklearn\u001b[0m\u001b[0;34m.\u001b[0m\u001b[0mensemble\u001b[0m \u001b[0;32mimport\u001b[0m \u001b[0mRandomForestClassifier\u001b[0m\u001b[0;34m\u001b[0m\u001b[0;34m\u001b[0m\u001b[0m\n\u001b[1;32m      8\u001b[0m \u001b[0;34m\u001b[0m\u001b[0m\n",
            "\u001b[0;31mImportError\u001b[0m: cannot import name 'RLRLearner' from 'dedupe.labeler' (/usr/local/lib/python3.8/dist-packages/dedupe/labeler.py)",
            "",
            "\u001b[0;31m---------------------------------------------------------------------------\u001b[0;32m\nNOTE: If your import is failing due to a missing package, you can\nmanually install dependencies using either !pip or !apt.\n\nTo view examples of installing some common dependencies, click the\n\"Open Examples\" button below.\n\u001b[0;31m---------------------------------------------------------------------------\u001b[0m\n"
          ],
          "errorDetails": {
            "actions": [
              {
                "action": "open_url",
                "actionText": "Open Examples",
                "url": "/notebooks/snippets/importing_libraries.ipynb"
              }
            ]
          }
        }
      ]
    },
    {
      "cell_type": "code",
      "execution_count": null,
      "metadata": {
        "id": "YhNDzqX_A2OH"
      },
      "outputs": [],
      "source": [
        "from rf_dedupe import RFDedupe\n",
        "import dedupe\n",
        "\n",
        "fields = [\n",
        "    {\n",
        "        'field': 'name',\n",
        "        'variable name': 'name',\n",
        "        'type': 'String',\n",
        "    },\n",
        "    {\n",
        "        'field': 'addr',\n",
        "        'variable name': 'addr',\n",
        "        'type': 'String',\n",
        "    },\n",
        "    {\n",
        "        'field': 'postal',\n",
        "        'variable name': 'postal',\n",
        "        'type': 'String'\n",
        "    },\n",
        "    {\n",
        "        'field': 'latlng',\n",
        "        'variable name': 'latlng',\n",
        "        'type': 'LatLong'\n",
        "    },\n",
        "]\n",
        "deduper = RFDedupe(fields, num_cores=1)"
      ]
    },
    {
      "cell_type": "markdown",
      "metadata": {
        "id": "ZQg_iQj5A2OH"
      },
      "source": [
        "Our `RFDedupe` is a bit different than the original `Dedupe`, because we changed it to use a [**Random Forest classifier**](https://scikit-learn.org/stable/modules/generated/sklearn.ensemble.RandomForestClassifier.html) from scikit-learn. By default Dedupe uses a simpler logistic regression model.\n",
        "\n",
        "Use our code as base and try different classifiers!"
      ]
    },
    {
      "cell_type": "code",
      "execution_count": null,
      "metadata": {
        "id": "RQgaRCZDA2OH",
        "outputId": "2408e134-4627-48d6-d81d-b96b42f3b90c"
      },
      "outputs": [
        {
          "name": "stderr",
          "output_type": "stream",
          "text": [
            "INFO:dedupe.api:((SimplePredicate: (firstTokenPredicate, name), SimplePredicate: (sameSevenCharStartPredicate, name)), (SimplePredicate: (alphaNumericPredicate, postal), SimplePredicate: (firstIntegerPredicate, addr)))\n"
          ]
        }
      ],
      "source": [
        "import os\n",
        "\n",
        "settings_filename = 'dedupe-2-settings.pickle'\n",
        "if os.path.exists(settings_filename):\n",
        "    with open(settings_filename, 'rb') as sf:\n",
        "        deduper = dedupe.StaticDedupe(sf, num_cores=1)"
      ]
    },
    {
      "cell_type": "markdown",
      "metadata": {
        "id": "TG3TQyJMA2OH"
      },
      "source": [
        "We need to **adapt** the data a bit to the format Dedupe wants:"
      ]
    },
    {
      "cell_type": "code",
      "execution_count": null,
      "metadata": {
        "id": "pwA_1dkuA2OI"
      },
      "outputs": [],
      "source": [
        "data_for_dedupe = (\n",
        "    df\n",
        "    .replace({np.nan: None})\n",
        "    # assigning cluster for generating training,\n",
        "    # not used by Dedupe\n",
        "    .assign(cluster=df_with_truth['cluster'])\n",
        "    .to_dict('index')\n",
        ")"
      ]
    },
    {
      "cell_type": "markdown",
      "metadata": {
        "id": "H1b_4uRJA2OI"
      },
      "source": [
        "We train Dedupe by **labeling** the examples of matches and nonmatches it asks us:"
      ]
    },
    {
      "cell_type": "code",
      "execution_count": null,
      "metadata": {
        "scrolled": true,
        "id": "cu6rBH2pA2OI",
        "outputId": "5f6e0ad5-5960-4e44-a98b-0772832339b7"
      },
      "outputs": [
        {
          "name": "stdout",
          "output_type": "stream",
          "text": [
            "name : palace court\n",
            "addr : 3570 las vegas blvd. s\n",
            "postal : 89109\n",
            "latlng : (36.1161559, -115.1750576)\n",
            "\n",
            "name : palace court\n",
            "addr : 3570 las vegas blvd. s.\n",
            "postal : 89109\n",
            "latlng : (36.1161559, -115.1750576)\n",
            "\n",
            "0/10 positive, 0/10 negative\n",
            "Do these records refer to the same thing?\n",
            "(y)es / (n)o / (u)nsure / (f)inished\n",
            "y\n",
            "\n",
            "name : valentino\n",
            "addr : 3115 pico blvd.\n",
            "postal : 90404\n",
            "latlng : (34.026337, -118.4570875)\n",
            "\n",
            "name : valentino\n",
            "addr : 3115 pico blvd.\n",
            "postal : 90404\n",
            "latlng : (34.026337, -118.4570875)\n",
            "\n",
            "1/10 positive, 0/10 negative\n",
            "Do these records refer to the same thing?\n",
            "(y)es / (n)o / (u)nsure / (f)inished\n",
            "y\n",
            "\n",
            "name : nikolai's roof\n",
            "addr : 255 courtland st.  at harris st.\n",
            "postal : 30303\n",
            "latlng : (33.761546, -84.383562)\n",
            "\n",
            "name : nikolai's roof\n",
            "addr : 255 courtland st.\n",
            "postal : 30303\n",
            "latlng : (33.761546, -84.383562)\n",
            "\n",
            "2/10 positive, 0/10 negative\n",
            "Do these records refer to the same thing?\n",
            "(y)es / (n)o / (u)nsure / (f)inished\n",
            "y\n",
            "\n",
            "name : fenix\n",
            "addr : 8358 sunset blvd.\n",
            "postal : 90069\n",
            "latlng : (34.0951411, -118.3720244)\n",
            "\n",
            "name : fenix at the argyle\n",
            "addr : 8358 sunset blvd.\n",
            "postal : 90069\n",
            "latlng : (34.0951411, -118.3720244)\n",
            "\n",
            "3/10 positive, 0/10 negative\n",
            "Do these records refer to the same thing?\n",
            "(y)es / (n)o / (u)nsure / (f)inished\n",
            "y\n",
            "\n",
            "name : arnie morton's of chicago\n",
            "addr : 435 s. la cienega blv.\n",
            "postal : 90048\n",
            "latlng : (34.0707083, -118.3765626)\n",
            "\n",
            "name : arnie morton\n",
            "addr : 435 s. la cienega boulevard\n",
            "postal : 90048\n",
            "latlng : (34.0707083, -118.3765626)\n",
            "\n",
            "4/10 positive, 0/10 negative\n",
            "Do these records refer to the same thing?\n",
            "(y)es / (n)o / (u)nsure / (f)inished\n",
            "y\n",
            "\n",
            "name : restaurant katsu\n",
            "addr : 1972 n. hillhurst ave.\n",
            "postal : 90027\n",
            "latlng : (34.1074027, -118.2871721)\n",
            "\n",
            "name : katsu\n",
            "addr : 1972 hillhurst ave.\n",
            "postal : 90027\n",
            "latlng : (34.1074027, -118.2871721)\n",
            "\n",
            "5/10 positive, 0/10 negative\n",
            "Do these records refer to the same thing?\n",
            "(y)es / (n)o / (u)nsure / (f)inished\n",
            "y\n",
            "\n",
            "name : locanda veneta\n",
            "addr : 3rd st.\n",
            "postal : None\n",
            "latlng : (34.0090307, -118.4881742)\n",
            "\n",
            "name : cava\n",
            "addr : 3rd st.\n",
            "postal : None\n",
            "latlng : (34.0090307, -118.4881742)\n",
            "\n",
            "6/10 positive, 0/10 negative\n",
            "Do these records refer to the same thing?\n",
            "(y)es / (n)o / (u)nsure / (f)inished\n",
            "n\n",
            "\n",
            "name : locanda veneta\n",
            "addr : 3rd st.\n",
            "postal : None\n",
            "latlng : (34.0090307, -118.4881742)\n",
            "\n",
            "name : sofi\n",
            "addr : 3rd st.\n",
            "postal : None\n",
            "latlng : (34.0090307, -118.4881742)\n",
            "\n",
            "6/10 positive, 1/10 negative\n",
            "Do these records refer to the same thing?\n",
            "(y)es / (n)o / (u)nsure / (f)inished\n",
            "n\n",
            "\n",
            "name : c3\n",
            "addr : 103 waverly pl.  near washington sq.\n",
            "postal : 10011\n",
            "latlng : (40.7324563, -73.9987344)\n",
            "\n",
            "name : caffe dell'artista\n",
            "addr : 46 greenwich ave.\n",
            "postal : 10011\n",
            "latlng : (40.7356133, -74.000277)\n",
            "\n",
            "6/10 positive, 2/10 negative\n",
            "Do these records refer to the same thing?\n",
            "(y)es / (n)o / (u)nsure / (f)inished\n",
            "n\n",
            "\n",
            "name : les celebrites\n",
            "addr : 160 central park s\n",
            "postal : 10019\n",
            "latlng : (40.7660208, -73.97864919999999)\n",
            "\n",
            "name : les celebrites\n",
            "addr : 155 w. 58th st.\n",
            "postal : 10019\n",
            "latlng : (40.7658908, -73.9784202)\n",
            "\n",
            "6/10 positive, 3/10 negative\n",
            "Do these records refer to the same thing?\n",
            "(y)es / (n)o / (u)nsure / (f)inished\n",
            "y\n",
            "\n",
            "name : smith & wollensky\n",
            "addr : 201 e. 49th st.\n",
            "postal : 10017\n",
            "latlng : (40.755156, -73.9707177)\n",
            "\n",
            "name : smith & wollensky\n",
            "addr : 797 third ave.\n",
            "postal : 10022\n",
            "latlng : (40.7551704, -73.9707437)\n",
            "\n",
            "7/10 positive, 3/10 negative\n",
            "Do these records refer to the same thing?\n",
            "(y)es / (n)o / (u)nsure / (f)inished\n",
            "y\n",
            "\n",
            "name : heera of india\n",
            "addr : 595 piedmont ave.  rio shopping mall\n",
            "postal : 30324\n",
            "latlng : (33.7983364, -84.3710444)\n",
            "\n",
            "name : heera of india\n",
            "addr : 595 piedmont ave.\n",
            "postal : 30308\n",
            "latlng : (33.770298, -84.38112190000001)\n",
            "\n",
            "8/10 positive, 3/10 negative\n",
            "Do these records refer to the same thing?\n",
            "(y)es / (n)o / (u)nsure / (f)inished\n",
            "y\n",
            "\n",
            "name : pamir\n",
            "addr : 1065 1st ave.  at 58th st.\n",
            "postal : 10022\n",
            "latlng : (40.7591914, -73.9626112)\n",
            "\n",
            "name : rosa mexicano\n",
            "addr : 1063 1st ave. at 58th st.\n",
            "postal : 10022\n",
            "latlng : (40.75896580000001, -73.9627039)\n",
            "\n",
            "9/10 positive, 3/10 negative\n",
            "Do these records refer to the same thing?\n",
            "(y)es / (n)o / (u)nsure / (f)inished\n",
            "n\n",
            "\n",
            "name : toulouse\n",
            "addr : b peachtree rd.\n",
            "postal : 30326\n",
            "latlng : (33.8544526, -84.35839469999999)\n",
            "\n",
            "name : toulouse\n",
            "addr : 293-b peachtree rd.\n",
            "postal : 30303\n",
            "latlng : (33.7621776, -84.38750259999999)\n",
            "\n",
            "9/10 positive, 4/10 negative\n",
            "Do these records refer to the same thing?\n",
            "(y)es / (n)o / (u)nsure / (f)inished\n",
            "y\n",
            "\n",
            "name : morton's\n",
            "addr : 551 5th ave. at 45th st.\n",
            "postal : 10176\n",
            "latlng : (40.7553885, -73.9788988)\n",
            "\n",
            "name : morton's of chicago (atlanta)\n",
            "addr : 303 peachtree st. ne\n",
            "postal : 30308\n",
            "latlng : (33.762766, -84.3865105)\n",
            "\n",
            "10/10 positive, 4/10 negative\n",
            "Do these records refer to the same thing?\n",
            "(y)es / (n)o / (u)nsure / (f)inished\n",
            "n\n",
            "\n",
            "name : morton's\n",
            "addr : 551 5th ave. at 45th st.\n",
            "postal : 10176\n",
            "latlng : (40.7553885, -73.9788988)\n",
            "\n",
            "name : morton's of chicago (las vegas)\n",
            "addr : 3200 las vegas blvd. s.\n",
            "postal : 89109\n",
            "latlng : (36.1275236, -115.1715003)\n",
            "\n",
            "10/10 positive, 5/10 negative\n",
            "Do these records refer to the same thing?\n",
            "(y)es / (n)o / (u)nsure / (f)inished\n",
            "n\n",
            "\n",
            "name : hard rock cafe\n",
            "addr : 8600 beverly blvd.\n",
            "postal : 90048\n",
            "latlng : (34.0762713, -118.3786544)\n",
            "\n",
            "name : hard rock cafe\n",
            "addr : 221 w. 57th st.\n",
            "postal : 10019\n",
            "latlng : (40.7661451, -73.9810163)\n",
            "\n",
            "10/10 positive, 6/10 negative\n",
            "Do these records refer to the same thing?\n",
            "(y)es / (n)o / (u)nsure / (f)inished\n",
            "n\n",
            "\n",
            "name : teresa's\n",
            "addr : 103 1st ave.  between 6th and 7th sts.\n",
            "postal : 10003\n",
            "latlng : (40.7266961, -73.9861943)\n",
            "\n",
            "name : teresa's\n",
            "addr : 80 montague st.\n",
            "...\n"
          ]
        }
      ],
      "source": [
        "# deduper.prepare_training(data_for_dedupe)\n",
        "# dedupe.console_label(deduper)\n",
        "# deduper.train(index_predicates=False)\n",
        "\n",
        "with open('training-dedupe-2-input-output.txt') as t:\n",
        "    print('\\n'.join(t.read().split('\\n')[:262]))\n",
        "    print('...')"
      ]
    },
    {
      "cell_type": "markdown",
      "metadata": {
        "id": "Yx2L3fR2A2OI"
      },
      "source": [
        "You can check the full training at `training-dedupe-2-input-output.txt`.\n",
        "\n",
        "If you want to train it yourself, do a `rm dedupe-2-settings.pickle dedupe-2-training.json` and run this whole Active Learning session again."
      ]
    },
    {
      "cell_type": "code",
      "execution_count": null,
      "metadata": {
        "id": "Oi6rZl6FA2OI"
      },
      "outputs": [],
      "source": [
        "from dedupe.convenience import unique\n",
        "\n",
        "\n",
        "def _get_n_match_n_distinct(training_pairs, examples_buffer):\n",
        "    n_match = (len(deduper.training_pairs['match']) +\n",
        "               sum(label == 'match' for _, label in examples_buffer))\n",
        "    n_distinct = (len(deduper.training_pairs['distinct']) +\n",
        "                  sum(label == 'distinct' for _, label in examples_buffer))\n",
        "    return n_match, n_distinct\n",
        "\n",
        "\n",
        "def auto_label(deduper):\n",
        "    # based on: dedupe.convenience.console_label\n",
        "    fields = unique(field.field\n",
        "                    for field\n",
        "                    in deduper.data_model.primary_fields)\n",
        "    buffer_len = 1\n",
        "    examples_buffer = []\n",
        "    uncertain_pairs = []\n",
        "    n_match, n_distinct = _get_n_match_n_distinct(deduper.training_pairs, examples_buffer)\n",
        "\n",
        "    while n_match < 15 or n_distinct < 20:\n",
        "        if not uncertain_pairs:\n",
        "            uncertain_pairs = deduper.uncertain_pairs()\n",
        "        record_pair = uncertain_pairs.pop()\n",
        "\n",
        "        n_match, n_distinct = _get_n_match_n_distinct(deduper.training_pairs, examples_buffer)\n",
        "\n",
        "        for pair in record_pair:\n",
        "            for field in fields:\n",
        "                line = \"%s : %s\" % (field, pair[field])\n",
        "                print(line)\n",
        "            print()\n",
        "        print(f\"{n_match}/10 positive, {n_distinct}/10 negative\")\n",
        "        print(\"Do these records refer to the same thing?\")\n",
        "        print(\"(y)es / (n)o / (u)nsure / (f)inished\")\n",
        "\n",
        "        if record_pair[0]['cluster'] == record_pair[1]['cluster']:\n",
        "            print('y')\n",
        "            examples_buffer.insert(0, (record_pair, 'match'))\n",
        "        else:\n",
        "            print('n')\n",
        "            examples_buffer.insert(0, (record_pair, 'distinct'))\n",
        "        print()\n",
        "\n",
        "        if len(examples_buffer) > buffer_len:\n",
        "            record_pair, label = examples_buffer.pop()\n",
        "            if label in ['distinct', 'match']:\n",
        "                examples = {'distinct': [], 'match': []}\n",
        "                examples[label].append(record_pair)\n",
        "                deduper.mark_pairs(examples)\n",
        "\n",
        "    for record_pair, label in examples_buffer:\n",
        "        if label in ['distinct', 'match']:\n",
        "            examples = {'distinct': [], 'match': []}\n",
        "            examples[label].append(record_pair)\n",
        "            deduper.mark_pairs(examples)"
      ]
    },
    {
      "cell_type": "code",
      "execution_count": null,
      "metadata": {
        "id": "Fc0AoAWgA2OJ"
      },
      "outputs": [],
      "source": [
        "import os\n",
        "\n",
        "if not isinstance(deduper, dedupe.StaticDedupe):\n",
        "    training_filename = 'dedupe-2-training.json'\n",
        "    if os.path.exists(training_filename):\n",
        "        with open(training_filename) as tf:\n",
        "            deduper.prepare_training(data_for_dedupe, tf)\n",
        "    else:\n",
        "        deduper.prepare_training(data_for_dedupe)\n",
        "\n",
        "    # dedupe.console_label(deduper)\n",
        "    auto_label(deduper)\n",
        "\n",
        "    with open(training_filename, 'w') as tf:\n",
        "        deduper.write_training(tf)\n",
        "\n",
        "    deduper.train(index_predicates=False)\n",
        "\n",
        "    with open(settings_filename, 'wb') as sf:\n",
        "        deduper.write_settings(sf)"
      ]
    },
    {
      "cell_type": "markdown",
      "metadata": {
        "id": "GKoyq26xA2OJ"
      },
      "source": [
        "After training, we can see which **blocking fingerprints** the deduper learned from our training input.\n",
        "\n",
        "It's good to do that to check if we trained enough:"
      ]
    },
    {
      "cell_type": "code",
      "execution_count": null,
      "metadata": {
        "id": "ZpOl6hd1A2OJ",
        "outputId": "b3296126-6390-4865-8d36-cdb98d8dd32a"
      },
      "outputs": [
        {
          "data": {
            "text/plain": [
              "((SimplePredicate: (firstTokenPredicate, name),\n",
              "  SimplePredicate: (sameSevenCharStartPredicate, name)),\n",
              " (SimplePredicate: (alphaNumericPredicate, postal),\n",
              "  SimplePredicate: (firstIntegerPredicate, addr)))"
            ]
          },
          "execution_count": 42,
          "metadata": {},
          "output_type": "execute_result"
        }
      ],
      "source": [
        "deduper.predicates"
      ]
    },
    {
      "cell_type": "markdown",
      "metadata": {
        "id": "VEdUcGVNA2OJ"
      },
      "source": [
        "The deduper selected those fingerprints from this extense list of **possible fingerprints**:"
      ]
    },
    {
      "cell_type": "code",
      "execution_count": null,
      "metadata": {
        "scrolled": true,
        "id": "LpnGCy5BA2OK",
        "outputId": "f74cbba1-effa-4f98-b638-a52261b34a14"
      },
      "outputs": [
        {
          "data": {
            "text/plain": [
              "{LevenshteinCanopyPredicate: (1, addr),\n",
              " LevenshteinCanopyPredicate: (1, name),\n",
              " LevenshteinCanopyPredicate: (1, postal),\n",
              " LevenshteinCanopyPredicate: (2, addr),\n",
              " LevenshteinCanopyPredicate: (2, name),\n",
              " LevenshteinCanopyPredicate: (2, postal),\n",
              " LevenshteinCanopyPredicate: (3, addr),\n",
              " LevenshteinCanopyPredicate: (3, name),\n",
              " LevenshteinCanopyPredicate: (3, postal),\n",
              " LevenshteinCanopyPredicate: (4, addr),\n",
              " LevenshteinCanopyPredicate: (4, name),\n",
              " LevenshteinCanopyPredicate: (4, postal),\n",
              " SimplePredicate: (alphaNumericPredicate, addr),\n",
              " SimplePredicate: (alphaNumericPredicate, name),\n",
              " SimplePredicate: (alphaNumericPredicate, postal),\n",
              " SimplePredicate: (commonFourGram, addr),\n",
              " SimplePredicate: (commonFourGram, name),\n",
              " SimplePredicate: (commonFourGram, postal),\n",
              " SimplePredicate: (commonIntegerPredicate, addr),\n",
              " SimplePredicate: (commonIntegerPredicate, name),\n",
              " SimplePredicate: (commonIntegerPredicate, postal),\n",
              " SimplePredicate: (commonSixGram, addr),\n",
              " SimplePredicate: (commonSixGram, name),\n",
              " SimplePredicate: (commonSixGram, postal),\n",
              " SimplePredicate: (commonThreeTokens, addr),\n",
              " SimplePredicate: (commonThreeTokens, name),\n",
              " SimplePredicate: (commonThreeTokens, postal),\n",
              " SimplePredicate: (commonTwoTokens, addr),\n",
              " SimplePredicate: (commonTwoTokens, name),\n",
              " SimplePredicate: (commonTwoTokens, postal),\n",
              " SimplePredicate: (doubleMetaphone, addr),\n",
              " SimplePredicate: (doubleMetaphone, name),\n",
              " SimplePredicate: (doubleMetaphone, postal),\n",
              " SimplePredicate: (fingerprint, addr),\n",
              " SimplePredicate: (fingerprint, name),\n",
              " SimplePredicate: (fingerprint, postal),\n",
              " SimplePredicate: (firstIntegerPredicate, addr),\n",
              " SimplePredicate: (firstIntegerPredicate, name),\n",
              " SimplePredicate: (firstIntegerPredicate, postal),\n",
              " SimplePredicate: (firstTokenPredicate, addr),\n",
              " SimplePredicate: (firstTokenPredicate, name),\n",
              " SimplePredicate: (firstTokenPredicate, postal),\n",
              " SimplePredicate: (hundredIntegerPredicate, addr),\n",
              " SimplePredicate: (hundredIntegerPredicate, name),\n",
              " SimplePredicate: (hundredIntegerPredicate, postal),\n",
              " SimplePredicate: (hundredIntegersOddPredicate, addr),\n",
              " SimplePredicate: (hundredIntegersOddPredicate, name),\n",
              " SimplePredicate: (hundredIntegersOddPredicate, postal),\n",
              " SimplePredicate: (latLongGridPredicate, latlng),\n",
              " SimplePredicate: (metaphoneToken, addr),\n",
              " SimplePredicate: (metaphoneToken, name),\n",
              " SimplePredicate: (metaphoneToken, postal),\n",
              " SimplePredicate: (nearIntegersPredicate, addr),\n",
              " SimplePredicate: (nearIntegersPredicate, name),\n",
              " SimplePredicate: (nearIntegersPredicate, postal),\n",
              " SimplePredicate: (oneGramFingerprint, addr),\n",
              " SimplePredicate: (oneGramFingerprint, name),\n",
              " SimplePredicate: (oneGramFingerprint, postal),\n",
              " SimplePredicate: (sameFiveCharStartPredicate, addr),\n",
              " SimplePredicate: (sameFiveCharStartPredicate, name),\n",
              " SimplePredicate: (sameFiveCharStartPredicate, postal),\n",
              " SimplePredicate: (sameSevenCharStartPredicate, addr),\n",
              " SimplePredicate: (sameSevenCharStartPredicate, name),\n",
              " SimplePredicate: (sameSevenCharStartPredicate, postal),\n",
              " SimplePredicate: (sameThreeCharStartPredicate, addr),\n",
              " SimplePredicate: (sameThreeCharStartPredicate, name),\n",
              " SimplePredicate: (sameThreeCharStartPredicate, postal),\n",
              " SimplePredicate: (sortedAcronym, addr),\n",
              " SimplePredicate: (sortedAcronym, name),\n",
              " SimplePredicate: (sortedAcronym, postal),\n",
              " SimplePredicate: (suffixArray, addr),\n",
              " SimplePredicate: (suffixArray, name),\n",
              " SimplePredicate: (suffixArray, postal),\n",
              " SimplePredicate: (tokenFieldPredicate, addr),\n",
              " SimplePredicate: (tokenFieldPredicate, name),\n",
              " SimplePredicate: (tokenFieldPredicate, postal),\n",
              " SimplePredicate: (twoGramFingerprint, addr),\n",
              " SimplePredicate: (twoGramFingerprint, name),\n",
              " SimplePredicate: (twoGramFingerprint, postal),\n",
              " SimplePredicate: (wholeFieldPredicate, addr),\n",
              " SimplePredicate: (wholeFieldPredicate, name),\n",
              " SimplePredicate: (wholeFieldPredicate, postal),\n",
              " TfidfNGramCanopyPredicate: (0.2, addr),\n",
              " TfidfNGramCanopyPredicate: (0.2, name),\n",
              " TfidfNGramCanopyPredicate: (0.2, postal),\n",
              " TfidfNGramCanopyPredicate: (0.4, addr),\n",
              " TfidfNGramCanopyPredicate: (0.4, name),\n",
              " TfidfNGramCanopyPredicate: (0.4, postal),\n",
              " TfidfNGramCanopyPredicate: (0.6, addr),\n",
              " TfidfNGramCanopyPredicate: (0.6, name),\n",
              " TfidfNGramCanopyPredicate: (0.6, postal),\n",
              " TfidfNGramCanopyPredicate: (0.8, addr),\n",
              " TfidfNGramCanopyPredicate: (0.8, name),\n",
              " TfidfNGramCanopyPredicate: (0.8, postal),\n",
              " TfidfTextCanopyPredicate: (0.2, addr),\n",
              " TfidfTextCanopyPredicate: (0.2, name),\n",
              " TfidfTextCanopyPredicate: (0.2, postal),\n",
              " TfidfTextCanopyPredicate: (0.4, addr),\n",
              " TfidfTextCanopyPredicate: (0.4, name),\n",
              " TfidfTextCanopyPredicate: (0.4, postal),\n",
              " TfidfTextCanopyPredicate: (0.6, addr),\n",
              " TfidfTextCanopyPredicate: (0.6, name),\n",
              " TfidfTextCanopyPredicate: (0.6, postal),\n",
              " TfidfTextCanopyPredicate: (0.8, addr),\n",
              " TfidfTextCanopyPredicate: (0.8, name),\n",
              " TfidfTextCanopyPredicate: (0.8, postal)}"
            ]
          },
          "execution_count": 43,
          "metadata": {},
          "output_type": "execute_result"
        }
      ],
      "source": [
        "deduper.data_model.predicates()"
      ]
    },
    {
      "cell_type": "markdown",
      "metadata": {
        "id": "nmcA3RCXA2OK"
      },
      "source": [
        "To proceed with the deduplication, we compute first get the **blocked pairs**:"
      ]
    },
    {
      "cell_type": "code",
      "execution_count": null,
      "metadata": {
        "scrolled": false,
        "id": "u3aDLnE4A2OK",
        "outputId": "e47b086f-9bee-426e-ccf3-985520e3d57b"
      },
      "outputs": [
        {
          "data": {
            "text/plain": [
              "((0,\n",
              "  {'name': \"arnie morton's of chicago\",\n",
              "   'addr': '435 s. la cienega blv.',\n",
              "   'city': 'los angeles',\n",
              "   'postal': '90048',\n",
              "   'latlng': (34.0707083, -118.3765626),\n",
              "   'cluster': 0}),\n",
              " (1,\n",
              "  {'name': \"arnie morton's of chicago\",\n",
              "   'addr': '435 s. la cienega blvd.',\n",
              "   'city': 'los angeles',\n",
              "   'postal': '90048',\n",
              "   'latlng': (34.0707083, -118.3765626),\n",
              "   'cluster': 0}))"
            ]
          },
          "execution_count": 44,
          "metadata": {},
          "output_type": "execute_result"
        }
      ],
      "source": [
        "blocked_pairs = list(deduper.pairs(data_for_dedupe))\n",
        "blocked_pairs[0]"
      ]
    },
    {
      "cell_type": "markdown",
      "metadata": {
        "id": "7sHscmPxA2OK"
      },
      "source": [
        "Then we **classify** those blocked pairs. Internally, it looks like this:\n",
        "\n",
        "```python\n",
        "distances = self.data_model.distances(blocked_pairs)\n",
        "scores = self.classifier.predict_proba(distances)\n",
        "```\n",
        "\n",
        "Note `scores` here has the classification output, not the similarity scores."
      ]
    },
    {
      "cell_type": "markdown",
      "metadata": {
        "id": "Q6DFG8iiA2OK"
      },
      "source": [
        "To run that, call `deduper.score`.\n",
        "\n",
        "The scoring result is a **float between 0 and 1** that indicates how similar are the records in the pair."
      ]
    },
    {
      "cell_type": "code",
      "execution_count": null,
      "metadata": {
        "id": "fHLY19hbA2OL"
      },
      "outputs": [],
      "source": [
        "scored_pairs = deduper.score(blocked_pairs)"
      ]
    },
    {
      "cell_type": "code",
      "execution_count": null,
      "metadata": {
        "id": "qnNQQ5p-A2OL",
        "outputId": "3be6b02d-6327-42de-a476-158c0171dbdd"
      },
      "outputs": [
        {
          "data": {
            "text/plain": [
              "[([0, 1], 1.),\n",
              " ([0, 2], 0.98),\n",
              " ([1, 2], 0.98),\n",
              " ([3, 4], 0.97),\n",
              " ([3, 5], 0.97),\n",
              " ([4, 5], 1.),\n",
              " ([6, 7], 0.04),\n",
              " ([6, 8], 0.44),\n",
              " ([7, 8], 0.96),\n",
              " ([ 9, 10], 1.)]"
            ]
          },
          "execution_count": 46,
          "metadata": {},
          "output_type": "execute_result"
        }
      ],
      "source": [
        "import more_itertools\n",
        "\n",
        "more_itertools.take(10, scored_pairs)"
      ]
    },
    {
      "cell_type": "markdown",
      "metadata": {
        "id": "XcIAqeXlA2OL"
      },
      "source": [
        "Note there are records with very low similarity in our `scored_pairs` result. Like `([6, 7], 0.04)`.\n",
        "\n",
        "We need to use a `threshold` to filter out low similarity pairs."
      ]
    },
    {
      "cell_type": "code",
      "execution_count": null,
      "metadata": {
        "id": "R-eNa-NjA2OL",
        "outputId": "26aed88c-eeac-468f-b501-4b9fefa51a31"
      },
      "outputs": [
        {
          "data": {
            "text/plain": [
              "[([0, 1], 1.),\n",
              " ([0, 2], 0.98),\n",
              " ([1, 2], 0.98),\n",
              " ([3, 4], 0.97),\n",
              " ([3, 5], 0.97),\n",
              " ([4, 5], 1.),\n",
              " ([7, 8], 0.96),\n",
              " ([ 9, 10], 1.),\n",
              " ([ 9, 11], 1.),\n",
              " ([ 9, 12], 0.95)]"
            ]
          },
          "execution_count": 47,
          "metadata": {},
          "output_type": "execute_result"
        }
      ],
      "source": [
        "threshold = 0.5\n",
        "threshold_pairs = scored_pairs[scored_pairs['score'] > threshold]\n",
        "list(threshold_pairs)[:10]"
      ]
    },
    {
      "cell_type": "markdown",
      "metadata": {
        "id": "QYOovSy3A2OL"
      },
      "source": [
        "Understand the `threshold` allows us to **trade-off between [precision and recall](https://en.wikipedia.org/wiki/Precision_and_recall)**, i.e., if you want to be more or less sensitive on matching records, at the risk of introducing false positives (if more sensitive) or false negatives (if less sensitive)."
      ]
    },
    {
      "cell_type": "markdown",
      "metadata": {
        "id": "kGqvAnCyA2OM"
      },
      "source": [
        "Now we'll **evaluate** how it performed:"
      ]
    },
    {
      "cell_type": "code",
      "execution_count": null,
      "metadata": {
        "id": "_sAkz75sA2OM"
      },
      "outputs": [],
      "source": [
        "threshold_pairs_set = {tuple(sorted(pair)) for pair in threshold_pairs['pairs']}"
      ]
    },
    {
      "cell_type": "code",
      "execution_count": null,
      "metadata": {
        "scrolled": true,
        "id": "HPNph3gYA2OM",
        "outputId": "481f04ad-3b80-4180-fd03-d422b79edd79"
      },
      "outputs": [
        {
          "name": "stdout",
          "output_type": "stream",
          "text": [
            "true_positives total: 139\n",
            "false_positives total: 3\n",
            "false_negatives total: 11\n"
          ]
        }
      ],
      "source": [
        "threshold_true_positives = golden_pairs_set & threshold_pairs_set\n",
        "threshold_false_positives = threshold_pairs_set - golden_pairs_set\n",
        "threshold_false_negatives = golden_pairs_set - threshold_pairs_set\n",
        "\n",
        "print('true_positives total:', len(threshold_true_positives))\n",
        "print('false_positives total:', len(threshold_false_positives))\n",
        "print('false_negatives total:', len(threshold_false_negatives))"
      ]
    },
    {
      "cell_type": "code",
      "execution_count": null,
      "metadata": {
        "id": "qCeYFSPoA2OM"
      },
      "outputs": [],
      "source": [
        "# https://en.wikipedia.org/wiki/Precision_and_recall\n",
        "\n",
        "def precision(found_pairs, true_pairs):\n",
        "    true_positives = true_pairs & found_pairs\n",
        "    return len(true_positives) / len(found_pairs)\n",
        "\n",
        "def recall(found_pairs, true_pairs):\n",
        "    true_positives = true_pairs & found_pairs\n",
        "    return len(true_positives) / len(true_pairs)"
      ]
    },
    {
      "cell_type": "code",
      "execution_count": null,
      "metadata": {
        "id": "8RW0k1N9A2OM",
        "outputId": "d0302c93-6974-408c-a9ba-0cd31dcf76b6"
      },
      "outputs": [
        {
          "name": "stdout",
          "output_type": "stream",
          "text": [
            "threshold precision: 0.9788732394366197\n",
            "threshold recall: 0.9266666666666666\n"
          ]
        }
      ],
      "source": [
        "print('threshold precision:', precision(threshold_pairs_set, golden_pairs_set))\n",
        "print('threshold recall:', recall(threshold_pairs_set, golden_pairs_set))"
      ]
    },
    {
      "cell_type": "code",
      "execution_count": null,
      "metadata": {
        "id": "3lFOFVeNA2ON",
        "outputId": "5d330268-c895-4f51-8654-59621b3ac363"
      },
      "outputs": [
        {
          "data": {
            "text/html": [
              "<div>\n",
              "<style scoped>\n",
              "    .dataframe tbody tr th:only-of-type {\n",
              "        vertical-align: middle;\n",
              "    }\n",
              "\n",
              "    .dataframe tbody tr th {\n",
              "        vertical-align: top;\n",
              "    }\n",
              "\n",
              "    .dataframe thead th {\n",
              "        text-align: right;\n",
              "    }\n",
              "</style>\n",
              "<table border=\"1\" class=\"dataframe\">\n",
              "  <thead>\n",
              "    <tr style=\"text-align: right;\">\n",
              "      <th></th>\n",
              "      <th>name</th>\n",
              "      <th>addr</th>\n",
              "      <th>city</th>\n",
              "      <th>postal</th>\n",
              "      <th>latlng</th>\n",
              "    </tr>\n",
              "  </thead>\n",
              "  <tbody>\n",
              "    <tr>\n",
              "      <th>170</th>\n",
              "      <td>brasserie le coze</td>\n",
              "      <td>3393 peachtree rd.  lenox square mall  near ne...</td>\n",
              "      <td>atlanta</td>\n",
              "      <td>30326</td>\n",
              "      <td>(33.8462019, -84.3638016)</td>\n",
              "    </tr>\n",
              "    <tr>\n",
              "      <th>171</th>\n",
              "      <td>brasserie le coze</td>\n",
              "      <td>3393 peachtree rd.</td>\n",
              "      <td>atlanta</td>\n",
              "      <td>30326</td>\n",
              "      <td>(33.846335, -84.3635778)</td>\n",
              "    </tr>\n",
              "  </tbody>\n",
              "</table>\n",
              "</div>"
            ],
            "text/plain": [
              "                  name                                               addr  \\\n",
              "170  brasserie le coze  3393 peachtree rd.  lenox square mall  near ne...   \n",
              "171  brasserie le coze                                 3393 peachtree rd.   \n",
              "\n",
              "        city postal                     latlng  \n",
              "170  atlanta  30326  (33.8462019, -84.3638016)  \n",
              "171  atlanta  30326   (33.846335, -84.3635778)  "
            ]
          },
          "metadata": {},
          "output_type": "display_data"
        },
        {
          "data": {
            "text/html": [
              "<div>\n",
              "<style scoped>\n",
              "    .dataframe tbody tr th:only-of-type {\n",
              "        vertical-align: middle;\n",
              "    }\n",
              "\n",
              "    .dataframe tbody tr th {\n",
              "        vertical-align: top;\n",
              "    }\n",
              "\n",
              "    .dataframe thead th {\n",
              "        text-align: right;\n",
              "    }\n",
              "</style>\n",
              "<table border=\"1\" class=\"dataframe\">\n",
              "  <thead>\n",
              "    <tr style=\"text-align: right;\">\n",
              "      <th></th>\n",
              "      <th>name</th>\n",
              "      <th>addr</th>\n",
              "      <th>city</th>\n",
              "      <th>postal</th>\n",
              "      <th>latlng</th>\n",
              "    </tr>\n",
              "  </thead>\n",
              "  <tbody>\n",
              "    <tr>\n",
              "      <th>156</th>\n",
              "      <td>palace court</td>\n",
              "      <td>3570 las vegas blvd. s</td>\n",
              "      <td>las vegas</td>\n",
              "      <td>89109</td>\n",
              "      <td>(36.1161559, -115.1750576)</td>\n",
              "    </tr>\n",
              "    <tr>\n",
              "      <th>157</th>\n",
              "      <td>palace court</td>\n",
              "      <td>3570 las vegas blvd. s.</td>\n",
              "      <td>las vegas</td>\n",
              "      <td>89109</td>\n",
              "      <td>(36.1161559, -115.1750576)</td>\n",
              "    </tr>\n",
              "  </tbody>\n",
              "</table>\n",
              "</div>"
            ],
            "text/plain": [
              "             name                     addr       city postal  \\\n",
              "156  palace court   3570 las vegas blvd. s  las vegas  89109   \n",
              "157  palace court  3570 las vegas blvd. s.  las vegas  89109   \n",
              "\n",
              "                         latlng  \n",
              "156  (36.1161559, -115.1750576)  \n",
              "157  (36.1161559, -115.1750576)  "
            ]
          },
          "metadata": {},
          "output_type": "display_data"
        },
        {
          "data": {
            "text/html": [
              "<div>\n",
              "<style scoped>\n",
              "    .dataframe tbody tr th:only-of-type {\n",
              "        vertical-align: middle;\n",
              "    }\n",
              "\n",
              "    .dataframe tbody tr th {\n",
              "        vertical-align: top;\n",
              "    }\n",
              "\n",
              "    .dataframe thead th {\n",
              "        text-align: right;\n",
              "    }\n",
              "</style>\n",
              "<table border=\"1\" class=\"dataframe\">\n",
              "  <thead>\n",
              "    <tr style=\"text-align: right;\">\n",
              "      <th></th>\n",
              "      <th>name</th>\n",
              "      <th>addr</th>\n",
              "      <th>city</th>\n",
              "      <th>postal</th>\n",
              "      <th>latlng</th>\n",
              "    </tr>\n",
              "  </thead>\n",
              "  <tbody>\n",
              "    <tr>\n",
              "      <th>164</th>\n",
              "      <td>abruzzi</td>\n",
              "      <td>2355 peachtree rd.  peachtree battle shopping ...</td>\n",
              "      <td>atlanta</td>\n",
              "      <td>30305</td>\n",
              "      <td>(33.819818, -84.38664299999999)</td>\n",
              "    </tr>\n",
              "    <tr>\n",
              "      <th>165</th>\n",
              "      <td>abruzzi</td>\n",
              "      <td>2355 peachtree rd. ne</td>\n",
              "      <td>atlanta</td>\n",
              "      <td>30305</td>\n",
              "      <td>(33.8191662, -84.3875183)</td>\n",
              "    </tr>\n",
              "  </tbody>\n",
              "</table>\n",
              "</div>"
            ],
            "text/plain": [
              "        name                                               addr     city  \\\n",
              "164  abruzzi  2355 peachtree rd.  peachtree battle shopping ...  atlanta   \n",
              "165  abruzzi                              2355 peachtree rd. ne  atlanta   \n",
              "\n",
              "    postal                           latlng  \n",
              "164  30305  (33.819818, -84.38664299999999)  \n",
              "165  30305        (33.8191662, -84.3875183)  "
            ]
          },
          "metadata": {},
          "output_type": "display_data"
        },
        {
          "data": {
            "text/html": [
              "<div>\n",
              "<style scoped>\n",
              "    .dataframe tbody tr th:only-of-type {\n",
              "        vertical-align: middle;\n",
              "    }\n",
              "\n",
              "    .dataframe tbody tr th {\n",
              "        vertical-align: top;\n",
              "    }\n",
              "\n",
              "    .dataframe thead th {\n",
              "        text-align: right;\n",
              "    }\n",
              "</style>\n",
              "<table border=\"1\" class=\"dataframe\">\n",
              "  <thead>\n",
              "    <tr style=\"text-align: right;\">\n",
              "      <th></th>\n",
              "      <th>name</th>\n",
              "      <th>addr</th>\n",
              "      <th>city</th>\n",
              "      <th>postal</th>\n",
              "      <th>latlng</th>\n",
              "    </tr>\n",
              "  </thead>\n",
              "  <tbody>\n",
              "    <tr>\n",
              "      <th>168</th>\n",
              "      <td>bone's</td>\n",
              "      <td>3130 piedmont road</td>\n",
              "      <td>atlanta</td>\n",
              "      <td>30305</td>\n",
              "      <td>(33.8421033, -84.3711029)</td>\n",
              "    </tr>\n",
              "    <tr>\n",
              "      <th>169</th>\n",
              "      <td>bone's restaurant</td>\n",
              "      <td>3130 piedmont rd. ne</td>\n",
              "      <td>atlanta</td>\n",
              "      <td>30305</td>\n",
              "      <td>(33.8421033, -84.3711029)</td>\n",
              "    </tr>\n",
              "  </tbody>\n",
              "</table>\n",
              "</div>"
            ],
            "text/plain": [
              "                  name                  addr     city postal  \\\n",
              "168             bone's    3130 piedmont road  atlanta  30305   \n",
              "169  bone's restaurant  3130 piedmont rd. ne  atlanta  30305   \n",
              "\n",
              "                        latlng  \n",
              "168  (33.8421033, -84.3711029)  \n",
              "169  (33.8421033, -84.3711029)  "
            ]
          },
          "metadata": {},
          "output_type": "display_data"
        },
        {
          "data": {
            "text/html": [
              "<div>\n",
              "<style scoped>\n",
              "    .dataframe tbody tr th:only-of-type {\n",
              "        vertical-align: middle;\n",
              "    }\n",
              "\n",
              "    .dataframe tbody tr th {\n",
              "        vertical-align: top;\n",
              "    }\n",
              "\n",
              "    .dataframe thead th {\n",
              "        text-align: right;\n",
              "    }\n",
              "</style>\n",
              "<table border=\"1\" class=\"dataframe\">\n",
              "  <thead>\n",
              "    <tr style=\"text-align: right;\">\n",
              "      <th></th>\n",
              "      <th>name</th>\n",
              "      <th>addr</th>\n",
              "      <th>city</th>\n",
              "      <th>postal</th>\n",
              "      <th>latlng</th>\n",
              "    </tr>\n",
              "  </thead>\n",
              "  <tbody>\n",
              "    <tr>\n",
              "      <th>18</th>\n",
              "      <td>citrus</td>\n",
              "      <td>6703 melrose ave.</td>\n",
              "      <td>los angeles</td>\n",
              "      <td>90038</td>\n",
              "      <td>(34.0837081, -118.3399396)</td>\n",
              "    </tr>\n",
              "    <tr>\n",
              "      <th>19</th>\n",
              "      <td>citrus</td>\n",
              "      <td>6703 melrose avenue</td>\n",
              "      <td>los angeles</td>\n",
              "      <td>90038</td>\n",
              "      <td>(34.0837081, -118.3399396)</td>\n",
              "    </tr>\n",
              "  </tbody>\n",
              "</table>\n",
              "</div>"
            ],
            "text/plain": [
              "      name                 addr         city postal  \\\n",
              "18  citrus    6703 melrose ave.  los angeles  90038   \n",
              "19  citrus  6703 melrose avenue  los angeles  90038   \n",
              "\n",
              "                        latlng  \n",
              "18  (34.0837081, -118.3399396)  \n",
              "19  (34.0837081, -118.3399396)  "
            ]
          },
          "metadata": {},
          "output_type": "display_data"
        },
        {
          "data": {
            "text/html": [
              "<div>\n",
              "<style scoped>\n",
              "    .dataframe tbody tr th:only-of-type {\n",
              "        vertical-align: middle;\n",
              "    }\n",
              "\n",
              "    .dataframe tbody tr th {\n",
              "        vertical-align: top;\n",
              "    }\n",
              "\n",
              "    .dataframe thead th {\n",
              "        text-align: right;\n",
              "    }\n",
              "</style>\n",
              "<table border=\"1\" class=\"dataframe\">\n",
              "  <thead>\n",
              "    <tr style=\"text-align: right;\">\n",
              "      <th></th>\n",
              "      <th>name</th>\n",
              "      <th>addr</th>\n",
              "      <th>city</th>\n",
              "      <th>postal</th>\n",
              "      <th>latlng</th>\n",
              "    </tr>\n",
              "  </thead>\n",
              "  <tbody>\n",
              "    <tr>\n",
              "      <th>34</th>\n",
              "      <td>locanda veneta</td>\n",
              "      <td>3rd st.</td>\n",
              "      <td>los angeles</td>\n",
              "      <td>None</td>\n",
              "      <td>(34.0090307, -118.4881742)</td>\n",
              "    </tr>\n",
              "    <tr>\n",
              "      <th>35</th>\n",
              "      <td>locanda veneta</td>\n",
              "      <td>8638 w. third st.</td>\n",
              "      <td>los angeles</td>\n",
              "      <td>90048</td>\n",
              "      <td>(34.0734209, -118.3810981)</td>\n",
              "    </tr>\n",
              "  </tbody>\n",
              "</table>\n",
              "</div>"
            ],
            "text/plain": [
              "              name               addr         city postal  \\\n",
              "34  locanda veneta            3rd st.  los angeles   None   \n",
              "35  locanda veneta  8638 w. third st.  los angeles  90048   \n",
              "\n",
              "                        latlng  \n",
              "34  (34.0090307, -118.4881742)  \n",
              "35  (34.0734209, -118.3810981)  "
            ]
          },
          "metadata": {},
          "output_type": "display_data"
        },
        {
          "data": {
            "text/html": [
              "<div>\n",
              "<style scoped>\n",
              "    .dataframe tbody tr th:only-of-type {\n",
              "        vertical-align: middle;\n",
              "    }\n",
              "\n",
              "    .dataframe tbody tr th {\n",
              "        vertical-align: top;\n",
              "    }\n",
              "\n",
              "    .dataframe thead th {\n",
              "        text-align: right;\n",
              "    }\n",
              "</style>\n",
              "<table border=\"1\" class=\"dataframe\">\n",
              "  <thead>\n",
              "    <tr style=\"text-align: right;\">\n",
              "      <th></th>\n",
              "      <th>name</th>\n",
              "      <th>addr</th>\n",
              "      <th>city</th>\n",
              "      <th>postal</th>\n",
              "      <th>latlng</th>\n",
              "    </tr>\n",
              "  </thead>\n",
              "  <tbody>\n",
              "    <tr>\n",
              "      <th>83</th>\n",
              "      <td>gotham bar &amp; grill</td>\n",
              "      <td>12 e. 12th st.</td>\n",
              "      <td>new york</td>\n",
              "      <td>10003</td>\n",
              "      <td>(40.734207, -73.99369899999999)</td>\n",
              "    </tr>\n",
              "    <tr>\n",
              "      <th>86</th>\n",
              "      <td>gotham</td>\n",
              "      <td>12 e 12th st</td>\n",
              "      <td>new york</td>\n",
              "      <td>10003</td>\n",
              "      <td>(40.734207, -73.99369899999999)</td>\n",
              "    </tr>\n",
              "  </tbody>\n",
              "</table>\n",
              "</div>"
            ],
            "text/plain": [
              "                  name            addr      city postal  \\\n",
              "83  gotham bar & grill  12 e. 12th st.  new york  10003   \n",
              "86              gotham    12 e 12th st  new york  10003   \n",
              "\n",
              "                             latlng  \n",
              "83  (40.734207, -73.99369899999999)  \n",
              "86  (40.734207, -73.99369899999999)  "
            ]
          },
          "metadata": {},
          "output_type": "display_data"
        },
        {
          "data": {
            "text/html": [
              "<div>\n",
              "<style scoped>\n",
              "    .dataframe tbody tr th:only-of-type {\n",
              "        vertical-align: middle;\n",
              "    }\n",
              "\n",
              "    .dataframe tbody tr th {\n",
              "        vertical-align: top;\n",
              "    }\n",
              "\n",
              "    .dataframe thead th {\n",
              "        text-align: right;\n",
              "    }\n",
              "</style>\n",
              "<table border=\"1\" class=\"dataframe\">\n",
              "  <thead>\n",
              "    <tr style=\"text-align: right;\">\n",
              "      <th></th>\n",
              "      <th>name</th>\n",
              "      <th>addr</th>\n",
              "      <th>city</th>\n",
              "      <th>postal</th>\n",
              "      <th>latlng</th>\n",
              "    </tr>\n",
              "  </thead>\n",
              "  <tbody>\n",
              "    <tr>\n",
              "      <th>110</th>\n",
              "      <td>mesa grill</td>\n",
              "      <td>102 5th ave.  between 15th and 16th sts.</td>\n",
              "      <td>new york</td>\n",
              "      <td>10001</td>\n",
              "      <td>(40.7484405, -73.98566439999999)</td>\n",
              "    </tr>\n",
              "    <tr>\n",
              "      <th>111</th>\n",
              "      <td>mesa grill</td>\n",
              "      <td>102 fifth ave.</td>\n",
              "      <td>new york city</td>\n",
              "      <td>10011</td>\n",
              "      <td>(40.7370445, -73.9931189)</td>\n",
              "    </tr>\n",
              "  </tbody>\n",
              "</table>\n",
              "</div>"
            ],
            "text/plain": [
              "           name                                      addr           city  \\\n",
              "110  mesa grill  102 5th ave.  between 15th and 16th sts.       new york   \n",
              "111  mesa grill                            102 fifth ave.  new york city   \n",
              "\n",
              "    postal                            latlng  \n",
              "110  10001  (40.7484405, -73.98566439999999)  \n",
              "111  10011         (40.7370445, -73.9931189)  "
            ]
          },
          "metadata": {},
          "output_type": "display_data"
        },
        {
          "data": {
            "text/html": [
              "<div>\n",
              "<style scoped>\n",
              "    .dataframe tbody tr th:only-of-type {\n",
              "        vertical-align: middle;\n",
              "    }\n",
              "\n",
              "    .dataframe tbody tr th {\n",
              "        vertical-align: top;\n",
              "    }\n",
              "\n",
              "    .dataframe thead th {\n",
              "        text-align: right;\n",
              "    }\n",
              "</style>\n",
              "<table border=\"1\" class=\"dataframe\">\n",
              "  <thead>\n",
              "    <tr style=\"text-align: right;\">\n",
              "      <th></th>\n",
              "      <th>name</th>\n",
              "      <th>addr</th>\n",
              "      <th>city</th>\n",
              "      <th>postal</th>\n",
              "      <th>latlng</th>\n",
              "    </tr>\n",
              "  </thead>\n",
              "  <tbody>\n",
              "    <tr>\n",
              "      <th>146</th>\n",
              "      <td>union square cafe</td>\n",
              "      <td>21 e. 16th st.</td>\n",
              "      <td>new york</td>\n",
              "      <td>10003</td>\n",
              "      <td>(40.7368653, -73.99126199999999)</td>\n",
              "    </tr>\n",
              "    <tr>\n",
              "      <th>147</th>\n",
              "      <td>union square cafe</td>\n",
              "      <td>21 e. 16th st.</td>\n",
              "      <td>new york city</td>\n",
              "      <td>10003</td>\n",
              "      <td>(40.7368653, -73.99126199999999)</td>\n",
              "    </tr>\n",
              "  </tbody>\n",
              "</table>\n",
              "</div>"
            ],
            "text/plain": [
              "                  name            addr           city postal  \\\n",
              "146  union square cafe  21 e. 16th st.       new york  10003   \n",
              "147  union square cafe  21 e. 16th st.  new york city  10003   \n",
              "\n",
              "                               latlng  \n",
              "146  (40.7368653, -73.99126199999999)  \n",
              "147  (40.7368653, -73.99126199999999)  "
            ]
          },
          "metadata": {},
          "output_type": "display_data"
        },
        {
          "data": {
            "text/html": [
              "<div>\n",
              "<style scoped>\n",
              "    .dataframe tbody tr th:only-of-type {\n",
              "        vertical-align: middle;\n",
              "    }\n",
              "\n",
              "    .dataframe tbody tr th {\n",
              "        vertical-align: top;\n",
              "    }\n",
              "\n",
              "    .dataframe thead th {\n",
              "        text-align: right;\n",
              "    }\n",
              "</style>\n",
              "<table border=\"1\" class=\"dataframe\">\n",
              "  <thead>\n",
              "    <tr style=\"text-align: right;\">\n",
              "      <th></th>\n",
              "      <th>name</th>\n",
              "      <th>addr</th>\n",
              "      <th>city</th>\n",
              "      <th>postal</th>\n",
              "      <th>latlng</th>\n",
              "    </tr>\n",
              "  </thead>\n",
              "  <tbody>\n",
              "    <tr>\n",
              "      <th>162</th>\n",
              "      <td>tillerman</td>\n",
              "      <td>2245 e. flamingo rd.</td>\n",
              "      <td>las vegas</td>\n",
              "      <td>89119</td>\n",
              "      <td>(36.114384, -115.1218936)</td>\n",
              "    </tr>\n",
              "    <tr>\n",
              "      <th>163</th>\n",
              "      <td>tillerman  the</td>\n",
              "      <td>2245 e. flamingo rd.</td>\n",
              "      <td>las vegas</td>\n",
              "      <td>89119</td>\n",
              "      <td>(36.114384, -115.1218936)</td>\n",
              "    </tr>\n",
              "  </tbody>\n",
              "</table>\n",
              "</div>"
            ],
            "text/plain": [
              "               name                  addr       city postal  \\\n",
              "162       tillerman  2245 e. flamingo rd.  las vegas  89119   \n",
              "163  tillerman  the  2245 e. flamingo rd.  las vegas  89119   \n",
              "\n",
              "                        latlng  \n",
              "162  (36.114384, -115.1218936)  \n",
              "163  (36.114384, -115.1218936)  "
            ]
          },
          "metadata": {},
          "output_type": "display_data"
        }
      ],
      "source": [
        "for pair in more_itertools.take(10, threshold_true_positives):\n",
        "    display(df.loc[list(pair)])"
      ]
    },
    {
      "cell_type": "markdown",
      "metadata": {
        "id": "fgNgYJqsA2ON"
      },
      "source": [
        "Most tutorials out there would call the problem solved at this point. But there's **something missing**:"
      ]
    },
    {
      "cell_type": "markdown",
      "metadata": {
        "id": "P-h0pi4MA2ON"
      },
      "source": [
        "## Clustering"
      ]
    },
    {
      "cell_type": "markdown",
      "metadata": {
        "id": "2NgOwON8A2ON"
      },
      "source": [
        "The following usually happens after classifying pairs:\n",
        "- We have the records `A`, `B`, and `C`\n",
        "- By deduplicating, we find:\n",
        "- `(A, B)` match\n",
        "- `(B, C)` match\n",
        "- `(A, C)` non match\n",
        "- And that doesn't make sense!\n",
        "\n",
        "The solution for that ambiguity is computing the **Transitive Closure** through clustering."
      ]
    },
    {
      "cell_type": "markdown",
      "metadata": {
        "id": "KF5SLyNIA2ON"
      },
      "source": [
        "Dedupe can **cluster** our records if we call `partition` instead of `pairs` + `score`:"
      ]
    },
    {
      "cell_type": "code",
      "execution_count": null,
      "metadata": {
        "id": "CbrG_HHtA2ON",
        "outputId": "b2852d07-5bc9-4545-f2df-912c66af0998"
      },
      "outputs": [
        {
          "data": {
            "text/plain": [
              "[((0, 1, 2), array([0.98585788, 0.98585788, 0.98000002])),\n",
              " ((3, 4, 5), array([0.97000003, 0.97878682, 0.97878682])),\n",
              " ((7, 8), array([0.95999998, 0.95999998])),\n",
              " ((9, 10, 11, 12), array([0.97113248, 0.97113248, 0.97113248, 0.94999999])),\n",
              " ((13, 14), (1.0, 1.0)),\n",
              " ((15, 16), (1.0, 1.0)),\n",
              " ((17, 18, 19), array([0.99292894, 0.99292894, 0.99000001])),\n",
              " ((20, 21, 22, 23), array([0.85212618, 0.85212618, 0.85212618, 0.85212618])),\n",
              " ((24, 25), (1.0, 1.0)),\n",
              " ((26, 27), (0.82, 0.82))]"
            ]
          },
          "execution_count": 53,
          "metadata": {},
          "output_type": "execute_result"
        }
      ],
      "source": [
        "clusters = deduper.partition(data_for_dedupe, threshold)\n",
        "clusters[:10]"
      ]
    },
    {
      "cell_type": "code",
      "execution_count": null,
      "metadata": {
        "id": "IAXtpTCpA2OO",
        "outputId": "88b0d954-5def-4d21-aac2-f7ebfaee4a87"
      },
      "outputs": [
        {
          "data": {
            "text/plain": [
              "[(170, 171), (156, 157), (164, 165), (168, 169), (18, 19)]"
            ]
          },
          "execution_count": 54,
          "metadata": {},
          "output_type": "execute_result"
        }
      ],
      "source": [
        "cluster_pairs_set = {\n",
        "    tuple(sorted(pair))\n",
        "    for cluster, __ in clusters\n",
        "    for pair in itertools.combinations(cluster, 2)\n",
        "}\n",
        "more_itertools.take(5, cluster_pairs_set)"
      ]
    },
    {
      "cell_type": "markdown",
      "metadata": {
        "id": "ceCGqWrjA2OO"
      },
      "source": [
        "Let's **evaluate** those unclustered pairs against the clustered pairs:"
      ]
    },
    {
      "cell_type": "code",
      "execution_count": null,
      "metadata": {
        "id": "WtecOKEYA2OO",
        "outputId": "38a14259-4c0d-4acd-88f4-e091d288fcf8"
      },
      "outputs": [
        {
          "name": "stdout",
          "output_type": "stream",
          "text": [
            "threshold_true_positives total: 139\n",
            "threshold_false_positives total: 3\n",
            "threshold_false_negatives total: 11\n",
            "\n",
            "cluster_true_positives total: 140\n",
            "cluster_false_positives total: 2\n",
            "cluster_false_negatives total: 10\n"
          ]
        }
      ],
      "source": [
        "cluster_true_positives = golden_pairs_set & cluster_pairs_set\n",
        "cluster_false_positives = cluster_pairs_set - golden_pairs_set\n",
        "cluster_false_negatives = golden_pairs_set - cluster_pairs_set\n",
        "\n",
        "print('threshold_true_positives total:', len(threshold_true_positives))\n",
        "print('threshold_false_positives total:', len(threshold_false_positives))\n",
        "print('threshold_false_negatives total:', len(threshold_false_negatives))\n",
        "print()\n",
        "print('cluster_true_positives total:', len(cluster_true_positives))\n",
        "print('cluster_false_positives total:', len(cluster_false_positives))\n",
        "print('cluster_false_negatives total:', len(cluster_false_negatives))"
      ]
    },
    {
      "cell_type": "code",
      "execution_count": null,
      "metadata": {
        "id": "wvfE4pO_A2OO",
        "outputId": "9e96e478-a997-45ee-f503-4057b10d4661"
      },
      "outputs": [
        {
          "name": "stdout",
          "output_type": "stream",
          "text": [
            "threshold precision: 0.9788732394366197\n",
            "threshold recall: 0.9266666666666666\n",
            "\n",
            "cluster precision: 0.9859154929577465\n",
            "cluster recall: 0.9333333333333333\n"
          ]
        }
      ],
      "source": [
        "print('threshold precision:', precision(threshold_pairs_set, golden_pairs_set))\n",
        "print('threshold recall:', recall(threshold_pairs_set, golden_pairs_set))\n",
        "print()\n",
        "print('cluster precision:', precision(cluster_pairs_set, golden_pairs_set))\n",
        "print('cluster recall:', recall(cluster_pairs_set, golden_pairs_set))"
      ]
    },
    {
      "cell_type": "markdown",
      "metadata": {
        "id": "yCoI5M-GA2OO"
      },
      "source": [
        "That's interesting: Unclustered Pairs `!=` Clustered Pairs.\n",
        "\n",
        "Though necessary to solve the Transitive Closure, note the clustering process can both **create new matches** and **drop found matches**."
      ]
    },
    {
      "cell_type": "code",
      "execution_count": null,
      "metadata": {
        "id": "f3UON45KA2OP",
        "outputId": "4b878e11-5c24-4341-fb99-9771bdb3a3e6"
      },
      "outputs": [
        {
          "data": {
            "text/plain": [
              "{(34, 37), (571, 800)}"
            ]
          },
          "metadata": {},
          "output_type": "display_data"
        }
      ],
      "source": [
        "diff_set = cluster_pairs_set ^ threshold_pairs_set\n",
        "display(diff_set)"
      ]
    },
    {
      "cell_type": "code",
      "execution_count": null,
      "metadata": {
        "scrolled": true,
        "id": "VRP2_sWIA2OP",
        "outputId": "39057d27-9af7-434f-f851-6095f2fd76e0"
      },
      "outputs": [
        {
          "data": {
            "text/html": [
              "<div>\n",
              "<style scoped>\n",
              "    .dataframe tbody tr th:only-of-type {\n",
              "        vertical-align: middle;\n",
              "    }\n",
              "\n",
              "    .dataframe tbody tr th {\n",
              "        vertical-align: top;\n",
              "    }\n",
              "\n",
              "    .dataframe thead th {\n",
              "        text-align: right;\n",
              "    }\n",
              "</style>\n",
              "<table border=\"1\" class=\"dataframe\">\n",
              "  <thead>\n",
              "    <tr style=\"text-align: right;\">\n",
              "      <th></th>\n",
              "      <th>name</th>\n",
              "      <th>addr</th>\n",
              "      <th>city</th>\n",
              "      <th>postal</th>\n",
              "      <th>latlng</th>\n",
              "    </tr>\n",
              "  </thead>\n",
              "  <tbody>\n",
              "    <tr>\n",
              "      <th>34</th>\n",
              "      <td>locanda veneta</td>\n",
              "      <td>3rd st.</td>\n",
              "      <td>los angeles</td>\n",
              "      <td>None</td>\n",
              "      <td>(34.0090307, -118.4881742)</td>\n",
              "    </tr>\n",
              "    <tr>\n",
              "      <th>35</th>\n",
              "      <td>locanda veneta</td>\n",
              "      <td>8638 w. third st.</td>\n",
              "      <td>los angeles</td>\n",
              "      <td>90048</td>\n",
              "      <td>(34.0734209, -118.3810981)</td>\n",
              "    </tr>\n",
              "    <tr>\n",
              "      <th>36</th>\n",
              "      <td>locanda veneta</td>\n",
              "      <td>8638 w 3rd</td>\n",
              "      <td>st los angeles</td>\n",
              "      <td>90048</td>\n",
              "      <td>(34.0734209, -118.3810981)</td>\n",
              "    </tr>\n",
              "    <tr>\n",
              "      <th>37</th>\n",
              "      <td>locanda</td>\n",
              "      <td>w. third st.</td>\n",
              "      <td>st los angeles</td>\n",
              "      <td>None</td>\n",
              "      <td>(34.0689472, -118.3225988)</td>\n",
              "    </tr>\n",
              "  </tbody>\n",
              "</table>\n",
              "</div>"
            ],
            "text/plain": [
              "              name               addr            city postal  \\\n",
              "34  locanda veneta            3rd st.     los angeles   None   \n",
              "35  locanda veneta  8638 w. third st.     los angeles  90048   \n",
              "36  locanda veneta         8638 w 3rd  st los angeles  90048   \n",
              "37         locanda       w. third st.  st los angeles   None   \n",
              "\n",
              "                        latlng  \n",
              "34  (34.0090307, -118.4881742)  \n",
              "35  (34.0734209, -118.3810981)  \n",
              "36  (34.0734209, -118.3810981)  \n",
              "37  (34.0689472, -118.3225988)  "
            ]
          },
          "metadata": {},
          "output_type": "display_data"
        },
        {
          "data": {
            "image/png": "[encoded data removed]",
            "text/plain": [
              "<Figure size 720x432 with 1 Axes>"
            ]
          },
          "metadata": {},
          "output_type": "display_data"
        },
        {
          "data": {
            "image/png": "[encoded data removed]",
            "text/plain": [
              "<Figure size 720x432 with 1 Axes>"
            ]
          },
          "metadata": {},
          "output_type": "display_data"
        },
        {
          "data": {
            "image/png": "[encoded data removed]",
            "text/plain": [
              "<Figure size 720x432 with 1 Axes>"
            ]
          },
          "metadata": {},
          "output_type": "display_data"
        }
      ],
      "source": [
        "from graph_utils import show_cluster_graphs\n",
        "\n",
        "score_dict = {tuple(sorted(pair)): score for pair, score in threshold_pairs}\n",
        "diff_ids = {34, 35, 36, 37}\n",
        "show_cluster_graphs(\n",
        "    df,\n",
        "    golden_pairs_set, cluster_pairs_set, threshold_pairs_set,\n",
        "    score_dict,\n",
        "    diff_ids)"
      ]
    },
    {
      "cell_type": "code",
      "execution_count": null,
      "metadata": {
        "id": "L9Gc7RYSA2OP",
        "outputId": "ca6436f5-c62d-4bc5-f711-cb2536b8f18e"
      },
      "outputs": [
        {
          "data": {
            "text/html": [
              "<div>\n",
              "<style scoped>\n",
              "    .dataframe tbody tr th:only-of-type {\n",
              "        vertical-align: middle;\n",
              "    }\n",
              "\n",
              "    .dataframe tbody tr th {\n",
              "        vertical-align: top;\n",
              "    }\n",
              "\n",
              "    .dataframe thead th {\n",
              "        text-align: right;\n",
              "    }\n",
              "</style>\n",
              "<table border=\"1\" class=\"dataframe\">\n",
              "  <thead>\n",
              "    <tr style=\"text-align: right;\">\n",
              "      <th></th>\n",
              "      <th>name</th>\n",
              "      <th>addr</th>\n",
              "      <th>city</th>\n",
              "      <th>postal</th>\n",
              "      <th>latlng</th>\n",
              "    </tr>\n",
              "  </thead>\n",
              "  <tbody>\n",
              "    <tr>\n",
              "      <th>800</th>\n",
              "      <td>stefano's</td>\n",
              "      <td>129 fremont st.</td>\n",
              "      <td>las vegas</td>\n",
              "      <td>89101</td>\n",
              "      <td>(36.1701653, -115.1449582)</td>\n",
              "    </tr>\n",
              "    <tr>\n",
              "      <th>569</th>\n",
              "      <td>golden nugget hotel</td>\n",
              "      <td>129 e. fremont st.</td>\n",
              "      <td>las vegas</td>\n",
              "      <td>89101</td>\n",
              "      <td>(36.1701653, -115.1449582)</td>\n",
              "    </tr>\n",
              "    <tr>\n",
              "      <th>571</th>\n",
              "      <td>lillie langtry's</td>\n",
              "      <td>129 e. fremont st.</td>\n",
              "      <td>las vegas</td>\n",
              "      <td>89101</td>\n",
              "      <td>(36.1701653, -115.1449582)</td>\n",
              "    </tr>\n",
              "  </tbody>\n",
              "</table>\n",
              "</div>"
            ],
            "text/plain": [
              "                    name                addr       city postal  \\\n",
              "800            stefano's     129 fremont st.  las vegas  89101   \n",
              "569  golden nugget hotel  129 e. fremont st.  las vegas  89101   \n",
              "571     lillie langtry's  129 e. fremont st.  las vegas  89101   \n",
              "\n",
              "                         latlng  \n",
              "800  (36.1701653, -115.1449582)  \n",
              "569  (36.1701653, -115.1449582)  \n",
              "571  (36.1701653, -115.1449582)  "
            ]
          },
          "metadata": {},
          "output_type": "display_data"
        },
        {
          "data": {
            "image/png": "[encoded data removed]",
            "text/plain": [
              "<Figure size 720x432 with 1 Axes>"
            ]
          },
          "metadata": {},
          "output_type": "display_data"
        },
        {
          "data": {
            "image/png": "[encoded data removed]",
            "text/plain": [
              "<Figure size 720x432 with 1 Axes>"
            ]
          },
          "metadata": {},
          "output_type": "display_data"
        },
        {
          "data": {
            "image/png": "[encoded data removed]",
            "text/plain": [
              "<Figure size 720x432 with 1 Axes>"
            ]
          },
          "metadata": {},
          "output_type": "display_data"
        }
      ],
      "source": [
        "diff_ids = {569, 571, 800}\n",
        "show_cluster_graphs(\n",
        "    df,\n",
        "    golden_pairs_set, cluster_pairs_set, threshold_pairs_set,\n",
        "    score_dict,\n",
        "    diff_ids)"
      ]
    },
    {
      "cell_type": "markdown",
      "metadata": {
        "id": "IRwnQUubA2OP"
      },
      "source": [
        "## Next Steps"
      ]
    },
    {
      "cell_type": "markdown",
      "metadata": {
        "id": "WM88qwmSA2OP"
      },
      "source": [
        "Make sure to learn about other pre-processing methods, indexing techniques, similarity functions, classifiers, etc. Check the talk **The Art and Science of Data Matching** [1] and read the book **Data Matching** [2]."
      ]
    },
    {
      "cell_type": "markdown",
      "metadata": {
        "id": "hCr2JaWBA2OQ"
      },
      "source": [
        "Stay tuned on **[Vinta's blog](https://www.vinta.com.br/blog/)**, I'll be posting additional content on Deduplication there."
      ]
    },
    {
      "cell_type": "markdown",
      "metadata": {
        "id": "tne8Dq_WA2OQ"
      },
      "source": [
        "Once we have the clusters, how to consolidate data from many records into one? Check for material on **Data Fusion**:\n",
        "  - [Open issue at Python Record Linkage Toolkit](https://github.com/J535D165/recordlinkage/issues/27)\n",
        "  - Christen, 6.12 Merging Matches [2]"
      ]
    },
    {
      "cell_type": "markdown",
      "metadata": {
        "id": "6xRaNuiGA2OQ"
      },
      "source": [
        "What if new records arrive? Should we merge, unmerge, move records from clusters? Check for material on **Incremental Record Linkage**:\n",
        "  - Dedupe approach is to either add to an existing cluster or create a new cluster. You can use a [Gazetteer](https://docs.dedupe.io/en/latest/API-documentation.html#gazetteer-objects) with previously deduped data, then merge new matches into it, and index new nonmatches.\n",
        "  - Other approaches, check papers:\n",
        "      * [Online Correlation Clustering](https://arxiv.org/pdf/1001.0920.pdf)\n",
        "      * [Incremental Record Linkage](http://www.vldb.org/pvldb/vol7/p697-gruenheid.pdf)\n",
        "      * [Heuristic-based approaches for speeding up incremental record linkage](https://www.sciencedirect.com/science/article/pii/S0164121217302972)"
      ]
    },
    {
      "cell_type": "markdown",
      "metadata": {
        "id": "yfXIoW14A2OQ"
      },
      "source": [
        "It's worth checking the **Privacy** implications of Record Linkage:\n",
        "- Christen, chapter 8 [2]\n",
        "- [k-anonymity](https://desfontain.es/privacy/k-anonymity.html), [k-map](https://desfontain.es/privacy/k-map.html), [δ-presence](https://desfontain.es/privacy/delta-presence.html)\n",
        "- [Why differential privacy is awesome](https://desfontain.es/privacy/differential-privacy-awesomeness.html)\n",
        "\n",
        "Check also Rebeca Sarai's talk on **Privacy-preserving methods** at this PyCon US 2020."
      ]
    },
    {
      "cell_type": "markdown",
      "metadata": {
        "id": "Oq-8NUuHA2OQ"
      },
      "source": [
        "Entity Resolution has **ethical implications** that may not be solveable with privacy-preserving algorithms!\n",
        "- [Law may not be ready yet](https://www.ncrm.ac.uk/news/show.php?article=5444) to protect people's privacy from advanced Entity Resolution and Record Linkage techniques.\n",
        "- Don't link people that don't want to be linked.\n",
        "- Don't link records to de-anonymize people."
      ]
    },
    {
      "cell_type": "markdown",
      "metadata": {
        "id": "yUwjLmcVA2OQ"
      },
      "source": [
        "## References"
      ]
    },
    {
      "cell_type": "markdown",
      "metadata": {
        "id": "dqaisXWtA2OR"
      },
      "source": [
        "- **Referenced** by this talk:\n",
        "    * [1] [Mike Mull, The Art and Science of Data Matching](https://www.youtube.com/watch?v=Y-nYEOgq3YE) (slides [here](https://github.com/mikemull/Notebooks/blob/master/PyDataNYCSlides.ipynb))\n",
        "    * [2] [Peter Christen, Data Matching](http://www.springer.com/us/book/9783642311635)\n",
        "    * [3] [Mikhail Yuryevich Bilenko, Learnable Similarity Functions and Their Application to Record Linkage and Clustering](http://www.cs.utexas.edu/~ml/papers/marlin-dissertation-06.pdf)\n",
        "- Other **talks** about Record Linkage with Python:\n",
        "    * [Andrew Rowe, Big Data Deduplication and data matching using Python](https://www.youtube.com/watch?v=Z6mlvrYEYnk)\n",
        "    * [Rhydwyn Mcguire, Record linkage: Join for real life](https://www.youtube.com/watch?v=cEcVIjyHfiQ)\n",
        "- [Basics of Entity Resolution with Python and Dedupe](https://medium.com/district-data-labs/basics-of-entity-resolution-with-python-and-dedupe-bc87440b64d4)\n",
        "- [Automating your Data Cleanup with Python](https://blog.kjamistan.com/automating-your-data-cleanup-with-python/)\n",
        "- [Comparison of Data Matching software](https://github.com/J535D165/data-matching-software)\n",
        "- [Compilation of Record Linkage resources](https://github.com/ropeladder/record-linkage-resources)"
      ]
    },
    {
      "cell_type": "markdown",
      "metadata": {
        "id": "BrQ96nZBA2OR"
      },
      "source": [
        "# Thank you!\n",
        "flavio@vinta.com.br  \n",
        "[@flaviojuvenal](https://twitter.com/flaviojuvenal)  \n",
        "[vinta.com.br](https://www.vinta.com.br?dedupe-slides=1)\n",
        "\n",
        "Special thanks to Russell Keith-Magee [@freakboy3742](https://twitter.com/freakboy3742), Forest Timothy Gregg [@forestgregg](https://twitter.com/forestgregg), and Jonathan de Bruin [@J535D165](https://github.com/J535D165)."
      ]
    }
  ],
  "metadata": {
    "celltoolbar": "Slideshow",
    "kernelspec": {
      "display_name": "Python 3",
      "language": "python",
      "name": "python3"
    },
    "language_info": {
      "codemirror_mode": {
        "name": "ipython",
        "version": 3
      },
      "file_extension": ".py",
      "mimetype": "text/x-python",
      "name": "python",
      "nbconvert_exporter": "python",
      "pygments_lexer": "ipython3",
      "version": "3.7.6"
    },
    "colab": {
      "provenance": []
    }
  },
  "nbformat": 4,
  "nbformat_minor": 0
}