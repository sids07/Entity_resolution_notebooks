{
  "nbformat": 4,
  "nbformat_minor": 0,
  "metadata": {
    "colab": {
      "provenance": []
    },
    "kernelspec": {
      "name": "python3",
      "display_name": "Python 3"
    },
    "language_info": {
      "name": "python"
    },
    "gpuClass": "standard"
  },
  "cells": [
    {
      "cell_type": "code",
      "execution_count": null,
      "metadata": {
        "colab": {
          "base_uri": "https://localhost:8080/"
        },
        "id": "G8lo49UWV8ah",
        "outputId": "bdd8acb2-a189-47e6-da15-4c3e5852ada4"
      },
      "outputs": [
        {
          "output_type": "stream",
          "name": "stdout",
          "text": [
            "Looking in indexes: https://pypi.org/simple, https://us-python.pkg.dev/colab-wheels/public/simple/\n",
            "Requirement already satisfied: future in /usr/local/lib/python3.8/dist-packages (0.16.0)\n"
          ]
        }
      ],
      "source": [
        "!pip install future"
      ]
    },
    {
      "cell_type": "code",
      "source": [
        "!pip install dedupe==1.10"
      ],
      "metadata": {
        "colab": {
          "base_uri": "https://localhost:8080/"
        },
        "id": "o9cEeWnVWcjj",
        "outputId": "c236ab50-5e85-4f93-94e4-dbb985beba61"
      },
      "execution_count": null,
      "outputs": [
        {
          "output_type": "stream",
          "name": "stdout",
          "text": [
            "Looking in indexes: https://pypi.org/simple, https://us-python.pkg.dev/colab-wheels/public/simple/\n",
            "Collecting dedupe==1.10\n",
            "  Downloading dedupe-1.10.0-cp38-cp38-manylinux1_x86_64.whl (83 kB)\n",
            "\u001b[K     |████████████████████████████████| 83 kB 1.9 MB/s \n",
            "\u001b[?25hCollecting BTrees>=4.1.4\n",
            "  Downloading BTrees-4.11.3-cp38-cp38-manylinux_2_5_x86_64.manylinux1_x86_64.manylinux_2_12_x86_64.manylinux2010_x86_64.whl (3.9 MB)\n",
            "\u001b[K     |████████████████████████████████| 3.9 MB 65.3 MB/s \n",
            "\u001b[?25hCollecting simplecosine>=1.2\n",
            "  Downloading simplecosine-1.2-py2.py3-none-any.whl (3.2 kB)\n",
            "Requirement already satisfied: numpy>=1.13 in /usr/local/lib/python3.8/dist-packages (from dedupe==1.10) (1.21.6)\n",
            "Collecting Levenshtein-search\n",
            "  Downloading Levenshtein_search-1.4.5-cp38-cp38-manylinux_2_5_x86_64.manylinux1_x86_64.whl (71 kB)\n",
            "\u001b[K     |████████████████████████████████| 71 kB 9.5 MB/s \n",
            "\u001b[?25hCollecting haversine>=0.4.1\n",
            "  Downloading haversine-2.7.0-py2.py3-none-any.whl (6.9 kB)\n",
            "Collecting rlr>=2.4.3\n",
            "  Downloading rlr-2.4.6-py2.py3-none-any.whl (6.0 kB)\n",
            "Collecting affinegap>=1.3\n",
            "  Downloading affinegap-1.12-cp38-cp38-manylinux_2_5_x86_64.manylinux1_x86_64.manylinux_2_12_x86_64.manylinux2010_x86_64.whl (56 kB)\n",
            "\u001b[K     |████████████████████████████████| 56 kB 4.3 MB/s \n",
            "\u001b[?25hCollecting dedupe-hcluster\n",
            "  Downloading dedupe_hcluster-0.3.9-cp38-cp38-manylinux_2_5_x86_64.manylinux1_x86_64.manylinux_2_12_x86_64.manylinux2010_x86_64.whl (640 kB)\n",
            "\u001b[K     |████████████████████████████████| 640 kB 73.7 MB/s \n",
            "\u001b[?25hCollecting doublemetaphone\n",
            "  Downloading DoubleMetaphone-1.1-cp38-cp38-manylinux_2_5_x86_64.manylinux1_x86_64.manylinux_2_12_x86_64.manylinux2010_x86_64.whl (152 kB)\n",
            "\u001b[K     |████████████████████████████████| 152 kB 69.2 MB/s \n",
            "\u001b[?25hCollecting categorical-distance>=1.9\n",
            "  Downloading categorical_distance-1.9-py3-none-any.whl (3.3 kB)\n",
            "Collecting highered>=0.2.0\n",
            "  Downloading highered-0.2.1-py2.py3-none-any.whl (3.3 kB)\n",
            "Collecting zope.index\n",
            "  Downloading zope.index-5.2.1-cp38-cp38-manylinux_2_5_x86_64.manylinux1_x86_64.manylinux_2_12_x86_64.manylinux2010_x86_64.whl (105 kB)\n",
            "\u001b[K     |████████████████████████████████| 105 kB 66.5 MB/s \n",
            "\u001b[?25hCollecting dedupe-variable-datetime\n",
            "  Downloading dedupe_variable_datetime-0.1.5-py3-none-any.whl (4.8 kB)\n",
            "Collecting fastcluster\n",
            "  Downloading fastcluster-1.2.6-cp38-cp38-manylinux_2_5_x86_64.manylinux1_x86_64.manylinux_2_17_x86_64.manylinux2014_x86_64.whl (194 kB)\n",
            "\u001b[K     |████████████████████████████████| 194 kB 64.3 MB/s \n",
            "\u001b[?25hCollecting persistent>=4.1.0\n",
            "  Downloading persistent-4.9.3-cp38-cp38-manylinux_2_5_x86_64.manylinux1_x86_64.manylinux_2_12_x86_64.manylinux2010_x86_64.whl (260 kB)\n",
            "\u001b[K     |████████████████████████████████| 260 kB 56.7 MB/s \n",
            "\u001b[?25hCollecting zope.interface>=5.0.0\n",
            "  Downloading zope.interface-5.5.2-cp38-cp38-manylinux_2_5_x86_64.manylinux1_x86_64.manylinux_2_12_x86_64.manylinux2010_x86_64.whl (261 kB)\n",
            "\u001b[K     |████████████████████████████████| 261 kB 69.7 MB/s \n",
            "\u001b[?25hCollecting pyhacrf-datamade>=0.2.0\n",
            "  Downloading pyhacrf_datamade-0.2.6-cp38-cp38-manylinux_2_17_x86_64.manylinux2014_x86_64.whl (1.1 MB)\n",
            "\u001b[K     |████████████████████████████████| 1.1 MB 69.1 MB/s \n",
            "\u001b[?25hRequirement already satisfied: cffi in /usr/local/lib/python3.8/dist-packages (from persistent>=4.1.0->BTrees>=4.1.4->dedupe==1.10) (1.15.1)\n",
            "Collecting PyLBFGS>=0.1.3\n",
            "  Downloading PyLBFGS-0.2.0.14-cp38-cp38-manylinux_2_5_x86_64.manylinux1_x86_64.manylinux_2_12_x86_64.manylinux2010_x86_64.whl (284 kB)\n",
            "\u001b[K     |████████████████████████████████| 284 kB 81.6 MB/s \n",
            "\u001b[?25hRequirement already satisfied: setuptools in /usr/local/lib/python3.8/dist-packages (from zope.interface>=5.0.0->BTrees>=4.1.4->dedupe==1.10) (57.4.0)\n",
            "Requirement already satisfied: pycparser in /usr/local/lib/python3.8/dist-packages (from cffi->persistent>=4.1.0->BTrees>=4.1.4->dedupe==1.10) (2.21)\n",
            "Requirement already satisfied: future in /usr/local/lib/python3.8/dist-packages (from dedupe-variable-datetime->dedupe==1.10) (0.16.0)\n",
            "Collecting datetime-distance\n",
            "  Downloading datetime_distance-0.1.3-py3-none-any.whl (4.1 kB)\n",
            "Requirement already satisfied: python-dateutil>=2.6.0 in /usr/local/lib/python3.8/dist-packages (from datetime-distance->dedupe-variable-datetime->dedupe==1.10) (2.8.2)\n",
            "Requirement already satisfied: six>=1.5 in /usr/local/lib/python3.8/dist-packages (from python-dateutil>=2.6.0->datetime-distance->dedupe-variable-datetime->dedupe==1.10) (1.15.0)\n",
            "Installing collected packages: zope.interface, PyLBFGS, persistent, pyhacrf-datamade, datetime-distance, BTrees, zope.index, simplecosine, rlr, Levenshtein-search, highered, haversine, fastcluster, doublemetaphone, dedupe-variable-datetime, dedupe-hcluster, categorical-distance, affinegap, dedupe\n",
            "Successfully installed BTrees-4.11.3 Levenshtein-search-1.4.5 PyLBFGS-0.2.0.14 affinegap-1.12 categorical-distance-1.9 datetime-distance-0.1.3 dedupe-1.10.0 dedupe-hcluster-0.3.9 dedupe-variable-datetime-0.1.5 doublemetaphone-1.1 fastcluster-1.2.6 haversine-2.7.0 highered-0.2.1 persistent-4.9.3 pyhacrf-datamade-0.2.6 rlr-2.4.6 simplecosine-1.2 zope.index-5.2.1 zope.interface-5.5.2\n"
          ]
        }
      ]
    },
    {
      "cell_type": "code",
      "source": [
        "import pandas as pd\n",
        "\n",
        "data = pd.read_csv(\"/content/drive/MyDrive/data_for_ER/new_data.csv\")"
      ],
      "metadata": {
        "colab": {
          "base_uri": "https://localhost:8080/"
        },
        "id": "yQu3VIUHWelR",
        "outputId": "6f01992f-07ef-4744-f966-beea6c87036e"
      },
      "execution_count": null,
      "outputs": [
        {
          "output_type": "stream",
          "name": "stderr",
          "text": [
            "/usr/local/lib/python3.8/dist-packages/IPython/core/interactiveshell.py:3326: DtypeWarning: Columns (5,14) have mixed types.Specify dtype option on import or set low_memory=False.\n",
            "  exec(code_obj, self.user_global_ns, self.user_ns)\n"
          ]
        }
      ]
    },
    {
      "cell_type": "code",
      "source": [
        "len(data)"
      ],
      "metadata": {
        "colab": {
          "base_uri": "https://localhost:8080/"
        },
        "id": "JxjJ3NeDWjT1",
        "outputId": "3175534b-eabe-4313-fc06-8f6adf3c2062"
      },
      "execution_count": null,
      "outputs": [
        {
          "output_type": "execute_result",
          "data": {
            "text/plain": [
              "968569"
            ]
          },
          "metadata": {},
          "execution_count": 4
        }
      ]
    },
    {
      "cell_type": "code",
      "source": [
        "data.sample(10)"
      ],
      "metadata": {
        "colab": {
          "base_uri": "https://localhost:8080/",
          "height": 578
        },
        "id": "eLUY716QW11C",
        "outputId": "04f7e1b0-e219-415b-9b07-d286807f5d0e"
      },
      "execution_count": null,
      "outputs": [
        {
          "output_type": "execute_result",
          "data": {
            "text/plain": [
              "         index   NAMELAST NAMEFIRST NAMEMID     UIN   BDGNBR ACCESS_TYPE  \\\n",
              "86338    86391   VRECENAK   MELANIE       I  U03087      NaN          VA   \n",
              "387069  387214    HANDLEY     DEBRA     NaN  U71048      NaN          VA   \n",
              "327514  327646      CLARK       RAY     NaN  U73296  78690.0          VA   \n",
              "715600  715921       BELL     DEVYN       G  U12258      NaN          VA   \n",
              "788213  788534       NASH     ELIAS       B  U21787      NaN          VA   \n",
              "946941  947271     HUINER     HARVY     NaN  U41382      NaN          VA   \n",
              "898797  899126    STEWART     ZAHRA     NaN  U30392      NaN          VA   \n",
              "47305    47313   RUDERFER    STUART     NaN  U18376  74927.0          VA   \n",
              "855633  855960     GRAHAM    KENDRA     NaN  U34823      NaN          VA   \n",
              "635042  635316  MORGENSAI   MADISON     NaN  U45767      NaN          VA   \n",
              "\n",
              "                   TOA    POA              TOD  ... TERMINAL_SUFFIX  \\\n",
              "86338              NaN    NaN              NaN  ...              DC   \n",
              "387069             NaN    NaN              NaN  ...              RC   \n",
              "327514  2/19/2010 9:42  D1S01  2/19/2010 10:41  ...              KS   \n",
              "715600             NaN    NaN              NaN  ...              GB   \n",
              "788213             NaN    NaN              NaN  ...              RC   \n",
              "946941             NaN    NaN              NaN  ...              B3   \n",
              "898797             NaN    NaN              NaN  ...              B3   \n",
              "47305   6/22/2010 7:56  D1S01   6/22/2010 8:50  ...              SL   \n",
              "855633             NaN    NaN              NaN  ...              GB   \n",
              "635042             NaN    NaN              NaN  ...              P6   \n",
              "\n",
              "       visitee_namelast visitee_namefirst MEETING_LOC MEETING_ROOM  \\\n",
              "86338            OFFICE          VISITORS          WH    RESIDENCE   \n",
              "387069           OFFICE          VISITORS          WH    RESIDENCE   \n",
              "327514       MCPHILLIPS           RICHARD        OEOB          285   \n",
              "715600           OFFICE          VISITORS          WH    RESIDENCE   \n",
              "788213           OFFICE          VISITORS          WH    RESIDENCE   \n",
              "946941           OFFICE          VISITORS          WH    RESIDENCE   \n",
              "898797           OFFICE          VISITORS          WH           EW   \n",
              "47305           RUSSELL         CATHERINE        OEOB          200   \n",
              "855633           OFFICE          VISITORS          WH    RESIDENCE   \n",
              "635042           OFFICE          VISITORS          WH    RESIDENCE   \n",
              "\n",
              "        CALLER_NAME_LAST CALLER_NAME_FIRST CALLER_ROOM    Description  \\\n",
              "86338             OFFICE          VISITORS         NaN    GROUP TOURS   \n",
              "387069            OFFICE          VISITORS         NaN          TOURS   \n",
              "327514        MCPHILLIPS           RICHARD         NaN            NaN   \n",
              "715600            OFFICE          VISITORS         NaN  GROUP TOURS /   \n",
              "788213            OFFICE          VISITORS         NaN  GROUP TOURS /   \n",
              "946941            OFFICE          VISITORS         NaN          TOURS   \n",
              "898797            OFFICE          VISITORS         NaN  TENNIS SERIES   \n",
              "47305           CAMPBELL          MARGARET         NaN            NaN   \n",
              "855633            OFFICE          VISITORS         NaN     GROUP TOUR   \n",
              "635042            OFFICE          VISITORS         NaN         ADD ON   \n",
              "\n",
              "       RELEASE_DATE  \n",
              "86338     8/27/2010  \n",
              "387069    4/30/2010  \n",
              "327514    5/28/2010  \n",
              "715600          NaN  \n",
              "788213   10/29/2010  \n",
              "946941   12/31/2010  \n",
              "898797   11/26/2010  \n",
              "47305     9/24/2010  \n",
              "855633   11/26/2010  \n",
              "635042    1/29/2010  \n",
              "\n",
              "[10 rows x 29 columns]"
            ],
            "text/html": [
              "\n",
              "  <div id=\"df-9f9ee8de-b1e9-431f-b710-156821f1ffae\">\n",
              "    <div class=\"colab-df-container\">\n",
              "      <div>\n",
              "<style scoped>\n",
              "    .dataframe tbody tr th:only-of-type {\n",
              "        vertical-align: middle;\n",
              "    }\n",
              "\n",
              "    .dataframe tbody tr th {\n",
              "        vertical-align: top;\n",
              "    }\n",
              "\n",
              "    .dataframe thead th {\n",
              "        text-align: right;\n",
              "    }\n",
              "</style>\n",
              "<table border=\"1\" class=\"dataframe\">\n",
              "  <thead>\n",
              "    <tr style=\"text-align: right;\">\n",
              "      <th></th>\n",
              "      <th>index</th>\n",
              "      <th>NAMELAST</th>\n",
              "      <th>NAMEFIRST</th>\n",
              "      <th>NAMEMID</th>\n",
              "      <th>UIN</th>\n",
              "      <th>BDGNBR</th>\n",
              "      <th>ACCESS_TYPE</th>\n",
              "      <th>TOA</th>\n",
              "      <th>POA</th>\n",
              "      <th>TOD</th>\n",
              "      <th>...</th>\n",
              "      <th>TERMINAL_SUFFIX</th>\n",
              "      <th>visitee_namelast</th>\n",
              "      <th>visitee_namefirst</th>\n",
              "      <th>MEETING_LOC</th>\n",
              "      <th>MEETING_ROOM</th>\n",
              "      <th>CALLER_NAME_LAST</th>\n",
              "      <th>CALLER_NAME_FIRST</th>\n",
              "      <th>CALLER_ROOM</th>\n",
              "      <th>Description</th>\n",
              "      <th>RELEASE_DATE</th>\n",
              "    </tr>\n",
              "  </thead>\n",
              "  <tbody>\n",
              "    <tr>\n",
              "      <th>86338</th>\n",
              "      <td>86391</td>\n",
              "      <td>VRECENAK</td>\n",
              "      <td>MELANIE</td>\n",
              "      <td>I</td>\n",
              "      <td>U03087</td>\n",
              "      <td>NaN</td>\n",
              "      <td>VA</td>\n",
              "      <td>NaN</td>\n",
              "      <td>NaN</td>\n",
              "      <td>NaN</td>\n",
              "      <td>...</td>\n",
              "      <td>DC</td>\n",
              "      <td>OFFICE</td>\n",
              "      <td>VISITORS</td>\n",
              "      <td>WH</td>\n",
              "      <td>RESIDENCE</td>\n",
              "      <td>OFFICE</td>\n",
              "      <td>VISITORS</td>\n",
              "      <td>NaN</td>\n",
              "      <td>GROUP TOURS</td>\n",
              "      <td>8/27/2010</td>\n",
              "    </tr>\n",
              "    <tr>\n",
              "      <th>387069</th>\n",
              "      <td>387214</td>\n",
              "      <td>HANDLEY</td>\n",
              "      <td>DEBRA</td>\n",
              "      <td>NaN</td>\n",
              "      <td>U71048</td>\n",
              "      <td>NaN</td>\n",
              "      <td>VA</td>\n",
              "      <td>NaN</td>\n",
              "      <td>NaN</td>\n",
              "      <td>NaN</td>\n",
              "      <td>...</td>\n",
              "      <td>RC</td>\n",
              "      <td>OFFICE</td>\n",
              "      <td>VISITORS</td>\n",
              "      <td>WH</td>\n",
              "      <td>RESIDENCE</td>\n",
              "      <td>OFFICE</td>\n",
              "      <td>VISITORS</td>\n",
              "      <td>NaN</td>\n",
              "      <td>TOURS</td>\n",
              "      <td>4/30/2010</td>\n",
              "    </tr>\n",
              "    <tr>\n",
              "      <th>327514</th>\n",
              "      <td>327646</td>\n",
              "      <td>CLARK</td>\n",
              "      <td>RAY</td>\n",
              "      <td>NaN</td>\n",
              "      <td>U73296</td>\n",
              "      <td>78690.0</td>\n",
              "      <td>VA</td>\n",
              "      <td>2/19/2010 9:42</td>\n",
              "      <td>D1S01</td>\n",
              "      <td>2/19/2010 10:41</td>\n",
              "      <td>...</td>\n",
              "      <td>KS</td>\n",
              "      <td>MCPHILLIPS</td>\n",
              "      <td>RICHARD</td>\n",
              "      <td>OEOB</td>\n",
              "      <td>285</td>\n",
              "      <td>MCPHILLIPS</td>\n",
              "      <td>RICHARD</td>\n",
              "      <td>NaN</td>\n",
              "      <td>NaN</td>\n",
              "      <td>5/28/2010</td>\n",
              "    </tr>\n",
              "    <tr>\n",
              "      <th>715600</th>\n",
              "      <td>715921</td>\n",
              "      <td>BELL</td>\n",
              "      <td>DEVYN</td>\n",
              "      <td>G</td>\n",
              "      <td>U12258</td>\n",
              "      <td>NaN</td>\n",
              "      <td>VA</td>\n",
              "      <td>NaN</td>\n",
              "      <td>NaN</td>\n",
              "      <td>NaN</td>\n",
              "      <td>...</td>\n",
              "      <td>GB</td>\n",
              "      <td>OFFICE</td>\n",
              "      <td>VISITORS</td>\n",
              "      <td>WH</td>\n",
              "      <td>RESIDENCE</td>\n",
              "      <td>OFFICE</td>\n",
              "      <td>VISITORS</td>\n",
              "      <td>NaN</td>\n",
              "      <td>GROUP TOURS /</td>\n",
              "      <td>NaN</td>\n",
              "    </tr>\n",
              "    <tr>\n",
              "      <th>788213</th>\n",
              "      <td>788534</td>\n",
              "      <td>NASH</td>\n",
              "      <td>ELIAS</td>\n",
              "      <td>B</td>\n",
              "      <td>U21787</td>\n",
              "      <td>NaN</td>\n",
              "      <td>VA</td>\n",
              "      <td>NaN</td>\n",
              "      <td>NaN</td>\n",
              "      <td>NaN</td>\n",
              "      <td>...</td>\n",
              "      <td>RC</td>\n",
              "      <td>OFFICE</td>\n",
              "      <td>VISITORS</td>\n",
              "      <td>WH</td>\n",
              "      <td>RESIDENCE</td>\n",
              "      <td>OFFICE</td>\n",
              "      <td>VISITORS</td>\n",
              "      <td>NaN</td>\n",
              "      <td>GROUP TOURS /</td>\n",
              "      <td>10/29/2010</td>\n",
              "    </tr>\n",
              "    <tr>\n",
              "      <th>946941</th>\n",
              "      <td>947271</td>\n",
              "      <td>HUINER</td>\n",
              "      <td>HARVY</td>\n",
              "      <td>NaN</td>\n",
              "      <td>U41382</td>\n",
              "      <td>NaN</td>\n",
              "      <td>VA</td>\n",
              "      <td>NaN</td>\n",
              "      <td>NaN</td>\n",
              "      <td>NaN</td>\n",
              "      <td>...</td>\n",
              "      <td>B3</td>\n",
              "      <td>OFFICE</td>\n",
              "      <td>VISITORS</td>\n",
              "      <td>WH</td>\n",
              "      <td>RESIDENCE</td>\n",
              "      <td>OFFICE</td>\n",
              "      <td>VISITORS</td>\n",
              "      <td>NaN</td>\n",
              "      <td>TOURS</td>\n",
              "      <td>12/31/2010</td>\n",
              "    </tr>\n",
              "    <tr>\n",
              "      <th>898797</th>\n",
              "      <td>899126</td>\n",
              "      <td>STEWART</td>\n",
              "      <td>ZAHRA</td>\n",
              "      <td>NaN</td>\n",
              "      <td>U30392</td>\n",
              "      <td>NaN</td>\n",
              "      <td>VA</td>\n",
              "      <td>NaN</td>\n",
              "      <td>NaN</td>\n",
              "      <td>NaN</td>\n",
              "      <td>...</td>\n",
              "      <td>B3</td>\n",
              "      <td>OFFICE</td>\n",
              "      <td>VISITORS</td>\n",
              "      <td>WH</td>\n",
              "      <td>EW</td>\n",
              "      <td>OFFICE</td>\n",
              "      <td>VISITORS</td>\n",
              "      <td>NaN</td>\n",
              "      <td>TENNIS SERIES</td>\n",
              "      <td>11/26/2010</td>\n",
              "    </tr>\n",
              "    <tr>\n",
              "      <th>47305</th>\n",
              "      <td>47313</td>\n",
              "      <td>RUDERFER</td>\n",
              "      <td>STUART</td>\n",
              "      <td>NaN</td>\n",
              "      <td>U18376</td>\n",
              "      <td>74927.0</td>\n",
              "      <td>VA</td>\n",
              "      <td>6/22/2010 7:56</td>\n",
              "      <td>D1S01</td>\n",
              "      <td>6/22/2010 8:50</td>\n",
              "      <td>...</td>\n",
              "      <td>SL</td>\n",
              "      <td>RUSSELL</td>\n",
              "      <td>CATHERINE</td>\n",
              "      <td>OEOB</td>\n",
              "      <td>200</td>\n",
              "      <td>CAMPBELL</td>\n",
              "      <td>MARGARET</td>\n",
              "      <td>NaN</td>\n",
              "      <td>NaN</td>\n",
              "      <td>9/24/2010</td>\n",
              "    </tr>\n",
              "    <tr>\n",
              "      <th>855633</th>\n",
              "      <td>855960</td>\n",
              "      <td>GRAHAM</td>\n",
              "      <td>KENDRA</td>\n",
              "      <td>NaN</td>\n",
              "      <td>U34823</td>\n",
              "      <td>NaN</td>\n",
              "      <td>VA</td>\n",
              "      <td>NaN</td>\n",
              "      <td>NaN</td>\n",
              "      <td>NaN</td>\n",
              "      <td>...</td>\n",
              "      <td>GB</td>\n",
              "      <td>OFFICE</td>\n",
              "      <td>VISITORS</td>\n",
              "      <td>WH</td>\n",
              "      <td>RESIDENCE</td>\n",
              "      <td>OFFICE</td>\n",
              "      <td>VISITORS</td>\n",
              "      <td>NaN</td>\n",
              "      <td>GROUP TOUR</td>\n",
              "      <td>11/26/2010</td>\n",
              "    </tr>\n",
              "    <tr>\n",
              "      <th>635042</th>\n",
              "      <td>635316</td>\n",
              "      <td>MORGENSAI</td>\n",
              "      <td>MADISON</td>\n",
              "      <td>NaN</td>\n",
              "      <td>U45767</td>\n",
              "      <td>NaN</td>\n",
              "      <td>VA</td>\n",
              "      <td>NaN</td>\n",
              "      <td>NaN</td>\n",
              "      <td>NaN</td>\n",
              "      <td>...</td>\n",
              "      <td>P6</td>\n",
              "      <td>OFFICE</td>\n",
              "      <td>VISITORS</td>\n",
              "      <td>WH</td>\n",
              "      <td>RESIDENCE</td>\n",
              "      <td>OFFICE</td>\n",
              "      <td>VISITORS</td>\n",
              "      <td>NaN</td>\n",
              "      <td>ADD ON</td>\n",
              "      <td>1/29/2010</td>\n",
              "    </tr>\n",
              "  </tbody>\n",
              "</table>\n",
              "<p>10 rows × 29 columns</p>\n",
              "</div>\n",
              "      <button class=\"colab-df-convert\" onclick=\"convertToInteractive('df-9f9ee8de-b1e9-431f-b710-156821f1ffae')\"\n",
              "              title=\"Convert this dataframe to an interactive table.\"\n",
              "              style=\"display:none;\">\n",
              "        \n",
              "  <svg xmlns=\"http://www.w3.org/2000/svg\" height=\"24px\"viewBox=\"0 0 24 24\"\n",
              "       width=\"24px\">\n",
              "    <path d=\"M0 0h24v24H0V0z\" fill=\"none\"/>\n",
              "    <path d=\"M18.56 5.44l.94 2.06.94-2.06 2.06-.94-2.06-.94-.94-2.06-.94 2.06-2.06.94zm-11 1L8.5 8.5l.94-2.06 2.06-.94-2.06-.94L8.5 2.5l-.94 2.06-2.06.94zm10 10l.94 2.06.94-2.06 2.06-.94-2.06-.94-.94-2.06-.94 2.06-2.06.94z\"/><path d=\"M17.41 7.96l-1.37-1.37c-.4-.4-.92-.59-1.43-.59-.52 0-1.04.2-1.43.59L10.3 9.45l-7.72 7.72c-.78.78-.78 2.05 0 2.83L4 21.41c.39.39.9.59 1.41.59.51 0 1.02-.2 1.41-.59l7.78-7.78 2.81-2.81c.8-.78.8-2.07 0-2.86zM5.41 20L4 18.59l7.72-7.72 1.47 1.35L5.41 20z\"/>\n",
              "  </svg>\n",
              "      </button>\n",
              "      \n",
              "  <style>\n",
              "    .colab-df-container {\n",
              "      display:flex;\n",
              "      flex-wrap:wrap;\n",
              "      gap: 12px;\n",
              "    }\n",
              "\n",
              "    .colab-df-convert {\n",
              "      background-color: #E8F0FE;\n",
              "      border: none;\n",
              "      border-radius: 50%;\n",
              "      cursor: pointer;\n",
              "      display: none;\n",
              "      fill: #1967D2;\n",
              "      height: 32px;\n",
              "      padding: 0 0 0 0;\n",
              "      width: 32px;\n",
              "    }\n",
              "\n",
              "    .colab-df-convert:hover {\n",
              "      background-color: #E2EBFA;\n",
              "      box-shadow: 0px 1px 2px rgba(60, 64, 67, 0.3), 0px 1px 3px 1px rgba(60, 64, 67, 0.15);\n",
              "      fill: #174EA6;\n",
              "    }\n",
              "\n",
              "    [theme=dark] .colab-df-convert {\n",
              "      background-color: #3B4455;\n",
              "      fill: #D2E3FC;\n",
              "    }\n",
              "\n",
              "    [theme=dark] .colab-df-convert:hover {\n",
              "      background-color: #434B5C;\n",
              "      box-shadow: 0px 1px 3px 1px rgba(0, 0, 0, 0.15);\n",
              "      filter: drop-shadow(0px 1px 2px rgba(0, 0, 0, 0.3));\n",
              "      fill: #FFFFFF;\n",
              "    }\n",
              "  </style>\n",
              "\n",
              "      <script>\n",
              "        const buttonEl =\n",
              "          document.querySelector('#df-9f9ee8de-b1e9-431f-b710-156821f1ffae button.colab-df-convert');\n",
              "        buttonEl.style.display =\n",
              "          google.colab.kernel.accessAllowed ? 'block' : 'none';\n",
              "\n",
              "        async function convertToInteractive(key) {\n",
              "          const element = document.querySelector('#df-9f9ee8de-b1e9-431f-b710-156821f1ffae');\n",
              "          const dataTable =\n",
              "            await google.colab.kernel.invokeFunction('convertToInteractive',\n",
              "                                                     [key], {});\n",
              "          if (!dataTable) return;\n",
              "\n",
              "          const docLinkHtml = 'Like what you see? Visit the ' +\n",
              "            '<a target=\"_blank\" href=https://colab.research.google.com/notebooks/data_table.ipynb>data table notebook</a>'\n",
              "            + ' to learn more about interactive tables.';\n",
              "          element.innerHTML = '';\n",
              "          dataTable['output_type'] = 'display_data';\n",
              "          await google.colab.output.renderOutput(dataTable, element);\n",
              "          const docLink = document.createElement('div');\n",
              "          docLink.innerHTML = docLinkHtml;\n",
              "          element.appendChild(docLink);\n",
              "        }\n",
              "      </script>\n",
              "    </div>\n",
              "  </div>\n",
              "  "
            ]
          },
          "metadata": {},
          "execution_count": 5
        }
      ]
    },
    {
      "cell_type": "code",
      "source": [
        "import tempfile\n",
        "import argparse\n",
        "import csv\n",
        "import os\n",
        "import dedupe"
      ],
      "metadata": {
        "id": "uo0okmDbW45E"
      },
      "execution_count": null,
      "outputs": []
    },
    {
      "cell_type": "code",
      "source": [
        "FIELDS =  [{'field': 'NAMEFIRST',\n",
        "               'type': 'String','has missing': True},\n",
        "              {'field': 'NAMELAST',\n",
        "               'type': 'String','has missing': True},\n",
        "              {'field': 'UIN',\n",
        "               'type': 'String','has missing': True},\n",
        "              {'field': 'MEETING_LOC',\n",
        "               'type': 'String','has missing': True}\n",
        "              ]"
      ],
      "metadata": {
        "id": "OdLlEoUvXd6j"
      },
      "execution_count": null,
      "outputs": []
    },
    {
      "cell_type": "code",
      "source": [
        "%%time\n",
        "\n",
        "# Create a new deduper object and pass our data model to it.\n",
        "deduper = dedupe.Dedupe(FIELDS)"
      ],
      "metadata": {
        "colab": {
          "base_uri": "https://localhost:8080/"
        },
        "id": "jvLTY_jxXfVk",
        "outputId": "8d3d0ab1-a604-4a43-f245-4ef9956d0527"
      },
      "execution_count": null,
      "outputs": [
        {
          "output_type": "stream",
          "name": "stdout",
          "text": [
            "CPU times: user 479 µs, sys: 79 µs, total: 558 µs\n",
            "Wall time: 565 µs\n"
          ]
        }
      ]
    },
    {
      "cell_type": "code",
      "source": [
        "%%time\n",
        "\n",
        "import re\n",
        "\n",
        "def preProcess(column):\n",
        "  \"\"\"\n",
        "  Do a little bit of data cleaning with the help of Unidecode and Regex.\n",
        "  Things like casing, extra spaces, quotes and new lines can be ignored.\n",
        "  \"\"\"\n",
        "  column = re.sub('  +', ' ', column)\n",
        "  column = re.sub('\\n', ' ', column)\n",
        "  column = column.strip().strip('\"').strip(\"'\").lower().strip()\n",
        "  # If data is missing, indicate that by setting the value to `None`\n",
        "  if not column:\n",
        "    column = None\n",
        "  return column\n",
        "\n",
        "def readData(filename):\n",
        "  \"\"\"\n",
        "  Read in our data from a CSV file and create a dictionary of records,\n",
        "  where the key is a unique record ID and each value is dict\n",
        "  \"\"\"\n",
        "\n",
        "  data_d = {}\n",
        "  with open(filename) as f:\n",
        "    reader = csv.DictReader(f)\n",
        "    for row in reader:\n",
        "      clean_row = [(k, preProcess(v)) for (k, v) in row.items()]\n",
        "      row_id = int(row['index'])\n",
        "      data_d[row_id] = dict(clean_row)\n",
        "\n",
        "  return data_d"
      ],
      "metadata": {
        "colab": {
          "base_uri": "https://localhost:8080/"
        },
        "id": "rKZw-V5hYcGg",
        "outputId": "fe566c41-e0cf-45b6-bd5b-ebe46a2f28b5"
      },
      "execution_count": null,
      "outputs": [
        {
          "output_type": "stream",
          "name": "stdout",
          "text": [
            "CPU times: user 7 µs, sys: 0 ns, total: 7 µs\n",
            "Wall time: 11.9 µs\n"
          ]
        }
      ]
    },
    {
      "cell_type": "code",
      "source": [
        "%%time\n",
        "data_d = readData(\"/content/drive/MyDrive/data_for_ER/new_data.csv\")"
      ],
      "metadata": {
        "colab": {
          "base_uri": "https://localhost:8080/"
        },
        "id": "_hu2sRRUY_qV",
        "outputId": "ac9d5887-4df2-4620-8fb5-100c7dfba386"
      },
      "execution_count": null,
      "outputs": [
        {
          "output_type": "stream",
          "name": "stdout",
          "text": [
            "CPU times: user 51.7 s, sys: 1.33 s, total: 53 s\n",
            "Wall time: 53.1 s\n"
          ]
        }
      ]
    },
    {
      "cell_type": "code",
      "source": [
        "%%time\n",
        "deduper.prepare_training(data_d)"
      ],
      "metadata": {
        "colab": {
          "base_uri": "https://localhost:8080/"
        },
        "id": "s7ZUpDXfZ-ES",
        "outputId": "b791462b-c357-4977-e2bd-225c32843745"
      },
      "execution_count": null,
      "outputs": [
        {
          "output_type": "stream",
          "name": "stdout",
          "text": [
            "CPU times: user 8min 45s, sys: 3.15 s, total: 8min 48s\n",
            "Wall time: 8min 48s\n"
          ]
        }
      ]
    },
    {
      "cell_type": "code",
      "source": [
        "dedupe.consoleLabel(deduper)"
      ],
      "metadata": {
        "colab": {
          "base_uri": "https://localhost:8080/"
        },
        "id": "VUIUeXuTaETU",
        "outputId": "5da643a5-14a9-4b61-c725-c44bd43715e9"
      },
      "execution_count": null,
      "outputs": [
        {
          "output_type": "stream",
          "name": "stderr",
          "text": [
            "NAMEFIRST : matthew\n",
            "NAMELAST : leger\n",
            "UIN : u61731\n",
            "MEETING_LOC : wh\n",
            "\n",
            "NAMEFIRST : matthew\n",
            "NAMELAST : leger\n",
            "UIN : u17731\n",
            "MEETING_LOC : wh\n",
            "\n",
            "0/10 positive, 0/10 negative\n",
            "Do these records refer to the same thing?\n",
            "(y)es / (n)o / (u)nsure / (f)inished\n"
          ]
        },
        {
          "name": "stdout",
          "output_type": "stream",
          "text": [
            "1\n"
          ]
        },
        {
          "output_type": "stream",
          "name": "stderr",
          "text": [
            "(y)es / (n)o / (u)nsure / (f)inished\n"
          ]
        },
        {
          "name": "stdout",
          "output_type": "stream",
          "text": [
            "y\n"
          ]
        },
        {
          "output_type": "stream",
          "name": "stderr",
          "text": [
            "NAMEFIRST : judith\n",
            "NAMELAST : matheny\n",
            "UIN : u34185\n",
            "MEETING_LOC : wh\n",
            "\n",
            "NAMEFIRST : None\n",
            "NAMELAST : katherine\n",
            "UIN : None\n",
            "MEETING_LOC : vpr\n",
            "\n",
            "1/10 positive, 0/10 negative\n",
            "Do these records refer to the same thing?\n",
            "(y)es / (n)o / (u)nsure / (f)inished / (p)revious\n"
          ]
        },
        {
          "name": "stdout",
          "output_type": "stream",
          "text": [
            "n\n"
          ]
        },
        {
          "output_type": "stream",
          "name": "stderr",
          "text": [
            "NAMEFIRST : jeanne\n",
            "NAMELAST : lambrew\n",
            "UIN : u18457\n",
            "MEETING_LOC : oeob\n",
            "\n",
            "NAMEFIRST : jeanne\n",
            "NAMELAST : lambrew\n",
            "UIN : u18744\n",
            "MEETING_LOC : wh\n",
            "\n",
            "1/10 positive, 1/10 negative\n",
            "Do these records refer to the same thing?\n",
            "(y)es / (n)o / (u)nsure / (f)inished / (p)revious\n"
          ]
        },
        {
          "name": "stdout",
          "output_type": "stream",
          "text": [
            "n\n"
          ]
        },
        {
          "output_type": "stream",
          "name": "stderr",
          "text": [
            "NAMEFIRST : jasmine\n",
            "NAMELAST : jones\n",
            "UIN : u06670\n",
            "MEETING_LOC : wh\n",
            "\n",
            "NAMEFIRST : jasmine\n",
            "NAMELAST : jones\n",
            "UIN : u40642\n",
            "MEETING_LOC : wh\n",
            "\n",
            "1/10 positive, 2/10 negative\n",
            "Do these records refer to the same thing?\n",
            "(y)es / (n)o / (u)nsure / (f)inished / (p)revious\n"
          ]
        },
        {
          "name": "stdout",
          "output_type": "stream",
          "text": [
            "y\n"
          ]
        },
        {
          "output_type": "stream",
          "name": "stderr",
          "text": [
            "NAMEFIRST : michael\n",
            "NAMELAST : lewis\n",
            "UIN : u30893\n",
            "MEETING_LOC : wh\n",
            "\n",
            "NAMEFIRST : michelle\n",
            "NAMELAST : lewis\n",
            "UIN : u30893\n",
            "MEETING_LOC : wh\n",
            "\n",
            "2/10 positive, 2/10 negative\n",
            "Do these records refer to the same thing?\n",
            "(y)es / (n)o / (u)nsure / (f)inished / (p)revious\n"
          ]
        },
        {
          "name": "stdout",
          "output_type": "stream",
          "text": [
            "n\n"
          ]
        },
        {
          "output_type": "stream",
          "name": "stderr",
          "text": [
            "NAMEFIRST : elizabeth\n",
            "NAMELAST : daunno\n",
            "UIN : u23225\n",
            "MEETING_LOC : wh\n",
            "\n",
            "NAMEFIRST : lisa\n",
            "NAMELAST : daunno\n",
            "UIN : u23225\n",
            "MEETING_LOC : wh\n",
            "\n",
            "2/10 positive, 3/10 negative\n",
            "Do these records refer to the same thing?\n",
            "(y)es / (n)o / (u)nsure / (f)inished / (p)revious\n"
          ]
        },
        {
          "name": "stdout",
          "output_type": "stream",
          "text": [
            "n\n"
          ]
        },
        {
          "output_type": "stream",
          "name": "stderr",
          "text": [
            "NAMEFIRST : michael\n",
            "NAMELAST : coverstone\n",
            "UIN : u60372\n",
            "MEETING_LOC : wh\n",
            "\n",
            "NAMEFIRST : michael\n",
            "NAMELAST : ho\n",
            "UIN : u12848\n",
            "MEETING_LOC : wh\n",
            "\n",
            "2/10 positive, 4/10 negative\n",
            "Do these records refer to the same thing?\n",
            "(y)es / (n)o / (u)nsure / (f)inished / (p)revious\n"
          ]
        },
        {
          "name": "stdout",
          "output_type": "stream",
          "text": [
            "n\n"
          ]
        },
        {
          "output_type": "stream",
          "name": "stderr",
          "text": [
            "NAMEFIRST : susan\n",
            "NAMELAST : scherr\n",
            "UIN : u05174\n",
            "MEETING_LOC : wh\n",
            "\n",
            "NAMEFIRST : susan\n",
            "NAMELAST : sahm\n",
            "UIN : open11\n",
            "MEETING_LOC : wh\n",
            "\n",
            "2/10 positive, 5/10 negative\n",
            "Do these records refer to the same thing?\n",
            "(y)es / (n)o / (u)nsure / (f)inished / (p)revious\n"
          ]
        },
        {
          "name": "stdout",
          "output_type": "stream",
          "text": [
            "n\n"
          ]
        },
        {
          "output_type": "stream",
          "name": "stderr",
          "text": [
            "NAMEFIRST : thomas\n",
            "NAMELAST : freebairn\n",
            "UIN : u52634\n",
            "MEETING_LOC : neob\n",
            "\n",
            "NAMEFIRST : thomas\n",
            "NAMELAST : freebairn\n",
            "UIN : u53988\n",
            "MEETING_LOC : oeob\n",
            "\n",
            "2/10 positive, 6/10 negative\n",
            "Do these records refer to the same thing?\n",
            "(y)es / (n)o / (u)nsure / (f)inished / (p)revious\n"
          ]
        },
        {
          "name": "stdout",
          "output_type": "stream",
          "text": [
            "y\n"
          ]
        },
        {
          "output_type": "stream",
          "name": "stderr",
          "text": [
            "NAMEFIRST : emily\n",
            "NAMELAST : arciniega\n",
            "UIN : open07\n",
            "MEETING_LOC : wh\n",
            "\n",
            "NAMEFIRST : emily\n",
            "NAMELAST : arciniega\n",
            "UIN : u62451\n",
            "MEETING_LOC : wh\n",
            "\n",
            "3/10 positive, 6/10 negative\n",
            "Do these records refer to the same thing?\n",
            "(y)es / (n)o / (u)nsure / (f)inished / (p)revious\n"
          ]
        },
        {
          "name": "stdout",
          "output_type": "stream",
          "text": [
            "y\n"
          ]
        },
        {
          "output_type": "stream",
          "name": "stderr",
          "text": [
            "NAMEFIRST : michael\n",
            "NAMELAST : holland\n",
            "UIN : u03020\n",
            "MEETING_LOC : neob\n",
            "\n",
            "NAMEFIRST : michael\n",
            "NAMELAST : holland\n",
            "UIN : u55169\n",
            "MEETING_LOC : oeob\n",
            "\n",
            "4/10 positive, 6/10 negative\n",
            "Do these records refer to the same thing?\n",
            "(y)es / (n)o / (u)nsure / (f)inished / (p)revious\n"
          ]
        },
        {
          "name": "stdout",
          "output_type": "stream",
          "text": [
            "y\n"
          ]
        },
        {
          "output_type": "stream",
          "name": "stderr",
          "text": [
            "NAMEFIRST : jenseena\n",
            "NAMELAST : macgregor\n",
            "UIN : u45778\n",
            "MEETING_LOC : wh\n",
            "\n",
            "NAMEFIRST : jesse\n",
            "NAMELAST : macgregor\n",
            "UIN : u20850\n",
            "MEETING_LOC : wh\n",
            "\n",
            "5/10 positive, 6/10 negative\n",
            "Do these records refer to the same thing?\n",
            "(y)es / (n)o / (u)nsure / (f)inished / (p)revious\n"
          ]
        },
        {
          "name": "stdout",
          "output_type": "stream",
          "text": [
            "n\n"
          ]
        },
        {
          "output_type": "stream",
          "name": "stderr",
          "text": [
            "NAMEFIRST : mark\n",
            "NAMELAST : taylor\n",
            "UIN : sa1124\n",
            "MEETING_LOC : wh\n",
            "\n",
            "NAMEFIRST : marilyn\n",
            "NAMELAST : taylor\n",
            "UIN : u46365\n",
            "MEETING_LOC : wh\n",
            "\n",
            "5/10 positive, 7/10 negative\n",
            "Do these records refer to the same thing?\n",
            "(y)es / (n)o / (u)nsure / (f)inished / (p)revious\n"
          ]
        },
        {
          "name": "stdout",
          "output_type": "stream",
          "text": [
            "n\n"
          ]
        },
        {
          "output_type": "stream",
          "name": "stderr",
          "text": [
            "NAMEFIRST : marita\n",
            "NAMELAST : young\n",
            "UIN : u03702\n",
            "MEETING_LOC : wh\n",
            "\n",
            "NAMEFIRST : mary\n",
            "NAMELAST : young\n",
            "UIN : u18777\n",
            "MEETING_LOC : wh\n",
            "\n",
            "5/10 positive, 8/10 negative\n",
            "Do these records refer to the same thing?\n",
            "(y)es / (n)o / (u)nsure / (f)inished / (p)revious\n"
          ]
        },
        {
          "name": "stdout",
          "output_type": "stream",
          "text": [
            "n\n"
          ]
        },
        {
          "output_type": "stream",
          "name": "stderr",
          "text": [
            "NAMEFIRST : jesse\n",
            "NAMELAST : carpenter\n",
            "UIN : u01015\n",
            "MEETING_LOC : wh\n",
            "\n",
            "NAMEFIRST : jesse\n",
            "NAMELAST : earl\n",
            "UIN : u00017\n",
            "MEETING_LOC : wh\n",
            "\n",
            "5/10 positive, 9/10 negative\n",
            "Do these records refer to the same thing?\n",
            "(y)es / (n)o / (u)nsure / (f)inished / (p)revious\n"
          ]
        },
        {
          "name": "stdout",
          "output_type": "stream",
          "text": [
            "n\n"
          ]
        },
        {
          "output_type": "stream",
          "name": "stderr",
          "text": [
            "NAMEFIRST : shirley\n",
            "NAMELAST : andersonfrashier\n",
            "UIN : u40740\n",
            "MEETING_LOC : wh\n",
            "\n",
            "NAMEFIRST : shirley\n",
            "NAMELAST : allen\n",
            "UIN : u40961\n",
            "MEETING_LOC : wh\n",
            "\n",
            "5/10 positive, 10/10 negative\n",
            "Do these records refer to the same thing?\n",
            "(y)es / (n)o / (u)nsure / (f)inished / (p)revious\n"
          ]
        },
        {
          "name": "stdout",
          "output_type": "stream",
          "text": [
            "n\n"
          ]
        },
        {
          "output_type": "stream",
          "name": "stderr",
          "text": [
            "NAMEFIRST : lorena\n",
            "NAMELAST : drago\n",
            "UIN : u07979\n",
            "MEETING_LOC : wh\n",
            "\n",
            "NAMEFIRST : lorena\n",
            "NAMELAST : drago\n",
            "UIN : starmx\n",
            "MEETING_LOC : wh\n",
            "\n",
            "5/10 positive, 11/10 negative\n",
            "Do these records refer to the same thing?\n",
            "(y)es / (n)o / (u)nsure / (f)inished / (p)revious\n"
          ]
        },
        {
          "name": "stdout",
          "output_type": "stream",
          "text": [
            "y\n"
          ]
        },
        {
          "output_type": "stream",
          "name": "stderr",
          "text": [
            "NAMEFIRST : laura\n",
            "NAMELAST : bernal\n",
            "UIN : u04843\n",
            "MEETING_LOC : wh\n",
            "\n",
            "NAMEFIRST : laura\n",
            "NAMELAST : bernal\n",
            "UIN : u78420\n",
            "MEETING_LOC : wh\n",
            "\n",
            "6/10 positive, 11/10 negative\n",
            "Do these records refer to the same thing?\n",
            "(y)es / (n)o / (u)nsure / (f)inished / (p)revious\n"
          ]
        },
        {
          "name": "stdout",
          "output_type": "stream",
          "text": [
            "y\n"
          ]
        },
        {
          "output_type": "stream",
          "name": "stderr",
          "text": [
            "NAMEFIRST : lee\n",
            "NAMELAST : sachs\n",
            "UIN : u00174\n",
            "MEETING_LOC : oeob\n",
            "\n",
            "NAMEFIRST : lee\n",
            "NAMELAST : sachs\n",
            "UIN : u82336\n",
            "MEETING_LOC : oeob\n",
            "\n",
            "7/10 positive, 11/10 negative\n",
            "Do these records refer to the same thing?\n",
            "(y)es / (n)o / (u)nsure / (f)inished / (p)revious\n"
          ]
        },
        {
          "name": "stdout",
          "output_type": "stream",
          "text": [
            "y\n"
          ]
        },
        {
          "output_type": "stream",
          "name": "stderr",
          "text": [
            "NAMEFIRST : elinda\n",
            "NAMELAST : gaa\n",
            "UIN : u94550\n",
            "MEETING_LOC : wh\n",
            "\n",
            "NAMEFIRST : erlinda\n",
            "NAMELAST : gaa\n",
            "UIN : u47878\n",
            "MEETING_LOC : wh\n",
            "\n",
            "8/10 positive, 11/10 negative\n",
            "Do these records refer to the same thing?\n",
            "(y)es / (n)o / (u)nsure / (f)inished / (p)revious\n"
          ]
        },
        {
          "name": "stdout",
          "output_type": "stream",
          "text": [
            "y\n"
          ]
        },
        {
          "output_type": "stream",
          "name": "stderr",
          "text": [
            "NAMEFIRST : judith\n",
            "NAMELAST : payne\n",
            "UIN : u07630\n",
            "MEETING_LOC : wh\n",
            "\n",
            "NAMEFIRST : judith\n",
            "NAMELAST : payne\n",
            "UIN : u98806\n",
            "MEETING_LOC : wh\n",
            "\n",
            "9/10 positive, 11/10 negative\n",
            "Do these records refer to the same thing?\n",
            "(y)es / (n)o / (u)nsure / (f)inished / (p)revious\n"
          ]
        },
        {
          "name": "stdout",
          "output_type": "stream",
          "text": [
            "y\n"
          ]
        },
        {
          "output_type": "stream",
          "name": "stderr",
          "text": [
            "NAMEFIRST : tanisha\n",
            "NAMELAST : dozier\n",
            "UIN : u90977\n",
            "MEETING_LOC : wh\n",
            "\n",
            "NAMEFIRST : ladis\n",
            "NAMELAST : dozier\n",
            "UIN : u56433\n",
            "MEETING_LOC : wh\n",
            "\n",
            "10/10 positive, 11/10 negative\n",
            "Do these records refer to the same thing?\n",
            "(y)es / (n)o / (u)nsure / (f)inished / (p)revious\n"
          ]
        },
        {
          "name": "stdout",
          "output_type": "stream",
          "text": [
            "f\n"
          ]
        },
        {
          "output_type": "stream",
          "name": "stderr",
          "text": [
            "Finished labeling\n"
          ]
        }
      ]
    },
    {
      "cell_type": "code",
      "source": [
        "%%time\n",
        "\n",
        "deduper.train()"
      ],
      "metadata": {
        "colab": {
          "base_uri": "https://localhost:8080/"
        },
        "id": "t-8kW3W6fDxr",
        "outputId": "42a890c2-46ce-40db-9ece-e2e6af2d1d70"
      },
      "execution_count": null,
      "outputs": [
        {
          "output_type": "stream",
          "name": "stdout",
          "text": [
            "CPU times: user 2.54 s, sys: 563 ms, total: 3.1 s\n",
            "Wall time: 2.53 s\n"
          ]
        }
      ]
    },
    {
      "cell_type": "code",
      "source": [],
      "metadata": {
        "id": "1zVKwRf3gAc9"
      },
      "execution_count": null,
      "outputs": []
    }
  ]
}